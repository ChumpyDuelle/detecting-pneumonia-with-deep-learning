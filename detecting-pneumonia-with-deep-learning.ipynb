{
 "cells": [
  {
   "cell_type": "markdown",
   "metadata": {},
   "source": [
    "![x-ray](images/person100_bacteria_475.jpeg)"
   ]
  },
  {
   "cell_type": "markdown",
   "metadata": {},
   "source": [
    "# Detecting Pneumonia with Deep Learning\n",
    "\n",
    "**Authors:** Ian Butler, Red the dog\n",
    "\n",
    "***"
   ]
  },
  {
   "cell_type": "markdown",
   "metadata": {},
   "source": [
    "## Overview\n",
    "\n",
    "A one-paragraph overview of the project, including the business problem, data, methods, results and recommendations.\n",
    "\n",
    "In undeveloped areas of the world, pneumonia is one of the top five leading causes of death in children under the age of five. This project seeks to use deep learning neural networks to predict whether or not children have pneumonia so that proper treatment can be administered more quickly and more effectively. The data we used comes from the Guangzhou Women and Children’s Medical Center in Guangzhou, China and is a collection of chest x-rays of children between the ages of 1 and 5. We used densely connected neural networks and convolutional neural networks to achieve a classification accuracy of 95% on unseen data. Based on the performance of this neural network, we recommend undeveloped communities adopt this model in for use with the chest x-rays they already have access to, in order to expedite the diagnostic process and save lives.\n",
    "\n",
    "***"
   ]
  },
  {
   "cell_type": "markdown",
   "metadata": {},
   "source": [
    "## Objectives\n",
    "\n",
    "A summary of the problems we are trying to solve and the data questions that we plan to answer to solve them.\n",
    "\n",
    "***\n",
    "\n",
    "Questions to consider:\n",
    "* What are the organization's pain points related to this project?\n",
    "    * Pneumonia is among the top five causes of death in children under the age of five in undeveloped areas of the world.\n",
    "    * Testing for pneumonia in these areas is difficult, on account of the lack of qualified medical personnel and equipment.\n",
    "    * More children could be treated if their sickness was properly identified more quickly and with less expense.\n",
    "\n",
    "***"
   ]
  },
  {
   "cell_type": "markdown",
   "metadata": {},
   "source": [
    "## Data Understanding\n",
    "\n",
    "A description of the data being used for this project.\n",
    "\n",
    "***\n",
    "\n",
    "Questions to consider:\n",
    "* Where did the data come from, and how do they relate to the data analysis questions?\n",
    "    * The data comes to us from Kaggle.\n",
    "    * The data comes originally from the Guangzhou Women and Children’s Medical Center in Guangzhou, China.\n",
    "    * The data relates to the project in that it is a collection of chest x-rays of normal and pneumonic lungs.\n",
    "* What do the data represent? Who is in the sample?\n",
    "    * Each entry in the data is one chest x-ray, having normal lung condition, viral pneumonia, or bacterial pneumonia.\n",
    "    * The sample consists of 5,856 of pediatric patients one to five years old.\n",
    "* What is the target class?\n",
    "    * The target class is whether a patient has normal lungs or pneumonic lungs.\n",
    "    * There is no distinction in this project between identifying viral or bacterial pneumonia.\n",
    "\n",
    "For further reading on the data in the environment from which it was accessed, please consult the following URL:\n",
    "https://www.kaggle.com/datasets/paultimothymooney/chest-xray-pneumonia\n",
    "\n",
    "A brief description of the data from the above site is as follows:\n",
    "\n",
    "\"The dataset is organized into 3 folders (train, test, val) and contains subfolders for each image category (Pneumonia/Normal). There are 5,863 X-Ray images (JPEG) and 2 categories (Pneumonia/Normal).\n",
    "\n",
    "Chest X-ray images (anterior-posterior) were selected from retrospective cohorts of pediatric patients of one to five years old from Guangzhou Women and Children’s Medical Center, Guangzhou. All chest X-ray imaging was performed as part of patients’ routine clinical care.\n",
    "\n",
    "For the analysis of chest x-ray images, all chest radiographs were initially screened for quality control by removing all low quality or unreadable scans. The diagnoses for the images were then graded by two expert physicians before being cleared for training the AI system. In order to account for any grading errors, the evaluation set was also checked by a third expert.\"\n",
    "\n",
    "***"
   ]
  },
  {
   "cell_type": "markdown",
   "metadata": {},
   "source": [
    "## Data Preparation\n",
    "\n",
    "***"
   ]
  },
  {
   "cell_type": "markdown",
   "metadata": {},
   "source": [
    "Let us begin by importing all of the packages we will be using in this project."
   ]
  },
  {
   "cell_type": "code",
   "execution_count": 1,
   "metadata": {},
   "outputs": [],
   "source": [
    "# Import standard packages\n",
    "import pandas as pd\n",
    "import numpy as np\n",
    "import matplotlib.pyplot as plt\n",
    "import seaborn as sns\n",
    "import time\n",
    "import scipy\n",
    "import keras\n",
    "from PIL import Image\n",
    "from scipy import ndimage\n",
    "from sklearn.model_selection import train_test_split\n",
    "from keras import regularizers\n",
    "from keras import models\n",
    "from keras import layers\n",
    "from keras.preprocessing.image import ImageDataGenerator\n",
    "from keras.preprocessing.image import array_to_img\n",
    "from keras.preprocessing.image import img_to_array\n",
    "from keras.preprocessing.image import load_img\n",
    "from tensorflow.keras.models import Sequential\n",
    "from tensorflow.keras.layers import BatchNormalization\n",
    "from tensorflow.keras.layers import Conv2D\n",
    "from tensorflow.keras.layers import Activation\n",
    "from tensorflow.keras.layers import Flatten\n",
    "from tensorflow.keras.layers import Dropout\n",
    "from tensorflow.keras.layers import Dense\n",
    "from tensorflow.keras import backend as K\n",
    "\n",
    "%matplotlib inline\n",
    "\n",
    "np.random.seed(42)"
   ]
  },
  {
   "cell_type": "markdown",
   "metadata": {},
   "source": [
    "Now that we have our packages, let us create some variables for use in bringing in our data."
   ]
  },
  {
   "cell_type": "code",
   "execution_count": 2,
   "metadata": {},
   "outputs": [],
   "source": [
    "test_folder = './data/chest_xray/test/'\n",
    "val_folder = './data/chest_xray/val/'\n",
    "train_folder = './data/chest_xray/train/'"
   ]
  },
  {
   "cell_type": "markdown",
   "metadata": {},
   "source": [
    "Now that we have our file paths established as variables, let us set up our data architecture with those directories.<br>We will do this for three sizes of reduced images: 64x64, 128x128, and 256x256.<br>Note that the batch size is an additive integer indicative of the number of images in the normal and pneumonic folders, respectively."
   ]
  },
  {
   "cell_type": "code",
   "execution_count": 3,
   "metadata": {},
   "outputs": [
    {
     "name": "stdout",
     "output_type": "stream",
     "text": [
      "Found 624 images belonging to 2 classes.\n",
      "Found 16 images belonging to 2 classes.\n",
      "Found 5216 images belonging to 2 classes.\n"
     ]
    }
   ],
   "source": [
    "# get all the data in the directory ./data/chest_xray/test/ (234+390 images), and reshape them to 64x64\n",
    "test_generator64 = ImageDataGenerator(rescale=1./255).flow_from_directory(\n",
    "        test_folder, \n",
    "        target_size=(64, 64), batch_size = 234+390) \n",
    "\n",
    "# get all the data in the directory ./data/chest_xray/val/ (8+8 images), and reshape them to 64x64\n",
    "val_generator64 = ImageDataGenerator(rescale=1./255).flow_from_directory(\n",
    "        val_folder, \n",
    "        target_size=(64, 64), batch_size = 8+8)\n",
    "\n",
    "# get all the data in the directory ./data/chest_xray/train/ (1341+3875 images), and reshape them to 64x64\n",
    "train_generator64 = ImageDataGenerator(rescale=1./255).flow_from_directory(\n",
    "        train_folder, \n",
    "        target_size=(64, 64), batch_size=1341+3875)"
   ]
  },
  {
   "cell_type": "code",
   "execution_count": 4,
   "metadata": {},
   "outputs": [
    {
     "name": "stdout",
     "output_type": "stream",
     "text": [
      "Found 624 images belonging to 2 classes.\n",
      "Found 16 images belonging to 2 classes.\n",
      "Found 5216 images belonging to 2 classes.\n"
     ]
    }
   ],
   "source": [
    "# get all the data in the directory ./data/chest_xray/test/ (234+390 images), and reshape them to 128x128\n",
    "test_generator128 = ImageDataGenerator(rescale=1./255).flow_from_directory(\n",
    "        test_folder, \n",
    "        target_size=(128, 128), batch_size = 234+390) \n",
    "\n",
    "# get all the data in the directory ./data/chest_xray/val/ (8+8 images), and reshape them to 128x128\n",
    "val_generator128 = ImageDataGenerator(rescale=1./255).flow_from_directory(\n",
    "        val_folder, \n",
    "        target_size=(128, 128), batch_size = 8+8)\n",
    "\n",
    "# get all the data in the directory ./data/chest_xray/train/ (1341+3875 images), and reshape them to 128x128\n",
    "train_generator128 = ImageDataGenerator(rescale=1./255).flow_from_directory(\n",
    "        train_folder, \n",
    "        target_size=(128, 128), batch_size=1341+3875)"
   ]
  },
  {
   "cell_type": "code",
   "execution_count": 5,
   "metadata": {},
   "outputs": [
    {
     "name": "stdout",
     "output_type": "stream",
     "text": [
      "Found 624 images belonging to 2 classes.\n",
      "Found 16 images belonging to 2 classes.\n",
      "Found 5216 images belonging to 2 classes.\n"
     ]
    }
   ],
   "source": [
    "# get all the data in the directory ./data/chest_xray/test/ (234+390 images), and reshape them to 256x256\n",
    "test_generator256 = ImageDataGenerator(rescale=1./255).flow_from_directory(\n",
    "        test_folder, \n",
    "        target_size=(256, 256), batch_size = 234+390) \n",
    "\n",
    "# get all the data in the directory ./data/chest_xray/val/ (8+8 images), and reshape them to 256x256\n",
    "val_generator256 = ImageDataGenerator(rescale=1./255).flow_from_directory(\n",
    "        val_folder, \n",
    "        target_size=(256, 256), batch_size = 8+8)\n",
    "\n",
    "# get all the data in the directory ./data/chest_xray/train/ (1341+3875 images), and reshape them to 256x256\n",
    "train_generator256 = ImageDataGenerator(rescale=1./255).flow_from_directory(\n",
    "        train_folder, \n",
    "        target_size=(256, 256), batch_size=1341+3875)"
   ]
  },
  {
   "cell_type": "markdown",
   "metadata": {},
   "source": [
    "Now that we have our data architecture established, let us actually create the image arrays and label arrays for our data."
   ]
  },
  {
   "cell_type": "code",
   "execution_count": 6,
   "metadata": {},
   "outputs": [],
   "source": [
    "# create the data sets for 64x64\n",
    "train_images64, train_labels64 = next(train_generator64)\n",
    "test_images64, test_labels64 = next(test_generator64)\n",
    "val_images64, val_labels64 = next(val_generator64)"
   ]
  },
  {
   "cell_type": "code",
   "execution_count": 7,
   "metadata": {},
   "outputs": [],
   "source": [
    "# create the data sets for 128x128\n",
    "train_images128, train_labels128 = next(train_generator128)\n",
    "test_images128, test_labels128 = next(test_generator128)\n",
    "val_images128, val_labels128 = next(val_generator128)"
   ]
  },
  {
   "cell_type": "code",
   "execution_count": 8,
   "metadata": {},
   "outputs": [],
   "source": [
    "# create the data sets for 256x256\n",
    "train_images256, train_labels256 = next(train_generator256)\n",
    "test_images256, test_labels256 = next(test_generator256)\n",
    "val_images256, val_labels256 = next(val_generator256)"
   ]
  },
  {
   "cell_type": "markdown",
   "metadata": {},
   "source": [
    "Now that we have created the arrays, let us perform some simple data exploration with them to understand what we have."
   ]
  },
  {
   "cell_type": "code",
   "execution_count": 9,
   "metadata": {},
   "outputs": [
    {
     "name": "stdout",
     "output_type": "stream",
     "text": [
      "Number of training samples: 5216\n",
      "Number of testing samples: 624\n",
      "Number of validation samples: 16\n",
      "train_images shape: (5216, 64, 64, 3)\n",
      "train_labels shape: (5216, 2)\n",
      "test_images shape: (624, 64, 64, 3)\n",
      "test_labels shape: (624, 2)\n",
      "val_images shape: (16, 64, 64, 3)\n",
      "val_labels shape: (16, 2)\n"
     ]
    }
   ],
   "source": [
    "# Explore the 64x64 dataset\n",
    "m_train64 = train_images64.shape[0]\n",
    "num_px64 = train_images64.shape[1]\n",
    "m_test64 = test_images64.shape[0]\n",
    "m_val64 = val_images64.shape[0]\n",
    "\n",
    "print (\"Number of training samples: \" + str(m_train64))\n",
    "print (\"Number of testing samples: \" + str(m_test64))\n",
    "print (\"Number of validation samples: \" + str(m_val64))\n",
    "print (\"train_images shape: \" + str(train_images64.shape))\n",
    "print (\"train_labels shape: \" + str(train_labels64.shape))\n",
    "print (\"test_images shape: \" + str(test_images64.shape))\n",
    "print (\"test_labels shape: \" + str(test_labels64.shape))\n",
    "print (\"val_images shape: \" + str(val_images64.shape))\n",
    "print (\"val_labels shape: \" + str(val_labels64.shape))"
   ]
  },
  {
   "cell_type": "code",
   "execution_count": 10,
   "metadata": {},
   "outputs": [
    {
     "name": "stdout",
     "output_type": "stream",
     "text": [
      "Number of training samples: 5216\n",
      "Number of testing samples: 624\n",
      "Number of validation samples: 16\n",
      "train_images shape: (5216, 128, 128, 3)\n",
      "train_labels shape: (5216, 2)\n",
      "test_images shape: (624, 128, 128, 3)\n",
      "test_labels shape: (624, 2)\n",
      "val_images shape: (16, 128, 128, 3)\n",
      "val_labels shape: (16, 2)\n"
     ]
    }
   ],
   "source": [
    "# Explore the 128x128 dataset\n",
    "m_train128 = train_images128.shape[0]\n",
    "num_p128 = train_images128.shape[1]\n",
    "m_test128 = test_images128.shape[0]\n",
    "m_val128 = val_images128.shape[0]\n",
    "\n",
    "print (\"Number of training samples: \" + str(m_train128))\n",
    "print (\"Number of testing samples: \" + str(m_test128))\n",
    "print (\"Number of validation samples: \" + str(m_val128))\n",
    "print (\"train_images shape: \" + str(train_images128.shape))\n",
    "print (\"train_labels shape: \" + str(train_labels128.shape))\n",
    "print (\"test_images shape: \" + str(test_images128.shape))\n",
    "print (\"test_labels shape: \" + str(test_labels128.shape))\n",
    "print (\"val_images shape: \" + str(val_images128.shape))\n",
    "print (\"val_labels shape: \" + str(val_labels128.shape))"
   ]
  },
  {
   "cell_type": "code",
   "execution_count": 11,
   "metadata": {},
   "outputs": [
    {
     "name": "stdout",
     "output_type": "stream",
     "text": [
      "Number of training samples: 5216\n",
      "Number of testing samples: 624\n",
      "Number of validation samples: 16\n",
      "train_images shape: (5216, 256, 256, 3)\n",
      "train_labels shape: (5216, 2)\n",
      "test_images shape: (624, 256, 256, 3)\n",
      "test_labels shape: (624, 2)\n",
      "val_images shape: (16, 256, 256, 3)\n",
      "val_labels shape: (16, 2)\n"
     ]
    }
   ],
   "source": [
    "# Explore the 256x256 dataset\n",
    "m_train256 = train_images256.shape[0]\n",
    "num_p256 = train_images256.shape[1]\n",
    "m_test256 = test_images256.shape[0]\n",
    "m_val256 = val_images256.shape[0]\n",
    "\n",
    "print (\"Number of training samples: \" + str(m_train256))\n",
    "print (\"Number of testing samples: \" + str(m_test256))\n",
    "print (\"Number of validation samples: \" + str(m_val256))\n",
    "print (\"train_images shape: \" + str(train_images256.shape))\n",
    "print (\"train_labels shape: \" + str(train_labels256.shape))\n",
    "print (\"test_images shape: \" + str(test_images256.shape))\n",
    "print (\"test_labels shape: \" + str(test_labels256.shape))\n",
    "print (\"val_images shape: \" + str(val_images256.shape))\n",
    "print (\"val_labels shape: \" + str(val_labels256.shape))"
   ]
  },
  {
   "cell_type": "markdown",
   "metadata": {},
   "source": [
    "At this point, it is worth noting the following things:\n",
    "\n",
    "* There are 5216 images in any given training set.\n",
    "* There are 16 images in any given validation set.\n",
    "* There are 624 images in any given test set.\n",
    "\n",
    "Looking back on the project at the close, I can say with confidence that this original split was the source of much poor performance by every model we created. Eventually, we did come to realize that the split itself might have been an issue, and a new split was made to rectify this issue. This will be demonstrated shortly."
   ]
  },
  {
   "cell_type": "markdown",
   "metadata": {},
   "source": [
    "Now that we've taken a look at how the target is distributed, let's whip up a visualization to more easily digest it."
   ]
  },
  {
   "cell_type": "code",
   "execution_count": 12,
   "metadata": {},
   "outputs": [
    {
     "data": {
      "text/plain": [
       "5216"
      ]
     },
     "execution_count": 12,
     "metadata": {},
     "output_type": "execute_result"
    }
   ],
   "source": [
    "pd.DataFrame(train_labels64)[1].value_counts().sum()"
   ]
  },
  {
   "cell_type": "code",
   "execution_count": 13,
   "metadata": {},
   "outputs": [
    {
     "data": {
      "text/plain": [
       "''"
      ]
     },
     "execution_count": 13,
     "metadata": {},
     "output_type": "execute_result"
    },
    {
     "data": {
      "image/png": "[encoded data removed]",
      "text/plain": [
       "<Figure size 921.6x691.2 with 1 Axes>"
      ]
     },
     "metadata": {
      "needs_background": "light"
     },
     "output_type": "display_data"
    }
   ],
   "source": [
    "fig, ax = plt.subplots(figsize=(12.8, 9.6))\n",
    "\n",
    "ax.bar(pd.DataFrame(train_labels64)[1].value_counts().index,\n",
    "       pd.DataFrame(train_labels64)[1].value_counts(),\n",
    "       edgecolor='black')\n",
    "ax.set_xlabel('Pneumonia Status',\n",
    "              labelpad=20,\n",
    "              fontsize=16)\n",
    "ax.set_ylabel('Frequency',\n",
    "              labelpad=20,\n",
    "              fontsize=16)\n",
    "ax.set_title('Pneumonia Status vs Frequency',\n",
    "             pad=20,\n",
    "             fontsize=20)\n",
    "ax.set_xticks((0, 1))\n",
    "ax.set_xticklabels(['Healthy',\n",
    "                    'Sick'],)\n",
    "ax.tick_params(axis='both',\n",
    "               which='major',\n",
    "               labelsize=12)\n",
    "ax.set_facecolor('0.75')\n",
    "plt.axhline(y=5216,\n",
    "            color='black')\n",
    "plt.text(x=1, y=3875+64, s='3,875', fontsize=12, ha='center')\n",
    "plt.text(x=0, y=1341+64, s='1,341', fontsize=12, ha='center')\n",
    "plt.text(x=1, y=5216-196, s='Total = 5,216', fontsize=12, ha='center')\n",
    "\n",
    ";"
   ]
  },
  {
   "cell_type": "markdown",
   "metadata": {},
   "source": [
    "Based on the above visualization, it is clear to see that we have many more images of pneumatic lungs in our training set than we do of healthy lungs. However, the class may not be so imbalanced that the distribution is an issue. The sick images constitute approximately 74% percent of our training set, leaving the healthy images with a share of 26%. This distribution will not prove to be an issue in our final model."
   ]
  },
  {
   "cell_type": "markdown",
   "metadata": {},
   "source": [
    "Let's now take a look at the dimensionality of our images."
   ]
  },
  {
   "cell_type": "code",
   "execution_count": 14,
   "metadata": {},
   "outputs": [
    {
     "data": {
      "text/plain": [
       "(5216, 64, 64, 3)"
      ]
     },
     "execution_count": 14,
     "metadata": {},
     "output_type": "execute_result"
    }
   ],
   "source": [
    "train_images64.shape"
   ]
  },
  {
   "cell_type": "code",
   "execution_count": 15,
   "metadata": {},
   "outputs": [
    {
     "data": {
      "text/plain": [
       "(5216, 128, 128, 3)"
      ]
     },
     "execution_count": 15,
     "metadata": {},
     "output_type": "execute_result"
    }
   ],
   "source": [
    "train_images128.shape"
   ]
  },
  {
   "cell_type": "code",
   "execution_count": 16,
   "metadata": {},
   "outputs": [
    {
     "data": {
      "text/plain": [
       "(5216, 256, 256, 3)"
      ]
     },
     "execution_count": 16,
     "metadata": {},
     "output_type": "execute_result"
    }
   ],
   "source": [
    "train_images256.shape"
   ]
  },
  {
   "cell_type": "markdown",
   "metadata": {},
   "source": [
    "For any given size of image, we can see that the arrays have the following dimensions:\n",
    "\n",
    "* First, the number of images in that array.\n",
    "* Second, the number of rows in an image in that array.\n",
    "* Third, the number of columns in an image in that array.\n",
    "* Finally, the depth of an image in that array.\n",
    "\n",
    "Since these images are x-rays, we know them to be black and white, so we can reduce the dimensionality of the images by slicing just the first of these layers of depth while retaining the fidelity of the images."
   ]
  },
  {
   "cell_type": "code",
   "execution_count": 17,
   "metadata": {},
   "outputs": [
    {
     "data": {
      "text/plain": [
       "(5216, 64, 64)"
      ]
     },
     "metadata": {},
     "output_type": "display_data"
    },
    {
     "data": {
      "text/plain": [
       "(5216, 64, 64, 1)"
      ]
     },
     "metadata": {},
     "output_type": "display_data"
    },
    {
     "data": {
      "text/plain": [
       "(624, 64, 64)"
      ]
     },
     "metadata": {},
     "output_type": "display_data"
    },
    {
     "data": {
      "text/plain": [
       "(624, 64, 64, 1)"
      ]
     },
     "metadata": {},
     "output_type": "display_data"
    },
    {
     "data": {
      "text/plain": [
       "(16, 64, 64)"
      ]
     },
     "metadata": {},
     "output_type": "display_data"
    },
    {
     "data": {
      "text/plain": [
       "(16, 64, 64, 1)"
      ]
     },
     "metadata": {},
     "output_type": "display_data"
    }
   ],
   "source": [
    "train_images64 = train_images64[ : , : , : , 0]\n",
    "display(train_images64.shape)\n",
    "train_images64 = train_images64.reshape(5216, 64, 64, 1)\n",
    "display(train_images64.shape)\n",
    "test_images64 = test_images64[ : , : , : , 0]\n",
    "display(test_images64.shape)\n",
    "test_images64 = test_images64.reshape(624, 64, 64, 1)\n",
    "display(test_images64.shape)\n",
    "val_images64 = val_images64[ : , : , : , 0]\n",
    "display(val_images64.shape)\n",
    "val_images64 = val_images64.reshape(16, 64, 64, 1)\n",
    "display(val_images64.shape)"
   ]
  },
  {
   "cell_type": "code",
   "execution_count": 18,
   "metadata": {
    "scrolled": true
   },
   "outputs": [
    {
     "data": {
      "text/plain": [
       "(5216, 128, 128)"
      ]
     },
     "metadata": {},
     "output_type": "display_data"
    },
    {
     "data": {
      "text/plain": [
       "(5216, 128, 128, 1)"
      ]
     },
     "metadata": {},
     "output_type": "display_data"
    },
    {
     "data": {
      "text/plain": [
       "(624, 128, 128)"
      ]
     },
     "metadata": {},
     "output_type": "display_data"
    },
    {
     "data": {
      "text/plain": [
       "(624, 128, 128, 1)"
      ]
     },
     "metadata": {},
     "output_type": "display_data"
    },
    {
     "data": {
      "text/plain": [
       "(16, 128, 128)"
      ]
     },
     "metadata": {},
     "output_type": "display_data"
    },
    {
     "data": {
      "text/plain": [
       "(16, 128, 128, 1)"
      ]
     },
     "metadata": {},
     "output_type": "display_data"
    }
   ],
   "source": [
    "train_images128 = train_images128[ : , : , : , 0]\n",
    "display(train_images128.shape)\n",
    "train_images128 = train_images128.reshape(5216, 128, 128, 1)\n",
    "display(train_images128.shape)\n",
    "test_images128 = test_images128[ : , : , : , 0]\n",
    "display(test_images128.shape)\n",
    "test_images128 = test_images128.reshape(624, 128, 128, 1)\n",
    "display(test_images128.shape)\n",
    "val_images128 = val_images128[ : , : , : , 0]\n",
    "display(val_images128.shape)\n",
    "val_images128 = val_images128.reshape(16, 128, 128, 1)\n",
    "display(val_images128.shape)"
   ]
  },
  {
   "cell_type": "code",
   "execution_count": 19,
   "metadata": {},
   "outputs": [
    {
     "data": {
      "text/plain": [
       "(5216, 256, 256)"
      ]
     },
     "metadata": {},
     "output_type": "display_data"
    },
    {
     "data": {
      "text/plain": [
       "(5216, 256, 256, 1)"
      ]
     },
     "metadata": {},
     "output_type": "display_data"
    },
    {
     "data": {
      "text/plain": [
       "(624, 256, 256)"
      ]
     },
     "metadata": {},
     "output_type": "display_data"
    },
    {
     "data": {
      "text/plain": [
       "(624, 256, 256, 1)"
      ]
     },
     "metadata": {},
     "output_type": "display_data"
    },
    {
     "data": {
      "text/plain": [
       "(16, 256, 256)"
      ]
     },
     "metadata": {},
     "output_type": "display_data"
    },
    {
     "data": {
      "text/plain": [
       "(16, 256, 256, 1)"
      ]
     },
     "metadata": {},
     "output_type": "display_data"
    }
   ],
   "source": [
    "train_images256 = train_images256[ : , : , : , 0]\n",
    "display(train_images256.shape)\n",
    "train_images256 = train_images256.reshape(5216, 256, 256, 1)\n",
    "display(train_images256.shape)\n",
    "test_images256 = test_images256[ : , : , : , 0]\n",
    "display(test_images256.shape)\n",
    "test_images256 = test_images256.reshape(624, 256, 256, 1)\n",
    "display(test_images256.shape)\n",
    "val_images256 = val_images256[ : , : , : , 0]\n",
    "display(val_images256.shape)\n",
    "val_images256 = val_images256.reshape(16, 256, 256, 1)\n",
    "display(val_images256.shape)"
   ]
  },
  {
   "cell_type": "markdown",
   "metadata": {},
   "source": [
    "Below is a series of image previews at various resolutions,<br>as well as several sniff tests to make sure our dimensionality has been reduced for all image resolutions."
   ]
  },
  {
   "cell_type": "code",
   "execution_count": 20,
   "metadata": {},
   "outputs": [
    {
     "data": {
      "image/png": "[encoded data removed]",
      "text/plain": [
       "<PIL.Image.Image image mode=L size=64x64 at 0x1D8BE27F610>"
      ]
     },
     "execution_count": 20,
     "metadata": {},
     "output_type": "execute_result"
    }
   ],
   "source": [
    "# Preview an image\n",
    "np.random.seed(42)\n",
    "img64 = array_to_img(train_images64[np.random.randint(1, 5216)])\n",
    "img64"
   ]
  },
  {
   "cell_type": "code",
   "execution_count": 21,
   "metadata": {},
   "outputs": [
    {
     "data": {
      "text/plain": [
       "(64, 64, 1)"
      ]
     },
     "execution_count": 21,
     "metadata": {},
     "output_type": "execute_result"
    }
   ],
   "source": [
    "np.random.seed(42)\n",
    "train_images64[np.random.randint(1, 5216)].shape"
   ]
  },
  {
   "cell_type": "code",
   "execution_count": 22,
   "metadata": {},
   "outputs": [
    {
     "data": {
      "image/png": "[encoded data removed]",
      "text/plain": [
       "<PIL.Image.Image image mode=L size=128x128 at 0x1D8BE2A3CA0>"
      ]
     },
     "execution_count": 22,
     "metadata": {},
     "output_type": "execute_result"
    }
   ],
   "source": [
    "# Preview an image\n",
    "np.random.seed(42)\n",
    "img128 = array_to_img(train_images128[np.random.randint(1, 5216)])\n",
    "img128"
   ]
  },
  {
   "cell_type": "code",
   "execution_count": 23,
   "metadata": {},
   "outputs": [
    {
     "data": {
      "text/plain": [
       "(128, 128, 1)"
      ]
     },
     "execution_count": 23,
     "metadata": {},
     "output_type": "execute_result"
    }
   ],
   "source": [
    "np.random.seed(42)\n",
    "train_images128[np.random.randint(1, 5216)].shape"
   ]
  },
  {
   "cell_type": "code",
   "execution_count": 24,
   "metadata": {},
   "outputs": [
    {
     "data": {
      "image/png": "[encoded data removed]",
      "text/plain": [
       "<PIL.Image.Image image mode=L size=256x256 at 0x1D8E3831D90>"
      ]
     },
     "execution_count": 24,
     "metadata": {},
     "output_type": "execute_result"
    }
   ],
   "source": [
    "# Preview an image\n",
    "np.random.seed(42)\n",
    "img256 = array_to_img(train_images256[np.random.randint(1, 5216)])\n",
    "img256"
   ]
  },
  {
   "cell_type": "code",
   "execution_count": 25,
   "metadata": {},
   "outputs": [
    {
     "data": {
      "text/plain": [
       "(256, 256, 1)"
      ]
     },
     "execution_count": 25,
     "metadata": {},
     "output_type": "execute_result"
    }
   ],
   "source": [
    "np.random.seed(42)\n",
    "train_images256[np.random.randint(1, 5216)].shape"
   ]
  },
  {
   "cell_type": "code",
   "execution_count": 26,
   "metadata": {},
   "outputs": [
    {
     "data": {
      "image/png": "[encoded data removed]",
      "text/plain": [
       "<PIL.Image.Image image mode=L size=64x64 at 0x1D8F51BB8E0>"
      ]
     },
     "execution_count": 26,
     "metadata": {},
     "output_type": "execute_result"
    }
   ],
   "source": [
    "# Preview another image\n",
    "np.random.seed(69)\n",
    "img64 = array_to_img(train_images64[np.random.randint(1, 5216)])\n",
    "img64"
   ]
  },
  {
   "cell_type": "code",
   "execution_count": 27,
   "metadata": {},
   "outputs": [
    {
     "data": {
      "text/plain": [
       "(64, 64, 1)"
      ]
     },
     "execution_count": 27,
     "metadata": {},
     "output_type": "execute_result"
    }
   ],
   "source": [
    "np.random.seed(69)\n",
    "train_images64[np.random.randint(1, 5216)].shape"
   ]
  },
  {
   "cell_type": "code",
   "execution_count": 28,
   "metadata": {},
   "outputs": [
    {
     "data": {
      "image/png": "[encoded data removed]",
      "text/plain": [
       "<PIL.Image.Image image mode=L size=128x128 at 0x1D8F5199760>"
      ]
     },
     "execution_count": 28,
     "metadata": {},
     "output_type": "execute_result"
    }
   ],
   "source": [
    "# Preview another image\n",
    "np.random.seed(69)\n",
    "img128 = array_to_img(train_images128[np.random.randint(1, 5216)])\n",
    "img128"
   ]
  },
  {
   "cell_type": "code",
   "execution_count": 29,
   "metadata": {},
   "outputs": [
    {
     "data": {
      "text/plain": [
       "(128, 128, 1)"
      ]
     },
     "execution_count": 29,
     "metadata": {},
     "output_type": "execute_result"
    }
   ],
   "source": [
    "np.random.seed(69)\n",
    "train_images128[np.random.randint(1, 5216)].shape"
   ]
  },
  {
   "cell_type": "code",
   "execution_count": 30,
   "metadata": {
    "scrolled": false
   },
   "outputs": [
    {
     "data": {
      "image/png": "[encoded data removed]",
      "text/plain": [
       "<PIL.Image.Image image mode=L size=256x256 at 0x1D8BE27FE50>"
      ]
     },
     "execution_count": 30,
     "metadata": {},
     "output_type": "execute_result"
    }
   ],
   "source": [
    "# Preview another image\n",
    "np.random.seed(69)\n",
    "img256 = array_to_img(train_images256[np.random.randint(1, 5216)])\n",
    "img256"
   ]
  },
  {
   "cell_type": "code",
   "execution_count": 31,
   "metadata": {},
   "outputs": [
    {
     "data": {
      "text/plain": [
       "(256, 256, 1)"
      ]
     },
     "execution_count": 31,
     "metadata": {},
     "output_type": "execute_result"
    }
   ],
   "source": [
    "np.random.seed(69)\n",
    "train_images256[np.random.randint(1, 5216)].shape"
   ]
  },
  {
   "cell_type": "markdown",
   "metadata": {},
   "source": [
    "The following cells were used to observe additional random samples of the datasets.<br>\n",
    "They have been commented out to reduce the size of the notebook."
   ]
  },
  {
   "cell_type": "code",
   "execution_count": 32,
   "metadata": {
    "scrolled": false
   },
   "outputs": [],
   "source": [
    "# np.random.seed(42)\n",
    "# for i in range(0,10):\n",
    "#     display(array_to_img(train_images64[i]))"
   ]
  },
  {
   "cell_type": "code",
   "execution_count": 33,
   "metadata": {
    "scrolled": false
   },
   "outputs": [],
   "source": [
    "# np.random.seed(42)\n",
    "# for i in range(0,10):\n",
    "#     display(array_to_img(train_images128[i]))"
   ]
  },
  {
   "cell_type": "code",
   "execution_count": 34,
   "metadata": {
    "scrolled": false
   },
   "outputs": [],
   "source": [
    "# np.random.seed(42)\n",
    "# for i in range(0,10):\n",
    "#     display(array_to_img(train_images256[i]))"
   ]
  },
  {
   "cell_type": "markdown",
   "metadata": {},
   "source": [
    "Now let's create some new variables which are the reshaped versions of each image into single vectors.<br>These are the variables that we will use for our densely connected neural networks."
   ]
  },
  {
   "cell_type": "code",
   "execution_count": 35,
   "metadata": {},
   "outputs": [
    {
     "name": "stdout",
     "output_type": "stream",
     "text": [
      "(5216, 4096)\n",
      "(624, 4096)\n",
      "(16, 4096)\n"
     ]
    }
   ],
   "source": [
    "train_img64 = train_images64.reshape(train_images64.shape[0], -1)\n",
    "test_img64 = test_images64.reshape(test_images64.shape[0], -1)\n",
    "val_img64 = val_images64.reshape(val_images64.shape[0], -1)\n",
    "\n",
    "print(train_img64.shape)\n",
    "print(test_img64.shape)\n",
    "print(val_img64.shape)"
   ]
  },
  {
   "cell_type": "code",
   "execution_count": 36,
   "metadata": {},
   "outputs": [
    {
     "name": "stdout",
     "output_type": "stream",
     "text": [
      "(5216, 16384)\n",
      "(624, 16384)\n",
      "(16, 16384)\n"
     ]
    }
   ],
   "source": [
    "train_img128 = train_images128.reshape(train_images128.shape[0], -1)\n",
    "test_img128 = test_images128.reshape(test_images128.shape[0], -1)\n",
    "val_img128 = val_images128.reshape(val_images128.shape[0], -1)\n",
    "\n",
    "print(train_img128.shape)\n",
    "print(test_img128.shape)\n",
    "print(val_img128.shape)"
   ]
  },
  {
   "cell_type": "code",
   "execution_count": 37,
   "metadata": {},
   "outputs": [
    {
     "name": "stdout",
     "output_type": "stream",
     "text": [
      "(5216, 65536)\n",
      "(624, 65536)\n",
      "(16, 65536)\n"
     ]
    }
   ],
   "source": [
    "train_img256 = train_images256.reshape(train_images256.shape[0], -1)\n",
    "test_img256 = test_images256.reshape(test_images256.shape[0], -1)\n",
    "val_img256 = val_images256.reshape(val_images256.shape[0], -1)\n",
    "\n",
    "print(train_img256.shape)\n",
    "print(test_img256.shape)\n",
    "print(val_img256.shape)"
   ]
  },
  {
   "cell_type": "markdown",
   "metadata": {},
   "source": [
    "In the following cell, we create a new variable which is all of the vectorized images into a single array.<br>This is the first step in splitting the data properly, as mentioned above. More to follow."
   ]
  },
  {
   "cell_type": "code",
   "execution_count": 38,
   "metadata": {},
   "outputs": [],
   "source": [
    "all_img64 = np.concatenate((train_img64, test_img64, val_img64), axis=0)"
   ]
  },
  {
   "cell_type": "markdown",
   "metadata": {},
   "source": [
    "Just as we reshaped our images, we will also be reshaping our labels.<br>Originally, they were one-hot-encoded into two columns, so we'll just make them one here."
   ]
  },
  {
   "cell_type": "code",
   "execution_count": 39,
   "metadata": {},
   "outputs": [],
   "source": [
    "train_y64 = np.reshape(train_labels64[:,0], (5216,1))\n",
    "test_y64 = np.reshape(test_labels64[:,0], (624,1))\n",
    "val_y64 = np.reshape(val_labels64[:,0], (16,1))"
   ]
  },
  {
   "cell_type": "code",
   "execution_count": 40,
   "metadata": {},
   "outputs": [],
   "source": [
    "train_y128 = np.reshape(train_labels128[:,0], (5216,1))\n",
    "test_y128 = np.reshape(test_labels128[:,0], (624,1))\n",
    "val_y128 = np.reshape(val_labels128[:,0], (16,1))"
   ]
  },
  {
   "cell_type": "code",
   "execution_count": 41,
   "metadata": {},
   "outputs": [],
   "source": [
    "train_y256 = np.reshape(train_labels256[:,0], (5216,1))\n",
    "test_y256 = np.reshape(test_labels256[:,0], (624,1))\n",
    "val_y256 = np.reshape(val_labels256[:,0], (16,1))"
   ]
  },
  {
   "cell_type": "markdown",
   "metadata": {},
   "source": [
    "Again, we have created a new variable which is all of the labels concatenated, in order, for use in a much more effective split."
   ]
  },
  {
   "cell_type": "code",
   "execution_count": 42,
   "metadata": {},
   "outputs": [],
   "source": [
    "all_y64 = np.concatenate((train_y64, test_y64, val_y64), axis=0)"
   ]
  },
  {
   "cell_type": "markdown",
   "metadata": {},
   "source": [
    "And this is where the magic happens that really turned up the performance of this project."
   ]
  },
  {
   "cell_type": "markdown",
   "metadata": {},
   "source": [
    "Here, we perform a train test split of our total images array and total labels array, creating a training images array and a temporary images array, as well as a training labels array and a temporary labels array, with a specified random state and a default split of 75/25. Once split, we again split our temporary images array and temporary labels array into validation images and test images, as well as validation labels and test labels."
   ]
  },
  {
   "cell_type": "code",
   "execution_count": 43,
   "metadata": {},
   "outputs": [],
   "source": [
    "new_train_img64, temp_img64, new_train_y64, temp_y64 = train_test_split(all_img64, all_y64, random_state=42)\n",
    "new_val_img64, new_test_img64, new_val_y64, new_test_y64 = train_test_split(temp_img64, temp_y64, random_state=42)"
   ]
  },
  {
   "cell_type": "code",
   "execution_count": 44,
   "metadata": {},
   "outputs": [
    {
     "data": {
      "text/plain": [
       "(4392, 4096)"
      ]
     },
     "metadata": {},
     "output_type": "display_data"
    },
    {
     "data": {
      "text/plain": [
       "(1098, 4096)"
      ]
     },
     "metadata": {},
     "output_type": "display_data"
    },
    {
     "data": {
      "text/plain": [
       "(366, 4096)"
      ]
     },
     "metadata": {},
     "output_type": "display_data"
    },
    {
     "data": {
      "text/plain": [
       "(4392, 1)"
      ]
     },
     "metadata": {},
     "output_type": "display_data"
    },
    {
     "data": {
      "text/plain": [
       "(1098, 1)"
      ]
     },
     "metadata": {},
     "output_type": "display_data"
    },
    {
     "data": {
      "text/plain": [
       "(366, 1)"
      ]
     },
     "metadata": {},
     "output_type": "display_data"
    }
   ],
   "source": [
    "for array in (new_train_img64, new_val_img64, new_test_img64, new_train_y64, new_val_y64, new_test_y64):\n",
    "    display(array.shape)"
   ]
  },
  {
   "cell_type": "markdown",
   "metadata": {},
   "source": [
    "What comes out the other side is a much more useful split of training, validation, and test data, as will become evident in our final model's performance."
   ]
  },
  {
   "cell_type": "markdown",
   "metadata": {},
   "source": [
    "It is worth noting at this time that the above resplit was only conducted on the 64x64 images, as the resulting model accuracy was high enough for our purposes, given the resources we had to work on this project. Even better model performance could likely be achieved by performing a similar resplit of higher resolution images."
   ]
  },
  {
   "cell_type": "markdown",
   "metadata": {},
   "source": [
    "## Data Modeling\n",
    "A description and justification of the process for modeling the data.\n",
    "\n",
    "***\n",
    "\n",
    "Questions to consider:\n",
    "* How did you analyze or model the data?\n",
    "    * We modeled the data using densely connected neural networks and convolutional neural networks.\n",
    "* How did you iterate on your initial approach to make it better?\n",
    "    * We tuned various hyperparameters, including the learning rate, the strength of regularization, and the type of optimizer.\n",
    "    * Perhaps most importantly, we properly split the data.\n",
    "* Why are these choices appropriate given the data and the business problem?\n",
    "    * Neural networks, particularly convolutional neural networks, are particularly well-suited to image classification.\n",
    "\n",
    "***"
   ]
  },
  {
   "cell_type": "markdown",
   "metadata": {},
   "source": [
    "In the following cells, we create six models:\n",
    "* First, a four-layer model with 64x64 images.\n",
    "* Second, a four-layer model with 128x128 images.\n",
    "* Third, a four-layer model with 256x256 images.\n",
    "* Fourth, a two-layer model with 64x64 images.\n",
    "* Fifth, a two-layer model with 128x128 images.\n",
    "* Sixth, a two-layer model with 256x256 images."
   ]
  },
  {
   "cell_type": "code",
   "execution_count": 45,
   "metadata": {},
   "outputs": [],
   "source": [
    "# Build a baseline fully connected 64x64 model\n",
    "np.random.seed(42)\n",
    "model64 = models.Sequential()\n",
    "model64.add(layers.Dense(64, activation='relu', input_shape=(4096,))) # 2 hidden layers\n",
    "model64.add(layers.Dense(8, activation='relu', kernel_regularizer=regularizers.l2()))\n",
    "model64.add(layers.Dense(2, activation='relu', kernel_regularizer=regularizers.l2()))\n",
    "model64.add(layers.Dense(1, activation='sigmoid'))"
   ]
  },
  {
   "cell_type": "code",
   "execution_count": 46,
   "metadata": {},
   "outputs": [],
   "source": [
    "# Build a baseline fully connected 128x128 model\n",
    "np.random.seed(42)\n",
    "model128 = models.Sequential()\n",
    "model128.add(layers.Dense(128, activation='relu', input_shape=(16384,))) # 2 hidden layers\n",
    "model128.add(layers.Dense(12, activation='relu', kernel_regularizer=regularizers.l2()))\n",
    "model128.add(layers.Dense(3, activation='relu', kernel_regularizer=regularizers.l2()))\n",
    "model128.add(layers.Dense(1, activation='sigmoid'))"
   ]
  },
  {
   "cell_type": "code",
   "execution_count": 47,
   "metadata": {},
   "outputs": [],
   "source": [
    "# Build a baseline fully connected 256x256 model\n",
    "np.random.seed(42)\n",
    "model256 = models.Sequential()\n",
    "model256.add(layers.Dense(256, activation='relu', input_shape=(65536,))) # 2 hidden layers\n",
    "model256.add(layers.Dense(16, activation='relu', kernel_regularizer=regularizers.l2()))\n",
    "model256.add(layers.Dense(4, activation='relu', kernel_regularizer=regularizers.l2()))\n",
    "model256.add(layers.Dense(1, activation='sigmoid'))"
   ]
  },
  {
   "cell_type": "code",
   "execution_count": 48,
   "metadata": {},
   "outputs": [],
   "source": [
    "# Build a shallow fully connected 64x64 model\n",
    "np.random.seed(42)\n",
    "model64shal = models.Sequential()\n",
    "model64shal.add(layers.Dense(64, activation='relu', input_shape=(4096,)))\n",
    "model64shal.add(layers.Dense(1, activation='sigmoid'))"
   ]
  },
  {
   "cell_type": "code",
   "execution_count": 49,
   "metadata": {},
   "outputs": [],
   "source": [
    "# Build a shallow fully connected 128x128 model\n",
    "np.random.seed(42)\n",
    "model128shal = models.Sequential()\n",
    "model128shal.add(layers.Dense(128, activation='relu', input_shape=(16384,)))\n",
    "model128shal.add(layers.Dense(1, activation='sigmoid'))"
   ]
  },
  {
   "cell_type": "code",
   "execution_count": 50,
   "metadata": {},
   "outputs": [],
   "source": [
    "# Build a shallow fully connected 256x256 model\n",
    "np.random.seed(42)\n",
    "model256shal = models.Sequential()\n",
    "model256shal.add(layers.Dense(256, activation='relu', input_shape=(65536,)))\n",
    "model256shal.add(layers.Dense(1, activation='sigmoid'))"
   ]
  },
  {
   "cell_type": "markdown",
   "metadata": {},
   "source": [
    "Now that we have some model variables created, let's create a custom optimizer with a slightly slower learning rate. Ideally, this would have helped us deal with the overfitting we were seeing in the modeling process but, ultimately, the small size of the validation set trumped any modifications to the hyperparameters of these models. Nevertheless, they were part of the project and have been retained for project version history."
   ]
  },
  {
   "cell_type": "code",
   "execution_count": 51,
   "metadata": {},
   "outputs": [],
   "source": [
    "sgd_lr_001 = keras.optimizers.SGD(learning_rate=1e-3, decay=1e-3/64)"
   ]
  },
  {
   "cell_type": "markdown",
   "metadata": {},
   "source": [
    "Below are the cells which compile, fit, and evaluate all of the above models."
   ]
  },
  {
   "cell_type": "code",
   "execution_count": 52,
   "metadata": {},
   "outputs": [
    {
     "name": "stdout",
     "output_type": "stream",
     "text": [
      "Epoch 1/64\n",
      "163/163 [==============================] - 1s 4ms/step - loss: 0.7051 - accuracy: 0.7406 - val_loss: 0.8961 - val_accuracy: 0.5000\n",
      "Epoch 2/64\n",
      "163/163 [==============================] - 0s 2ms/step - loss: 0.6610 - accuracy: 0.7429 - val_loss: 0.8546 - val_accuracy: 0.5000\n",
      "Epoch 3/64\n",
      "163/163 [==============================] - 0s 2ms/step - loss: 0.6265 - accuracy: 0.7429 - val_loss: 0.8671 - val_accuracy: 0.5000\n",
      "Epoch 4/64\n",
      "163/163 [==============================] - 0s 2ms/step - loss: 0.5968 - accuracy: 0.7429 - val_loss: 0.8353 - val_accuracy: 0.5000\n",
      "Epoch 5/64\n",
      "163/163 [==============================] - 0s 2ms/step - loss: 0.5721 - accuracy: 0.7429 - val_loss: 0.8492 - val_accuracy: 0.5000\n",
      "Epoch 6/64\n",
      "163/163 [==============================] - 0s 2ms/step - loss: 0.5519 - accuracy: 0.7826 - val_loss: 0.8649 - val_accuracy: 0.5625\n",
      "Epoch 7/64\n",
      "163/163 [==============================] - 0s 2ms/step - loss: 0.5355 - accuracy: 0.8229 - val_loss: 0.8611 - val_accuracy: 0.6250\n",
      "Epoch 8/64\n",
      "163/163 [==============================] - 0s 2ms/step - loss: 0.5216 - accuracy: 0.8374 - val_loss: 0.8484 - val_accuracy: 0.6250\n",
      "Epoch 9/64\n",
      "163/163 [==============================] - 0s 2ms/step - loss: 0.5093 - accuracy: 0.8512 - val_loss: 0.7999 - val_accuracy: 0.6875\n",
      "Epoch 10/64\n",
      "163/163 [==============================] - 0s 2ms/step - loss: 0.4990 - accuracy: 0.8629 - val_loss: 0.8459 - val_accuracy: 0.6250\n",
      "Epoch 11/64\n",
      "163/163 [==============================] - 0s 2ms/step - loss: 0.4898 - accuracy: 0.8700 - val_loss: 0.8020 - val_accuracy: 0.6875\n",
      "Epoch 12/64\n",
      "163/163 [==============================] - 0s 2ms/step - loss: 0.4811 - accuracy: 0.8777 - val_loss: 0.8116 - val_accuracy: 0.6875\n",
      "Epoch 13/64\n",
      "163/163 [==============================] - 0s 2ms/step - loss: 0.4729 - accuracy: 0.8875 - val_loss: 0.7937 - val_accuracy: 0.6875\n",
      "Epoch 14/64\n",
      "163/163 [==============================] - 0s 2ms/step - loss: 0.4655 - accuracy: 0.8898 - val_loss: 0.8043 - val_accuracy: 0.6875\n",
      "Epoch 15/64\n",
      "163/163 [==============================] - 0s 2ms/step - loss: 0.4586 - accuracy: 0.8982 - val_loss: 0.8095 - val_accuracy: 0.6875\n",
      "Epoch 16/64\n",
      "163/163 [==============================] - 0s 2ms/step - loss: 0.4414 - accuracy: 0.9099 - val_loss: 0.6645 - val_accuracy: 0.8125\n",
      "Epoch 17/64\n",
      "163/163 [==============================] - 0s 2ms/step - loss: 0.3801 - accuracy: 0.9285 - val_loss: 0.6320 - val_accuracy: 0.8125\n",
      "Epoch 18/64\n",
      "163/163 [==============================] - 0s 2ms/step - loss: 0.3545 - accuracy: 0.9339 - val_loss: 0.6838 - val_accuracy: 0.7500\n",
      "Epoch 19/64\n",
      "163/163 [==============================] - 0s 2ms/step - loss: 0.3415 - accuracy: 0.9352 - val_loss: 0.5006 - val_accuracy: 0.8750\n",
      "Epoch 20/64\n",
      "163/163 [==============================] - 0s 2ms/step - loss: 0.3319 - accuracy: 0.9385 - val_loss: 0.5163 - val_accuracy: 0.8750\n",
      "Epoch 21/64\n",
      "163/163 [==============================] - 0s 2ms/step - loss: 0.3237 - accuracy: 0.9408 - val_loss: 0.5137 - val_accuracy: 0.8750\n",
      "Epoch 22/64\n",
      "163/163 [==============================] - 0s 2ms/step - loss: 0.3182 - accuracy: 0.9433 - val_loss: 0.5338 - val_accuracy: 0.8750\n",
      "Epoch 23/64\n",
      "163/163 [==============================] - 0s 2ms/step - loss: 0.3127 - accuracy: 0.9438 - val_loss: 0.5084 - val_accuracy: 0.8750\n",
      "Epoch 24/64\n",
      "163/163 [==============================] - 0s 2ms/step - loss: 0.3084 - accuracy: 0.9448 - val_loss: 0.4876 - val_accuracy: 0.8750\n",
      "Epoch 25/64\n",
      "163/163 [==============================] - 0s 2ms/step - loss: 0.3052 - accuracy: 0.9444 - val_loss: 0.4425 - val_accuracy: 0.9375\n",
      "Epoch 26/64\n",
      "163/163 [==============================] - 0s 2ms/step - loss: 0.3011 - accuracy: 0.9456 - val_loss: 0.5003 - val_accuracy: 0.8750\n",
      "Epoch 27/64\n",
      "163/163 [==============================] - 0s 2ms/step - loss: 0.2971 - accuracy: 0.9502 - val_loss: 0.4571 - val_accuracy: 0.8750\n",
      "Epoch 28/64\n",
      "163/163 [==============================] - 0s 2ms/step - loss: 0.2938 - accuracy: 0.9477 - val_loss: 0.4779 - val_accuracy: 0.8750\n",
      "Epoch 29/64\n",
      "163/163 [==============================] - 0s 2ms/step - loss: 0.2912 - accuracy: 0.9486 - val_loss: 0.4735 - val_accuracy: 0.8750\n",
      "Epoch 30/64\n",
      "163/163 [==============================] - 0s 2ms/step - loss: 0.2891 - accuracy: 0.9503 - val_loss: 0.5599 - val_accuracy: 0.8125\n",
      "Epoch 31/64\n",
      "163/163 [==============================] - 0s 2ms/step - loss: 0.2859 - accuracy: 0.9511 - val_loss: 0.4628 - val_accuracy: 0.8750\n",
      "Epoch 32/64\n",
      "163/163 [==============================] - 0s 2ms/step - loss: 0.2839 - accuracy: 0.9511 - val_loss: 0.4158 - val_accuracy: 0.9375\n",
      "Epoch 33/64\n",
      "163/163 [==============================] - 0s 2ms/step - loss: 0.2813 - accuracy: 0.9517 - val_loss: 0.5817 - val_accuracy: 0.8125\n",
      "Epoch 34/64\n",
      "163/163 [==============================] - 0s 2ms/step - loss: 0.2798 - accuracy: 0.9530 - val_loss: 0.4415 - val_accuracy: 0.9375\n",
      "Epoch 35/64\n",
      "163/163 [==============================] - 0s 2ms/step - loss: 0.2777 - accuracy: 0.9532 - val_loss: 0.4556 - val_accuracy: 0.8750\n",
      "Epoch 36/64\n",
      "163/163 [==============================] - 0s 2ms/step - loss: 0.2753 - accuracy: 0.9540 - val_loss: 0.4269 - val_accuracy: 0.9375\n",
      "Epoch 37/64\n",
      "163/163 [==============================] - 0s 2ms/step - loss: 0.2747 - accuracy: 0.9534 - val_loss: 0.5001 - val_accuracy: 0.8750\n",
      "Epoch 38/64\n",
      "163/163 [==============================] - 0s 2ms/step - loss: 0.2733 - accuracy: 0.9513 - val_loss: 0.3925 - val_accuracy: 0.9375\n",
      "Epoch 39/64\n",
      "163/163 [==============================] - 0s 2ms/step - loss: 0.2709 - accuracy: 0.9549 - val_loss: 0.4366 - val_accuracy: 0.9375\n",
      "Epoch 40/64\n",
      "163/163 [==============================] - 0s 2ms/step - loss: 0.2686 - accuracy: 0.9542 - val_loss: 0.4511 - val_accuracy: 0.8750\n",
      "Epoch 41/64\n",
      "163/163 [==============================] - 0s 2ms/step - loss: 0.2670 - accuracy: 0.9549 - val_loss: 0.3767 - val_accuracy: 0.9375\n",
      "Epoch 42/64\n",
      "163/163 [==============================] - 0s 2ms/step - loss: 0.2658 - accuracy: 0.9572 - val_loss: 0.5095 - val_accuracy: 0.8125\n",
      "Epoch 43/64\n",
      "163/163 [==============================] - 0s 2ms/step - loss: 0.2646 - accuracy: 0.9561 - val_loss: 0.4116 - val_accuracy: 0.9375\n",
      "Epoch 44/64\n",
      "163/163 [==============================] - 0s 2ms/step - loss: 0.2627 - accuracy: 0.9559 - val_loss: 0.4266 - val_accuracy: 0.9375\n",
      "Epoch 45/64\n",
      "163/163 [==============================] - 0s 2ms/step - loss: 0.2607 - accuracy: 0.9584 - val_loss: 0.4178 - val_accuracy: 0.9375\n",
      "Epoch 46/64\n",
      "163/163 [==============================] - 0s 2ms/step - loss: 0.2593 - accuracy: 0.9559 - val_loss: 0.5128 - val_accuracy: 0.8125\n",
      "Epoch 47/64\n",
      "163/163 [==============================] - 0s 2ms/step - loss: 0.2591 - accuracy: 0.9557 - val_loss: 0.4112 - val_accuracy: 0.9375\n",
      "Epoch 48/64\n",
      "163/163 [==============================] - 0s 2ms/step - loss: 0.2575 - accuracy: 0.9578 - val_loss: 0.5025 - val_accuracy: 0.8750\n",
      "Epoch 49/64\n",
      "163/163 [==============================] - 0s 2ms/step - loss: 0.2558 - accuracy: 0.9576 - val_loss: 0.4046 - val_accuracy: 0.9375\n",
      "Epoch 50/64\n",
      "163/163 [==============================] - 0s 2ms/step - loss: 0.2539 - accuracy: 0.9605 - val_loss: 0.3725 - val_accuracy: 0.9375\n",
      "Epoch 51/64\n",
      "163/163 [==============================] - 0s 2ms/step - loss: 0.2534 - accuracy: 0.9559 - val_loss: 0.3663 - val_accuracy: 0.9375\n",
      "Epoch 52/64\n",
      "163/163 [==============================] - 0s 2ms/step - loss: 0.2518 - accuracy: 0.9567 - val_loss: 0.4940 - val_accuracy: 0.8750\n",
      "Epoch 53/64\n",
      "163/163 [==============================] - 0s 2ms/step - loss: 0.2520 - accuracy: 0.9557 - val_loss: 0.3966 - val_accuracy: 0.9375\n",
      "Epoch 54/64\n",
      "163/163 [==============================] - 0s 2ms/step - loss: 0.2505 - accuracy: 0.9586 - val_loss: 0.4233 - val_accuracy: 0.9375\n",
      "Epoch 55/64\n",
      "163/163 [==============================] - 0s 2ms/step - loss: 0.2485 - accuracy: 0.9580 - val_loss: 0.4075 - val_accuracy: 0.9375\n",
      "Epoch 56/64\n",
      "163/163 [==============================] - 0s 2ms/step - loss: 0.2478 - accuracy: 0.9597 - val_loss: 0.4573 - val_accuracy: 0.8750\n",
      "Epoch 57/64\n",
      "163/163 [==============================] - 0s 2ms/step - loss: 0.2468 - accuracy: 0.9576 - val_loss: 0.3683 - val_accuracy: 0.9375\n",
      "Epoch 58/64\n",
      "163/163 [==============================] - 0s 2ms/step - loss: 0.2471 - accuracy: 0.9588 - val_loss: 0.3844 - val_accuracy: 0.9375\n",
      "Epoch 59/64\n",
      "163/163 [==============================] - 0s 2ms/step - loss: 0.2447 - accuracy: 0.9574 - val_loss: 0.3584 - val_accuracy: 0.9375\n",
      "Epoch 60/64\n",
      "163/163 [==============================] - 0s 2ms/step - loss: 0.2433 - accuracy: 0.9599 - val_loss: 0.4564 - val_accuracy: 0.8750\n",
      "Epoch 61/64\n",
      "163/163 [==============================] - 0s 2ms/step - loss: 0.2423 - accuracy: 0.9592 - val_loss: 0.4333 - val_accuracy: 0.9375\n",
      "Epoch 62/64\n",
      "163/163 [==============================] - 0s 2ms/step - loss: 0.2414 - accuracy: 0.9599 - val_loss: 0.3508 - val_accuracy: 0.9375\n",
      "Epoch 63/64\n",
      "163/163 [==============================] - 0s 2ms/step - loss: 0.2402 - accuracy: 0.9605 - val_loss: 0.4888 - val_accuracy: 0.8750\n",
      "Epoch 64/64\n",
      "163/163 [==============================] - 0s 2ms/step - loss: 0.2390 - accuracy: 0.9611 - val_loss: 0.3843 - val_accuracy: 0.9375\n"
     ]
    }
   ],
   "source": [
    "model64.compile(optimizer=sgd_lr_001,\n",
    "              loss='binary_crossentropy',\n",
    "              metrics=['accuracy'])\n",
    "\n",
    "histoire64 = model64.fit(train_img64,\n",
    "                    train_y64,\n",
    "                    epochs=64,\n",
    "                    batch_size=32,\n",
    "                    validation_data=(val_img64, val_y64),\n",
    "                    verbose=1)"
   ]
  },
  {
   "cell_type": "code",
   "execution_count": 53,
   "metadata": {},
   "outputs": [
    {
     "name": "stdout",
     "output_type": "stream",
     "text": [
      "Epoch 1/64\n",
      "163/163 [==============================] - 2s 11ms/step - loss: 0.9392 - accuracy: 0.7429 - val_loss: 0.9427 - val_accuracy: 0.5000\n",
      "Epoch 2/64\n",
      "163/163 [==============================] - 1s 8ms/step - loss: 0.9301 - accuracy: 0.7429 - val_loss: 0.9417 - val_accuracy: 0.5000\n",
      "Epoch 3/64\n",
      "163/163 [==============================] - 1s 8ms/step - loss: 0.9216 - accuracy: 0.7429 - val_loss: 0.9409 - val_accuracy: 0.5000\n",
      "Epoch 4/64\n",
      "163/163 [==============================] - 1s 8ms/step - loss: 0.9135 - accuracy: 0.7429 - val_loss: 0.9404 - val_accuracy: 0.5000\n",
      "Epoch 5/64\n",
      "163/163 [==============================] - 1s 8ms/step - loss: 0.9060 - accuracy: 0.7429 - val_loss: 0.9400 - val_accuracy: 0.5000\n",
      "Epoch 6/64\n",
      "163/163 [==============================] - 1s 8ms/step - loss: 0.8988 - accuracy: 0.7429 - val_loss: 0.9399 - val_accuracy: 0.5000\n",
      "Epoch 7/64\n",
      "163/163 [==============================] - 1s 8ms/step - loss: 0.8921 - accuracy: 0.7429 - val_loss: 0.9398 - val_accuracy: 0.5000\n",
      "Epoch 8/64\n",
      "163/163 [==============================] - 1s 8ms/step - loss: 0.8857 - accuracy: 0.7429 - val_loss: 0.9399 - val_accuracy: 0.5000\n",
      "Epoch 9/64\n",
      "163/163 [==============================] - 1s 8ms/step - loss: 0.8797 - accuracy: 0.7429 - val_loss: 0.9402 - val_accuracy: 0.5000\n",
      "Epoch 10/64\n",
      "163/163 [==============================] - 1s 8ms/step - loss: 0.8741 - accuracy: 0.7429 - val_loss: 0.9405 - val_accuracy: 0.5000\n",
      "Epoch 11/64\n",
      "163/163 [==============================] - 1s 8ms/step - loss: 0.8687 - accuracy: 0.7429 - val_loss: 0.9409 - val_accuracy: 0.5000\n",
      "Epoch 12/64\n",
      "163/163 [==============================] - ETA: 0s - loss: 0.8638 - accuracy: 0.74 - 1s 8ms/step - loss: 0.8636 - accuracy: 0.7429 - val_loss: 0.9414 - val_accuracy: 0.5000\n",
      "Epoch 13/64\n",
      "163/163 [==============================] - 1s 8ms/step - loss: 0.8588 - accuracy: 0.7429 - val_loss: 0.9419 - val_accuracy: 0.5000\n",
      "Epoch 14/64\n",
      "163/163 [==============================] - 1s 8ms/step - loss: 0.8542 - accuracy: 0.7429 - val_loss: 0.9425 - val_accuracy: 0.5000\n",
      "Epoch 15/64\n",
      "163/163 [==============================] - 1s 8ms/step - loss: 0.8498 - accuracy: 0.7429 - val_loss: 0.9432 - val_accuracy: 0.5000\n",
      "Epoch 16/64\n",
      "163/163 [==============================] - 1s 8ms/step - loss: 0.8457 - accuracy: 0.7429 - val_loss: 0.9439 - val_accuracy: 0.5000\n",
      "Epoch 17/64\n",
      "163/163 [==============================] - 1s 8ms/step - loss: 0.8418 - accuracy: 0.7429 - val_loss: 0.9446 - val_accuracy: 0.5000\n",
      "Epoch 18/64\n",
      "163/163 [==============================] - 1s 8ms/step - loss: 0.8380 - accuracy: 0.7429 - val_loss: 0.9453 - val_accuracy: 0.5000\n",
      "Epoch 19/64\n",
      "163/163 [==============================] - 1s 8ms/step - loss: 0.8344 - accuracy: 0.7429 - val_loss: 0.9461 - val_accuracy: 0.5000\n",
      "Epoch 20/64\n",
      "163/163 [==============================] - 1s 8ms/step - loss: 0.8310 - accuracy: 0.7429 - val_loss: 0.9469 - val_accuracy: 0.5000\n",
      "Epoch 21/64\n",
      "163/163 [==============================] - 1s 8ms/step - loss: 0.8277 - accuracy: 0.7429 - val_loss: 0.9476 - val_accuracy: 0.5000\n",
      "Epoch 22/64\n",
      "163/163 [==============================] - 1s 8ms/step - loss: 0.8245 - accuracy: 0.7429 - val_loss: 0.9484 - val_accuracy: 0.5000\n",
      "Epoch 23/64\n",
      "163/163 [==============================] - 1s 8ms/step - loss: 0.8215 - accuracy: 0.7429 - val_loss: 0.9492 - val_accuracy: 0.5000\n",
      "Epoch 24/64\n",
      "163/163 [==============================] - 1s 8ms/step - loss: 0.8186 - accuracy: 0.7429 - val_loss: 0.9500 - val_accuracy: 0.5000\n",
      "Epoch 25/64\n",
      "163/163 [==============================] - 1s 8ms/step - loss: 0.8159 - accuracy: 0.7429 - val_loss: 0.9507 - val_accuracy: 0.5000\n",
      "Epoch 26/64\n",
      "163/163 [==============================] - 1s 8ms/step - loss: 0.8132 - accuracy: 0.7429 - val_loss: 0.9515 - val_accuracy: 0.5000\n",
      "Epoch 27/64\n",
      "163/163 [==============================] - 1s 8ms/step - loss: 0.8106 - accuracy: 0.7429 - val_loss: 0.9523 - val_accuracy: 0.5000\n",
      "Epoch 28/64\n",
      "163/163 [==============================] - 1s 8ms/step - loss: 0.8082 - accuracy: 0.7429 - val_loss: 0.9530 - val_accuracy: 0.5000\n",
      "Epoch 29/64\n",
      "163/163 [==============================] - 1s 8ms/step - loss: 0.8058 - accuracy: 0.7429 - val_loss: 0.9537 - val_accuracy: 0.5000\n",
      "Epoch 30/64\n",
      "163/163 [==============================] - 1s 8ms/step - loss: 0.8035 - accuracy: 0.7429 - val_loss: 0.9544 - val_accuracy: 0.5000\n",
      "Epoch 31/64\n",
      "163/163 [==============================] - 1s 8ms/step - loss: 0.8013 - accuracy: 0.7429 - val_loss: 0.9551 - val_accuracy: 0.5000\n",
      "Epoch 32/64\n",
      "163/163 [==============================] - 1s 8ms/step - loss: 0.7991 - accuracy: 0.7429 - val_loss: 0.9558 - val_accuracy: 0.5000\n",
      "Epoch 33/64\n",
      "163/163 [==============================] - 1s 8ms/step - loss: 0.7971 - accuracy: 0.7429 - val_loss: 0.9564 - val_accuracy: 0.5000\n",
      "Epoch 34/64\n",
      "163/163 [==============================] - 1s 8ms/step - loss: 0.7951 - accuracy: 0.7429 - val_loss: 0.9571 - val_accuracy: 0.5000\n",
      "Epoch 35/64\n",
      "163/163 [==============================] - 1s 8ms/step - loss: 0.7931 - accuracy: 0.7429 - val_loss: 0.9577 - val_accuracy: 0.5000\n",
      "Epoch 36/64\n",
      "163/163 [==============================] - 1s 8ms/step - loss: 0.7912 - accuracy: 0.7429 - val_loss: 0.9583 - val_accuracy: 0.5000\n",
      "Epoch 37/64\n",
      "163/163 [==============================] - 1s 8ms/step - loss: 0.7894 - accuracy: 0.7429 - val_loss: 0.9589 - val_accuracy: 0.5000\n",
      "Epoch 38/64\n",
      "163/163 [==============================] - 1s 8ms/step - loss: 0.7876 - accuracy: 0.7429 - val_loss: 0.9594 - val_accuracy: 0.5000\n",
      "Epoch 39/64\n",
      "163/163 [==============================] - 1s 8ms/step - loss: 0.7859 - accuracy: 0.7429 - val_loss: 0.9599 - val_accuracy: 0.5000\n",
      "Epoch 40/64\n",
      "163/163 [==============================] - 1s 8ms/step - loss: 0.7842 - accuracy: 0.7429 - val_loss: 0.9604 - val_accuracy: 0.5000\n",
      "Epoch 41/64\n",
      "163/163 [==============================] - 1s 8ms/step - loss: 0.7825 - accuracy: 0.7429 - val_loss: 0.9609 - val_accuracy: 0.5000\n",
      "Epoch 42/64\n",
      "163/163 [==============================] - 1s 8ms/step - loss: 0.7809 - accuracy: 0.7429 - val_loss: 0.9614 - val_accuracy: 0.5000\n",
      "Epoch 43/64\n",
      "163/163 [==============================] - 1s 8ms/step - loss: 0.7794 - accuracy: 0.7429 - val_loss: 0.9618 - val_accuracy: 0.5000\n",
      "Epoch 44/64\n",
      "163/163 [==============================] - 1s 8ms/step - loss: 0.7778 - accuracy: 0.7429 - val_loss: 0.9622 - val_accuracy: 0.5000\n",
      "Epoch 45/64\n",
      "163/163 [==============================] - 1s 8ms/step - loss: 0.7763 - accuracy: 0.7429 - val_loss: 0.9626 - val_accuracy: 0.5000\n",
      "Epoch 46/64\n",
      "163/163 [==============================] - 1s 8ms/step - loss: 0.7749 - accuracy: 0.7429 - val_loss: 0.9630 - val_accuracy: 0.5000\n",
      "Epoch 47/64\n",
      "163/163 [==============================] - 1s 8ms/step - loss: 0.7735 - accuracy: 0.7429 - val_loss: 0.9634 - val_accuracy: 0.5000\n",
      "Epoch 48/64\n",
      "163/163 [==============================] - 1s 8ms/step - loss: 0.7721 - accuracy: 0.7429 - val_loss: 0.9637 - val_accuracy: 0.5000\n",
      "Epoch 49/64\n",
      "163/163 [==============================] - 1s 8ms/step - loss: 0.7707 - accuracy: 0.7429 - val_loss: 0.9640 - val_accuracy: 0.5000\n",
      "Epoch 50/64\n",
      "163/163 [==============================] - 1s 8ms/step - loss: 0.7694 - accuracy: 0.7429 - val_loss: 0.9643 - val_accuracy: 0.5000\n",
      "Epoch 51/64\n",
      "163/163 [==============================] - 1s 8ms/step - loss: 0.7681 - accuracy: 0.7429 - val_loss: 0.9646 - val_accuracy: 0.5000\n",
      "Epoch 52/64\n",
      "163/163 [==============================] - 1s 8ms/step - loss: 0.7668 - accuracy: 0.7429 - val_loss: 0.9648 - val_accuracy: 0.5000\n",
      "Epoch 53/64\n",
      "163/163 [==============================] - 1s 8ms/step - loss: 0.7655 - accuracy: 0.7429 - val_loss: 0.9650 - val_accuracy: 0.5000\n",
      "Epoch 54/64\n",
      "163/163 [==============================] - 1s 8ms/step - loss: 0.7643 - accuracy: 0.7429 - val_loss: 0.9652 - val_accuracy: 0.5000\n",
      "Epoch 55/64\n",
      "163/163 [==============================] - 1s 8ms/step - loss: 0.7631 - accuracy: 0.7429 - val_loss: 0.9654 - val_accuracy: 0.5000\n",
      "Epoch 56/64\n",
      "163/163 [==============================] - 1s 8ms/step - loss: 0.7619 - accuracy: 0.7429 - val_loss: 0.9656 - val_accuracy: 0.5000\n",
      "Epoch 57/64\n",
      "163/163 [==============================] - 1s 8ms/step - loss: 0.7607 - accuracy: 0.7429 - val_loss: 0.9658 - val_accuracy: 0.5000\n",
      "Epoch 58/64\n"
     ]
    },
    {
     "name": "stdout",
     "output_type": "stream",
     "text": [
      "163/163 [==============================] - 1s 8ms/step - loss: 0.7595 - accuracy: 0.7429 - val_loss: 0.9659 - val_accuracy: 0.5000\n",
      "Epoch 59/64\n",
      "163/163 [==============================] - 1s 8ms/step - loss: 0.7584 - accuracy: 0.7429 - val_loss: 0.9660 - val_accuracy: 0.5000\n",
      "Epoch 60/64\n",
      "163/163 [==============================] - 1s 7ms/step - loss: 0.7573 - accuracy: 0.7429 - val_loss: 0.9661 - val_accuracy: 0.5000\n",
      "Epoch 61/64\n",
      "163/163 [==============================] - 1s 7ms/step - loss: 0.7562 - accuracy: 0.7429 - val_loss: 0.9662 - val_accuracy: 0.5000\n",
      "Epoch 62/64\n",
      "163/163 [==============================] - 1s 8ms/step - loss: 0.7551 - accuracy: 0.7429 - val_loss: 0.9663 - val_accuracy: 0.5000\n",
      "Epoch 63/64\n",
      "163/163 [==============================] - 1s 8ms/step - loss: 0.7540 - accuracy: 0.7429 - val_loss: 0.9663 - val_accuracy: 0.5000\n",
      "Epoch 64/64\n",
      "163/163 [==============================] - 1s 7ms/step - loss: 0.7530 - accuracy: 0.7429 - val_loss: 0.9664 - val_accuracy: 0.5000\n"
     ]
    }
   ],
   "source": [
    "model128.compile(optimizer=sgd_lr_001,\n",
    "              loss='binary_crossentropy',\n",
    "              metrics=['accuracy'])\n",
    "\n",
    "histoire128 = model128.fit(train_img128,\n",
    "                    train_y128,\n",
    "                    epochs=64,\n",
    "                    batch_size=32,\n",
    "                    validation_data=(val_img128, val_y128),\n",
    "                    verbose=1)"
   ]
  },
  {
   "cell_type": "code",
   "execution_count": 54,
   "metadata": {},
   "outputs": [
    {
     "name": "stdout",
     "output_type": "stream",
     "text": [
      "Epoch 1/64\n",
      "163/163 [==============================] - 8s 49ms/step - loss: 0.8316 - accuracy: 0.7473 - val_loss: 1.1127 - val_accuracy: 0.5000\n",
      "Epoch 2/64\n",
      "163/163 [==============================] - 7s 44ms/step - loss: 0.7141 - accuracy: 0.8200 - val_loss: 1.2676 - val_accuracy: 0.5000\n",
      "Epoch 3/64\n",
      "163/163 [==============================] - 7s 44ms/step - loss: 0.6732 - accuracy: 0.8668 - val_loss: 0.9461 - val_accuracy: 0.5625\n",
      "Epoch 4/64\n",
      "163/163 [==============================] - 7s 44ms/step - loss: 0.6546 - accuracy: 0.8911 - val_loss: 1.0576 - val_accuracy: 0.5625\n",
      "Epoch 5/64\n",
      "163/163 [==============================] - 7s 43ms/step - loss: 0.6408 - accuracy: 0.9038 - val_loss: 1.0039 - val_accuracy: 0.6875\n",
      "Epoch 6/64\n",
      "163/163 [==============================] - 7s 44ms/step - loss: 0.6313 - accuracy: 0.9151 - val_loss: 1.0135 - val_accuracy: 0.5625\n",
      "Epoch 7/64\n",
      "163/163 [==============================] - 7s 44ms/step - loss: 0.6199 - accuracy: 0.9201 - val_loss: 1.0565 - val_accuracy: 0.6250\n",
      "Epoch 8/64\n",
      "163/163 [==============================] - 7s 44ms/step - loss: 0.6118 - accuracy: 0.9294 - val_loss: 0.9398 - val_accuracy: 0.6250\n",
      "Epoch 9/64\n",
      "163/163 [==============================] - 7s 44ms/step - loss: 0.6058 - accuracy: 0.9319 - val_loss: 1.0605 - val_accuracy: 0.6250\n",
      "Epoch 10/64\n",
      "163/163 [==============================] - 7s 44ms/step - loss: 0.6016 - accuracy: 0.9337 - val_loss: 0.9197 - val_accuracy: 0.7500\n",
      "Epoch 11/64\n",
      "163/163 [==============================] - 7s 43ms/step - loss: 0.5944 - accuracy: 0.9390 - val_loss: 0.8314 - val_accuracy: 0.8125\n",
      "Epoch 12/64\n",
      "163/163 [==============================] - 7s 43ms/step - loss: 0.5906 - accuracy: 0.9406 - val_loss: 0.8121 - val_accuracy: 0.8750\n",
      "Epoch 13/64\n",
      "163/163 [==============================] - 7s 43ms/step - loss: 0.5882 - accuracy: 0.9417 - val_loss: 0.8538 - val_accuracy: 0.8125\n",
      "Epoch 14/64\n",
      "163/163 [==============================] - 7s 43ms/step - loss: 0.5833 - accuracy: 0.9456 - val_loss: 0.8658 - val_accuracy: 0.8125\n",
      "Epoch 15/64\n",
      "163/163 [==============================] - 7s 43ms/step - loss: 0.5771 - accuracy: 0.9467 - val_loss: 0.8326 - val_accuracy: 0.8125\n",
      "Epoch 16/64\n",
      "163/163 [==============================] - 7s 44ms/step - loss: 0.5745 - accuracy: 0.9479 - val_loss: 0.8590 - val_accuracy: 0.7500\n",
      "Epoch 17/64\n",
      "163/163 [==============================] - 7s 44ms/step - loss: 0.5700 - accuracy: 0.9479 - val_loss: 0.8106 - val_accuracy: 0.8125\n",
      "Epoch 18/64\n",
      "163/163 [==============================] - 7s 43ms/step - loss: 0.5650 - accuracy: 0.9490 - val_loss: 0.7888 - val_accuracy: 0.8125\n",
      "Epoch 19/64\n",
      "163/163 [==============================] - 7s 43ms/step - loss: 0.5615 - accuracy: 0.9521 - val_loss: 0.8571 - val_accuracy: 0.7500\n",
      "Epoch 20/64\n",
      "163/163 [==============================] - 7s 43ms/step - loss: 0.5589 - accuracy: 0.9519 - val_loss: 0.7615 - val_accuracy: 0.9375\n",
      "Epoch 21/64\n",
      "163/163 [==============================] - 7s 43ms/step - loss: 0.5571 - accuracy: 0.9528 - val_loss: 0.9111 - val_accuracy: 0.7500\n",
      "Epoch 22/64\n",
      "163/163 [==============================] - 7s 45ms/step - loss: 0.5535 - accuracy: 0.9532 - val_loss: 0.7815 - val_accuracy: 0.8750\n",
      "Epoch 23/64\n",
      "163/163 [==============================] - 7s 45ms/step - loss: 0.5481 - accuracy: 0.9551 - val_loss: 1.0050 - val_accuracy: 0.6875\n",
      "Epoch 24/64\n",
      "163/163 [==============================] - 7s 45ms/step - loss: 0.5454 - accuracy: 0.9563 - val_loss: 0.7979 - val_accuracy: 0.8125\n",
      "Epoch 25/64\n",
      "163/163 [==============================] - 8s 46ms/step - loss: 0.5422 - accuracy: 0.9542 - val_loss: 0.7499 - val_accuracy: 0.8750\n",
      "Epoch 26/64\n",
      "163/163 [==============================] - 7s 45ms/step - loss: 0.5377 - accuracy: 0.9586 - val_loss: 0.8118 - val_accuracy: 0.8125\n",
      "Epoch 27/64\n",
      "163/163 [==============================] - 7s 44ms/step - loss: 0.5353 - accuracy: 0.9553 - val_loss: 0.7248 - val_accuracy: 0.9375\n",
      "Epoch 28/64\n",
      "163/163 [==============================] - 7s 44ms/step - loss: 0.5319 - accuracy: 0.9584 - val_loss: 0.8081 - val_accuracy: 0.8125\n",
      "Epoch 29/64\n",
      "163/163 [==============================] - 7s 43ms/step - loss: 0.5304 - accuracy: 0.9567 - val_loss: 0.7473 - val_accuracy: 0.8750\n",
      "Epoch 30/64\n",
      "163/163 [==============================] - 7s 44ms/step - loss: 0.5252 - accuracy: 0.9603 - val_loss: 0.7729 - val_accuracy: 0.8750\n",
      "Epoch 31/64\n",
      "163/163 [==============================] - 8s 48ms/step - loss: 0.5240 - accuracy: 0.9595 - val_loss: 0.8246 - val_accuracy: 0.7500\n",
      "Epoch 32/64\n",
      "163/163 [==============================] - 8s 47ms/step - loss: 0.5218 - accuracy: 0.9609 - val_loss: 0.7979 - val_accuracy: 0.7500\n",
      "Epoch 33/64\n",
      "163/163 [==============================] - 7s 46ms/step - loss: 0.5178 - accuracy: 0.9611 - val_loss: 0.7710 - val_accuracy: 0.8125\n",
      "Epoch 34/64\n",
      "163/163 [==============================] - 7s 46ms/step - loss: 0.5138 - accuracy: 0.9609 - val_loss: 0.7706 - val_accuracy: 0.8125\n",
      "Epoch 35/64\n",
      "163/163 [==============================] - 7s 45ms/step - loss: 0.5119 - accuracy: 0.9617 - val_loss: 0.8468 - val_accuracy: 0.7500\n",
      "Epoch 36/64\n",
      "163/163 [==============================] - 7s 44ms/step - loss: 0.5084 - accuracy: 0.9618 - val_loss: 0.8807 - val_accuracy: 0.7500\n",
      "Epoch 37/64\n",
      "163/163 [==============================] - 7s 45ms/step - loss: 0.5064 - accuracy: 0.9601 - val_loss: 0.7258 - val_accuracy: 0.8750\n",
      "Epoch 38/64\n",
      "163/163 [==============================] - 7s 44ms/step - loss: 0.5064 - accuracy: 0.9599 - val_loss: 0.6996 - val_accuracy: 0.8750\n",
      "Epoch 39/64\n",
      "163/163 [==============================] - 7s 44ms/step - loss: 0.5016 - accuracy: 0.9613 - val_loss: 0.8384 - val_accuracy: 0.7500\n",
      "Epoch 40/64\n",
      "163/163 [==============================] - 7s 44ms/step - loss: 0.5004 - accuracy: 0.9645 - val_loss: 0.7667 - val_accuracy: 0.7500\n",
      "Epoch 41/64\n",
      "163/163 [==============================] - 7s 44ms/step - loss: 0.4950 - accuracy: 0.9651 - val_loss: 0.8781 - val_accuracy: 0.7500\n",
      "Epoch 42/64\n",
      "163/163 [==============================] - 7s 44ms/step - loss: 0.4923 - accuracy: 0.9643 - val_loss: 0.7886 - val_accuracy: 0.7500\n",
      "Epoch 43/64\n",
      "163/163 [==============================] - 7s 44ms/step - loss: 0.4909 - accuracy: 0.9622 - val_loss: 0.6707 - val_accuracy: 0.9375\n",
      "Epoch 44/64\n",
      "163/163 [==============================] - 7s 44ms/step - loss: 0.4884 - accuracy: 0.9641 - val_loss: 0.7303 - val_accuracy: 0.8750\n",
      "Epoch 45/64\n",
      "163/163 [==============================] - 7s 44ms/step - loss: 0.4891 - accuracy: 0.9640 - val_loss: 0.7567 - val_accuracy: 0.8125\n",
      "Epoch 46/64\n",
      "163/163 [==============================] - 7s 44ms/step - loss: 0.4825 - accuracy: 0.9651 - val_loss: 0.8018 - val_accuracy: 0.7500\n",
      "Epoch 47/64\n",
      "163/163 [==============================] - 7s 44ms/step - loss: 0.4820 - accuracy: 0.9655 - val_loss: 1.0314 - val_accuracy: 0.6875\n",
      "Epoch 48/64\n",
      "163/163 [==============================] - 7s 44ms/step - loss: 0.4782 - accuracy: 0.9655 - val_loss: 0.7728 - val_accuracy: 0.7500\n",
      "Epoch 49/64\n",
      "163/163 [==============================] - 7s 44ms/step - loss: 0.4767 - accuracy: 0.9640 - val_loss: 0.9152 - val_accuracy: 0.6875\n",
      "Epoch 50/64\n",
      "163/163 [==============================] - 7s 44ms/step - loss: 0.4733 - accuracy: 0.9643 - val_loss: 0.6851 - val_accuracy: 0.8750\n",
      "Epoch 51/64\n",
      "163/163 [==============================] - 7s 44ms/step - loss: 0.4701 - accuracy: 0.9680 - val_loss: 0.7058 - val_accuracy: 0.8125\n",
      "Epoch 52/64\n",
      "163/163 [==============================] - 7s 44ms/step - loss: 0.4694 - accuracy: 0.9659 - val_loss: 0.6315 - val_accuracy: 0.9375\n",
      "Epoch 53/64\n",
      "163/163 [==============================] - 7s 44ms/step - loss: 0.4673 - accuracy: 0.9643 - val_loss: 0.6604 - val_accuracy: 0.8750\n",
      "Epoch 54/64\n",
      "163/163 [==============================] - 7s 44ms/step - loss: 0.4649 - accuracy: 0.9664 - val_loss: 0.6851 - val_accuracy: 0.8750\n",
      "Epoch 55/64\n",
      "163/163 [==============================] - 7s 44ms/step - loss: 0.4609 - accuracy: 0.9682 - val_loss: 0.7788 - val_accuracy: 0.7500\n",
      "Epoch 56/64\n",
      "163/163 [==============================] - 7s 45ms/step - loss: 0.4591 - accuracy: 0.9697 - val_loss: 0.6940 - val_accuracy: 0.8750\n",
      "Epoch 57/64\n",
      "163/163 [==============================] - 7s 45ms/step - loss: 0.4581 - accuracy: 0.9682 - val_loss: 0.9665 - val_accuracy: 0.6875\n",
      "Epoch 58/64\n",
      "163/163 [==============================] - 7s 45ms/step - loss: 0.4557 - accuracy: 0.9688 - val_loss: 0.7444 - val_accuracy: 0.7500\n",
      "Epoch 59/64\n",
      "163/163 [==============================] - 7s 45ms/step - loss: 0.4535 - accuracy: 0.9672 - val_loss: 0.6811 - val_accuracy: 0.8750\n",
      "Epoch 60/64\n",
      "163/163 [==============================] - 7s 46ms/step - loss: 0.4504 - accuracy: 0.9684 - val_loss: 0.6733 - val_accuracy: 0.8750\n",
      "Epoch 61/64\n",
      "163/163 [==============================] - 7s 46ms/step - loss: 0.4484 - accuracy: 0.9686 - val_loss: 0.8238 - val_accuracy: 0.7500\n",
      "Epoch 62/64\n",
      "163/163 [==============================] - 7s 45ms/step - loss: 0.4472 - accuracy: 0.9676 - val_loss: 0.6640 - val_accuracy: 0.8750\n",
      "Epoch 63/64\n",
      "163/163 [==============================] - 7s 45ms/step - loss: 0.4440 - accuracy: 0.9695 - val_loss: 0.6794 - val_accuracy: 0.8750\n",
      "Epoch 64/64\n",
      "163/163 [==============================] - 7s 45ms/step - loss: 0.4425 - accuracy: 0.9682 - val_loss: 0.5953 - val_accuracy: 0.9375\n"
     ]
    }
   ],
   "source": [
    "model256.compile(optimizer=sgd_lr_001,\n",
    "              loss='binary_crossentropy',\n",
    "              metrics=['accuracy'])\n",
    "\n",
    "histoire256 = model256.fit(train_img256,\n",
    "                    train_y256,\n",
    "                    epochs=64,\n",
    "                    batch_size=32,\n",
    "                    validation_data=(val_img256, val_y256),\n",
    "                    verbose=1)"
   ]
  },
  {
   "cell_type": "code",
   "execution_count": 55,
   "metadata": {},
   "outputs": [
    {
     "name": "stdout",
     "output_type": "stream",
     "text": [
      "Epoch 1/64\n",
      "163/163 [==============================] - 2s 11ms/step - loss: 0.5627 - accuracy: 0.7301 - val_loss: 0.7641 - val_accuracy: 0.5000\n",
      "Epoch 2/64\n",
      "163/163 [==============================] - 0s 3ms/step - loss: 0.5049 - accuracy: 0.7433 - val_loss: 0.7414 - val_accuracy: 0.5000\n",
      "Epoch 3/64\n",
      "163/163 [==============================] - 0s 2ms/step - loss: 0.4642 - accuracy: 0.7488 - val_loss: 0.7051 - val_accuracy: 0.5000\n",
      "Epoch 4/64\n",
      "163/163 [==============================] - 0s 2ms/step - loss: 0.4302 - accuracy: 0.7692 - val_loss: 0.6748 - val_accuracy: 0.5625\n",
      "Epoch 5/64\n",
      "163/163 [==============================] - 0s 2ms/step - loss: 0.4014 - accuracy: 0.8056 - val_loss: 0.6332 - val_accuracy: 0.6250\n",
      "Epoch 6/64\n",
      "163/163 [==============================] - 0s 2ms/step - loss: 0.3768 - accuracy: 0.8378 - val_loss: 0.6351 - val_accuracy: 0.6250\n",
      "Epoch 7/64\n",
      "163/163 [==============================] - 0s 2ms/step - loss: 0.3539 - accuracy: 0.8589 - val_loss: 0.6084 - val_accuracy: 0.6875\n",
      "Epoch 8/64\n",
      "163/163 [==============================] - 0s 2ms/step - loss: 0.3351 - accuracy: 0.8748 - val_loss: 0.5878 - val_accuracy: 0.6875\n",
      "Epoch 9/64\n",
      "163/163 [==============================] - 0s 2ms/step - loss: 0.3185 - accuracy: 0.8859 - val_loss: 0.5752 - val_accuracy: 0.6875\n",
      "Epoch 10/64\n",
      "163/163 [==============================] - 0s 2ms/step - loss: 0.3039 - accuracy: 0.8946 - val_loss: 0.5907 - val_accuracy: 0.6875\n",
      "Epoch 11/64\n",
      "163/163 [==============================] - 0s 2ms/step - loss: 0.2915 - accuracy: 0.8988 - val_loss: 0.5942 - val_accuracy: 0.6875\n",
      "Epoch 12/64\n",
      "163/163 [==============================] - 0s 2ms/step - loss: 0.2811 - accuracy: 0.9045 - val_loss: 0.5974 - val_accuracy: 0.6875\n",
      "Epoch 13/64\n",
      "163/163 [==============================] - 0s 2ms/step - loss: 0.2721 - accuracy: 0.9086 - val_loss: 0.5728 - val_accuracy: 0.6875\n",
      "Epoch 14/64\n",
      "163/163 [==============================] - 0s 2ms/step - loss: 0.2633 - accuracy: 0.9099 - val_loss: 0.5121 - val_accuracy: 0.8125\n",
      "Epoch 15/64\n",
      "163/163 [==============================] - 0s 2ms/step - loss: 0.2560 - accuracy: 0.9139 - val_loss: 0.5404 - val_accuracy: 0.7500\n",
      "Epoch 16/64\n",
      "163/163 [==============================] - 0s 2ms/step - loss: 0.2494 - accuracy: 0.9183 - val_loss: 0.5394 - val_accuracy: 0.7500\n",
      "Epoch 17/64\n",
      "163/163 [==============================] - 0s 2ms/step - loss: 0.2427 - accuracy: 0.9181 - val_loss: 0.5538 - val_accuracy: 0.7500\n",
      "Epoch 18/64\n",
      "163/163 [==============================] - 0s 2ms/step - loss: 0.2368 - accuracy: 0.9229 - val_loss: 0.5113 - val_accuracy: 0.8125\n",
      "Epoch 19/64\n",
      "163/163 [==============================] - 0s 2ms/step - loss: 0.2314 - accuracy: 0.9224 - val_loss: 0.5138 - val_accuracy: 0.7500\n",
      "Epoch 20/64\n",
      "163/163 [==============================] - 0s 2ms/step - loss: 0.2265 - accuracy: 0.9260 - val_loss: 0.5253 - val_accuracy: 0.7500\n",
      "Epoch 21/64\n",
      "163/163 [==============================] - 0s 2ms/step - loss: 0.2220 - accuracy: 0.9256 - val_loss: 0.5307 - val_accuracy: 0.7500\n",
      "Epoch 22/64\n",
      "163/163 [==============================] - 0s 2ms/step - loss: 0.2177 - accuracy: 0.9277 - val_loss: 0.4871 - val_accuracy: 0.8125\n",
      "Epoch 23/64\n",
      "163/163 [==============================] - 0s 2ms/step - loss: 0.2140 - accuracy: 0.9304 - val_loss: 0.4984 - val_accuracy: 0.8125\n",
      "Epoch 24/64\n",
      "163/163 [==============================] - 0s 2ms/step - loss: 0.2100 - accuracy: 0.9298 - val_loss: 0.5328 - val_accuracy: 0.7500\n",
      "Epoch 25/64\n",
      "163/163 [==============================] - ETA: 0s - loss: 0.2078 - accuracy: 0.92 - 0s 2ms/step - loss: 0.2066 - accuracy: 0.9304 - val_loss: 0.5203 - val_accuracy: 0.7500\n",
      "Epoch 26/64\n",
      "163/163 [==============================] - 0s 2ms/step - loss: 0.2030 - accuracy: 0.9325 - val_loss: 0.4859 - val_accuracy: 0.8125\n",
      "Epoch 27/64\n",
      "163/163 [==============================] - 0s 2ms/step - loss: 0.1998 - accuracy: 0.9314 - val_loss: 0.4583 - val_accuracy: 0.8125\n",
      "Epoch 28/64\n",
      "163/163 [==============================] - 0s 2ms/step - loss: 0.1965 - accuracy: 0.9346 - val_loss: 0.4709 - val_accuracy: 0.8125\n",
      "Epoch 29/64\n",
      "163/163 [==============================] - 0s 2ms/step - loss: 0.1941 - accuracy: 0.9350 - val_loss: 0.4546 - val_accuracy: 0.8125\n",
      "Epoch 30/64\n",
      "163/163 [==============================] - 0s 2ms/step - loss: 0.1911 - accuracy: 0.9356 - val_loss: 0.4501 - val_accuracy: 0.8125\n",
      "Epoch 31/64\n",
      "163/163 [==============================] - 0s 2ms/step - loss: 0.1886 - accuracy: 0.9387 - val_loss: 0.4520 - val_accuracy: 0.8125\n",
      "Epoch 32/64\n",
      "163/163 [==============================] - 0s 2ms/step - loss: 0.1866 - accuracy: 0.9381 - val_loss: 0.4871 - val_accuracy: 0.8125\n",
      "Epoch 33/64\n",
      "163/163 [==============================] - 0s 2ms/step - loss: 0.1843 - accuracy: 0.9392 - val_loss: 0.4569 - val_accuracy: 0.8125\n",
      "Epoch 34/64\n",
      "163/163 [==============================] - 0s 2ms/step - loss: 0.1816 - accuracy: 0.9387 - val_loss: 0.4688 - val_accuracy: 0.8125\n",
      "Epoch 35/64\n",
      "163/163 [==============================] - 0s 2ms/step - loss: 0.1799 - accuracy: 0.9396 - val_loss: 0.4474 - val_accuracy: 0.8125\n",
      "Epoch 36/64\n",
      "163/163 [==============================] - 0s 2ms/step - loss: 0.1778 - accuracy: 0.9396 - val_loss: 0.4427 - val_accuracy: 0.8125\n",
      "Epoch 37/64\n",
      "163/163 [==============================] - 0s 2ms/step - loss: 0.1760 - accuracy: 0.9404 - val_loss: 0.4429 - val_accuracy: 0.8125\n",
      "Epoch 38/64\n",
      "163/163 [==============================] - 0s 2ms/step - loss: 0.1742 - accuracy: 0.9394 - val_loss: 0.4466 - val_accuracy: 0.8125\n",
      "Epoch 39/64\n",
      "163/163 [==============================] - 0s 2ms/step - loss: 0.1722 - accuracy: 0.9394 - val_loss: 0.4373 - val_accuracy: 0.8125\n",
      "Epoch 40/64\n",
      "163/163 [==============================] - 0s 2ms/step - loss: 0.1705 - accuracy: 0.9431 - val_loss: 0.4467 - val_accuracy: 0.8125\n",
      "Epoch 41/64\n",
      "163/163 [==============================] - 0s 2ms/step - loss: 0.1684 - accuracy: 0.9429 - val_loss: 0.3954 - val_accuracy: 0.8750\n",
      "Epoch 42/64\n",
      "163/163 [==============================] - 0s 2ms/step - loss: 0.1673 - accuracy: 0.9438 - val_loss: 0.4711 - val_accuracy: 0.8125\n",
      "Epoch 43/64\n",
      "163/163 [==============================] - 0s 2ms/step - loss: 0.1659 - accuracy: 0.9425 - val_loss: 0.4443 - val_accuracy: 0.8125\n",
      "Epoch 44/64\n",
      "163/163 [==============================] - 0s 2ms/step - loss: 0.1644 - accuracy: 0.9433 - val_loss: 0.4161 - val_accuracy: 0.8125\n",
      "Epoch 45/64\n",
      "163/163 [==============================] - 0s 2ms/step - loss: 0.1631 - accuracy: 0.9436 - val_loss: 0.4258 - val_accuracy: 0.8125\n",
      "Epoch 46/64\n",
      "163/163 [==============================] - 0s 2ms/step - loss: 0.1615 - accuracy: 0.9433 - val_loss: 0.4374 - val_accuracy: 0.8125\n",
      "Epoch 47/64\n",
      "163/163 [==============================] - 0s 2ms/step - loss: 0.1603 - accuracy: 0.9442 - val_loss: 0.4124 - val_accuracy: 0.8125\n",
      "Epoch 48/64\n",
      "163/163 [==============================] - 0s 2ms/step - loss: 0.1589 - accuracy: 0.9450 - val_loss: 0.4083 - val_accuracy: 0.8125\n",
      "Epoch 49/64\n",
      "163/163 [==============================] - 0s 2ms/step - loss: 0.1579 - accuracy: 0.9440 - val_loss: 0.4263 - val_accuracy: 0.8125\n",
      "Epoch 50/64\n",
      "163/163 [==============================] - 0s 2ms/step - loss: 0.1568 - accuracy: 0.9456 - val_loss: 0.4302 - val_accuracy: 0.8125\n",
      "Epoch 51/64\n",
      "163/163 [==============================] - 0s 2ms/step - loss: 0.1553 - accuracy: 0.9457 - val_loss: 0.4116 - val_accuracy: 0.8125\n",
      "Epoch 52/64\n",
      "163/163 [==============================] - 0s 2ms/step - loss: 0.1544 - accuracy: 0.9452 - val_loss: 0.4182 - val_accuracy: 0.8125\n",
      "Epoch 53/64\n",
      "163/163 [==============================] - 0s 2ms/step - loss: 0.1528 - accuracy: 0.9461 - val_loss: 0.4260 - val_accuracy: 0.8125\n",
      "Epoch 54/64\n",
      "163/163 [==============================] - 0s 2ms/step - loss: 0.1519 - accuracy: 0.9457 - val_loss: 0.4108 - val_accuracy: 0.8125\n",
      "Epoch 55/64\n",
      "163/163 [==============================] - 0s 2ms/step - loss: 0.1510 - accuracy: 0.9459 - val_loss: 0.4172 - val_accuracy: 0.8125\n",
      "Epoch 56/64\n",
      "163/163 [==============================] - 0s 2ms/step - loss: 0.1501 - accuracy: 0.9475 - val_loss: 0.3740 - val_accuracy: 0.8750\n",
      "Epoch 57/64\n",
      "163/163 [==============================] - 0s 2ms/step - loss: 0.1489 - accuracy: 0.9482 - val_loss: 0.4274 - val_accuracy: 0.8125\n",
      "Epoch 58/64\n"
     ]
    },
    {
     "name": "stdout",
     "output_type": "stream",
     "text": [
      "163/163 [==============================] - 1s 4ms/step - loss: 0.1481 - accuracy: 0.9488 - val_loss: 0.3811 - val_accuracy: 0.8750\n",
      "Epoch 59/64\n",
      "163/163 [==============================] - 0s 2ms/step - loss: 0.1473 - accuracy: 0.9488 - val_loss: 0.3805 - val_accuracy: 0.8750\n",
      "Epoch 60/64\n",
      "163/163 [==============================] - 0s 2ms/step - loss: 0.1462 - accuracy: 0.9479 - val_loss: 0.4015 - val_accuracy: 0.8125\n",
      "Epoch 61/64\n",
      "163/163 [==============================] - 0s 2ms/step - loss: 0.1454 - accuracy: 0.9479 - val_loss: 0.3955 - val_accuracy: 0.8125\n",
      "Epoch 62/64\n",
      "163/163 [==============================] - 0s 2ms/step - loss: 0.1447 - accuracy: 0.9486 - val_loss: 0.3681 - val_accuracy: 0.8750\n",
      "Epoch 63/64\n",
      "163/163 [==============================] - 0s 2ms/step - loss: 0.1438 - accuracy: 0.9486 - val_loss: 0.3718 - val_accuracy: 0.8750\n",
      "Epoch 64/64\n",
      "163/163 [==============================] - 0s 2ms/step - loss: 0.1430 - accuracy: 0.9494 - val_loss: 0.4083 - val_accuracy: 0.8125\n"
     ]
    }
   ],
   "source": [
    "model64shal.compile(optimizer=sgd_lr_001,\n",
    "              loss='binary_crossentropy',\n",
    "              metrics=['accuracy'])\n",
    "\n",
    "histoire64shal = model64shal.fit(train_img64,\n",
    "                    train_y64,\n",
    "                    epochs=64,\n",
    "                    batch_size=32,\n",
    "                    validation_data=(val_img64, val_y64),\n",
    "                    verbose=1)"
   ]
  },
  {
   "cell_type": "code",
   "execution_count": 56,
   "metadata": {},
   "outputs": [
    {
     "name": "stdout",
     "output_type": "stream",
     "text": [
      "Epoch 1/64\n",
      "163/163 [==============================] - 2s 9ms/step - loss: 0.4815 - accuracy: 0.7577 - val_loss: 0.6593 - val_accuracy: 0.6250\n",
      "Epoch 2/64\n",
      "163/163 [==============================] - 1s 8ms/step - loss: 0.3685 - accuracy: 0.8482 - val_loss: 0.6329 - val_accuracy: 0.6250\n",
      "Epoch 3/64\n",
      "163/163 [==============================] - 1s 8ms/step - loss: 0.3098 - accuracy: 0.8928 - val_loss: 0.6005 - val_accuracy: 0.6875\n",
      "Epoch 4/64\n",
      "163/163 [==============================] - 1s 8ms/step - loss: 0.2762 - accuracy: 0.9084 - val_loss: 0.5711 - val_accuracy: 0.6875\n",
      "Epoch 5/64\n",
      "163/163 [==============================] - 1s 8ms/step - loss: 0.2532 - accuracy: 0.9137 - val_loss: 0.4860 - val_accuracy: 0.8125\n",
      "Epoch 6/64\n",
      "163/163 [==============================] - 1s 8ms/step - loss: 0.2356 - accuracy: 0.9189 - val_loss: 0.5272 - val_accuracy: 0.6875\n",
      "Epoch 7/64\n",
      "163/163 [==============================] - 1s 8ms/step - loss: 0.2219 - accuracy: 0.9247 - val_loss: 0.5771 - val_accuracy: 0.6875\n",
      "Epoch 8/64\n",
      "163/163 [==============================] - 1s 8ms/step - loss: 0.2104 - accuracy: 0.9275 - val_loss: 0.5097 - val_accuracy: 0.7500\n",
      "Epoch 9/64\n",
      "163/163 [==============================] - 1s 8ms/step - loss: 0.2018 - accuracy: 0.9289 - val_loss: 0.4908 - val_accuracy: 0.7500\n",
      "Epoch 10/64\n",
      "163/163 [==============================] - 1s 8ms/step - loss: 0.1925 - accuracy: 0.9344 - val_loss: 0.4935 - val_accuracy: 0.7500\n",
      "Epoch 11/64\n",
      "163/163 [==============================] - 1s 8ms/step - loss: 0.1871 - accuracy: 0.9342 - val_loss: 0.4620 - val_accuracy: 0.8125\n",
      "Epoch 12/64\n",
      "163/163 [==============================] - 1s 8ms/step - loss: 0.1815 - accuracy: 0.9379 - val_loss: 0.4197 - val_accuracy: 0.8125\n",
      "Epoch 13/64\n",
      "163/163 [==============================] - 1s 9ms/step - loss: 0.1764 - accuracy: 0.9394 - val_loss: 0.4177 - val_accuracy: 0.8125\n",
      "Epoch 14/64\n",
      "163/163 [==============================] - 1s 8ms/step - loss: 0.1721 - accuracy: 0.9396 - val_loss: 0.5033 - val_accuracy: 0.7500\n",
      "Epoch 15/64\n",
      "163/163 [==============================] - 1s 8ms/step - loss: 0.1676 - accuracy: 0.9410 - val_loss: 0.3898 - val_accuracy: 0.8125\n",
      "Epoch 16/64\n",
      "163/163 [==============================] - 1s 8ms/step - loss: 0.1641 - accuracy: 0.9423 - val_loss: 0.3720 - val_accuracy: 0.8125\n",
      "Epoch 17/64\n",
      "163/163 [==============================] - 1s 8ms/step - loss: 0.1602 - accuracy: 0.9431 - val_loss: 0.3769 - val_accuracy: 0.8125\n",
      "Epoch 18/64\n",
      "163/163 [==============================] - 1s 8ms/step - loss: 0.1568 - accuracy: 0.9448 - val_loss: 0.4062 - val_accuracy: 0.8125\n",
      "Epoch 19/64\n",
      "163/163 [==============================] - 1s 8ms/step - loss: 0.1550 - accuracy: 0.9452 - val_loss: 0.4241 - val_accuracy: 0.8125\n",
      "Epoch 20/64\n",
      "163/163 [==============================] - 1s 8ms/step - loss: 0.1528 - accuracy: 0.9436 - val_loss: 0.3501 - val_accuracy: 0.8125\n",
      "Epoch 21/64\n",
      "163/163 [==============================] - 1s 8ms/step - loss: 0.1500 - accuracy: 0.9457 - val_loss: 0.4321 - val_accuracy: 0.8125\n",
      "Epoch 22/64\n",
      "163/163 [==============================] - 1s 8ms/step - loss: 0.1470 - accuracy: 0.9479 - val_loss: 0.3937 - val_accuracy: 0.8125\n",
      "Epoch 23/64\n",
      "163/163 [==============================] - 1s 8ms/step - loss: 0.1454 - accuracy: 0.9475 - val_loss: 0.3430 - val_accuracy: 0.8125\n",
      "Epoch 24/64\n",
      "163/163 [==============================] - 1s 8ms/step - loss: 0.1441 - accuracy: 0.9475 - val_loss: 0.3990 - val_accuracy: 0.8125\n",
      "Epoch 25/64\n",
      "163/163 [==============================] - 1s 8ms/step - loss: 0.1409 - accuracy: 0.9494 - val_loss: 0.5327 - val_accuracy: 0.7500\n",
      "Epoch 26/64\n",
      "163/163 [==============================] - 1s 8ms/step - loss: 0.1402 - accuracy: 0.9519 - val_loss: 0.3494 - val_accuracy: 0.8125\n",
      "Epoch 27/64\n",
      "163/163 [==============================] - 1s 8ms/step - loss: 0.1384 - accuracy: 0.9513 - val_loss: 0.3724 - val_accuracy: 0.8125\n",
      "Epoch 28/64\n",
      "163/163 [==============================] - 1s 8ms/step - loss: 0.1370 - accuracy: 0.9507 - val_loss: 0.3513 - val_accuracy: 0.8125\n",
      "Epoch 29/64\n",
      "163/163 [==============================] - 1s 8ms/step - loss: 0.1361 - accuracy: 0.9523 - val_loss: 0.3236 - val_accuracy: 0.8750\n",
      "Epoch 30/64\n",
      "163/163 [==============================] - 1s 8ms/step - loss: 0.1340 - accuracy: 0.9530 - val_loss: 0.3685 - val_accuracy: 0.8125\n",
      "Epoch 31/64\n",
      "163/163 [==============================] - 1s 8ms/step - loss: 0.1327 - accuracy: 0.9532 - val_loss: 0.3633 - val_accuracy: 0.8125\n",
      "Epoch 32/64\n",
      "163/163 [==============================] - 1s 8ms/step - loss: 0.1315 - accuracy: 0.9546 - val_loss: 0.3800 - val_accuracy: 0.8125\n",
      "Epoch 33/64\n",
      "163/163 [==============================] - 1s 8ms/step - loss: 0.1316 - accuracy: 0.9513 - val_loss: 0.3281 - val_accuracy: 0.8750\n",
      "Epoch 34/64\n",
      "163/163 [==============================] - 1s 8ms/step - loss: 0.1304 - accuracy: 0.9528 - val_loss: 0.3110 - val_accuracy: 0.8750\n",
      "Epoch 35/64\n",
      "163/163 [==============================] - 1s 8ms/step - loss: 0.1286 - accuracy: 0.9536 - val_loss: 0.2983 - val_accuracy: 0.9375\n",
      "Epoch 36/64\n",
      "163/163 [==============================] - 1s 8ms/step - loss: 0.1284 - accuracy: 0.9551 - val_loss: 0.3492 - val_accuracy: 0.8125\n",
      "Epoch 37/64\n",
      "163/163 [==============================] - 1s 8ms/step - loss: 0.1276 - accuracy: 0.9567 - val_loss: 0.3752 - val_accuracy: 0.8125\n",
      "Epoch 38/64\n",
      "163/163 [==============================] - 1s 8ms/step - loss: 0.1268 - accuracy: 0.9538 - val_loss: 0.3343 - val_accuracy: 0.8750\n",
      "Epoch 39/64\n",
      "163/163 [==============================] - 1s 8ms/step - loss: 0.1256 - accuracy: 0.9534 - val_loss: 0.3687 - val_accuracy: 0.8125\n",
      "Epoch 40/64\n",
      "163/163 [==============================] - 1s 8ms/step - loss: 0.1248 - accuracy: 0.9549 - val_loss: 0.3505 - val_accuracy: 0.8750\n",
      "Epoch 41/64\n",
      "163/163 [==============================] - 1s 8ms/step - loss: 0.1234 - accuracy: 0.9571 - val_loss: 0.3654 - val_accuracy: 0.8125\n",
      "Epoch 42/64\n",
      "163/163 [==============================] - 1s 8ms/step - loss: 0.1234 - accuracy: 0.9557 - val_loss: 0.3459 - val_accuracy: 0.8750\n",
      "Epoch 43/64\n",
      "163/163 [==============================] - 1s 8ms/step - loss: 0.1221 - accuracy: 0.9571 - val_loss: 0.3070 - val_accuracy: 0.8750\n",
      "Epoch 44/64\n",
      "163/163 [==============================] - 1s 8ms/step - loss: 0.1213 - accuracy: 0.9555 - val_loss: 0.4093 - val_accuracy: 0.8125\n",
      "Epoch 45/64\n",
      "163/163 [==============================] - 1s 8ms/step - loss: 0.1214 - accuracy: 0.9567 - val_loss: 0.3474 - val_accuracy: 0.8750\n",
      "Epoch 46/64\n",
      "163/163 [==============================] - 1s 8ms/step - loss: 0.1204 - accuracy: 0.9563 - val_loss: 0.3765 - val_accuracy: 0.8125\n",
      "Epoch 47/64\n",
      "163/163 [==============================] - 1s 8ms/step - loss: 0.1201 - accuracy: 0.9561 - val_loss: 0.3831 - val_accuracy: 0.8125\n",
      "Epoch 48/64\n",
      "163/163 [==============================] - 1s 8ms/step - loss: 0.1191 - accuracy: 0.9555 - val_loss: 0.3110 - val_accuracy: 0.8750\n",
      "Epoch 49/64\n",
      "163/163 [==============================] - 1s 8ms/step - loss: 0.1184 - accuracy: 0.9567 - val_loss: 0.2887 - val_accuracy: 0.9375\n",
      "Epoch 50/64\n",
      "163/163 [==============================] - 1s 8ms/step - loss: 0.1184 - accuracy: 0.9572 - val_loss: 0.2870 - val_accuracy: 0.9375\n",
      "Epoch 51/64\n",
      "163/163 [==============================] - 1s 8ms/step - loss: 0.1175 - accuracy: 0.9586 - val_loss: 0.3820 - val_accuracy: 0.8125\n",
      "Epoch 52/64\n",
      "163/163 [==============================] - 1s 8ms/step - loss: 0.1162 - accuracy: 0.9582 - val_loss: 0.2871 - val_accuracy: 0.8750\n",
      "Epoch 53/64\n",
      "163/163 [==============================] - 1s 8ms/step - loss: 0.1163 - accuracy: 0.9572 - val_loss: 0.2782 - val_accuracy: 0.9375\n",
      "Epoch 54/64\n",
      "163/163 [==============================] - 1s 8ms/step - loss: 0.1161 - accuracy: 0.9595 - val_loss: 0.3245 - val_accuracy: 0.8750\n",
      "Epoch 55/64\n",
      "163/163 [==============================] - 1s 8ms/step - loss: 0.1153 - accuracy: 0.9574 - val_loss: 0.3928 - val_accuracy: 0.8125\n",
      "Epoch 56/64\n",
      "163/163 [==============================] - 1s 8ms/step - loss: 0.1153 - accuracy: 0.9603 - val_loss: 0.3013 - val_accuracy: 0.8750\n",
      "Epoch 57/64\n",
      "163/163 [==============================] - 1s 8ms/step - loss: 0.1144 - accuracy: 0.9590 - val_loss: 0.3102 - val_accuracy: 0.8750\n",
      "Epoch 58/64\n",
      "163/163 [==============================] - 1s 8ms/step - loss: 0.1141 - accuracy: 0.9586 - val_loss: 0.2968 - val_accuracy: 0.8750\n",
      "Epoch 59/64\n",
      "163/163 [==============================] - 1s 8ms/step - loss: 0.1136 - accuracy: 0.9578 - val_loss: 0.2974 - val_accuracy: 0.8750\n",
      "Epoch 60/64\n",
      "163/163 [==============================] - 1s 8ms/step - loss: 0.1135 - accuracy: 0.9582 - val_loss: 0.3624 - val_accuracy: 0.8750\n",
      "Epoch 61/64\n",
      "163/163 [==============================] - 1s 8ms/step - loss: 0.1130 - accuracy: 0.9578 - val_loss: 0.2560 - val_accuracy: 0.9375\n",
      "Epoch 62/64\n",
      "163/163 [==============================] - 1s 8ms/step - loss: 0.1124 - accuracy: 0.9592 - val_loss: 0.3339 - val_accuracy: 0.8750\n",
      "Epoch 63/64\n",
      "163/163 [==============================] - 1s 8ms/step - loss: 0.1115 - accuracy: 0.9603 - val_loss: 0.3068 - val_accuracy: 0.8750\n",
      "Epoch 64/64\n",
      "163/163 [==============================] - 1s 8ms/step - loss: 0.1111 - accuracy: 0.9592 - val_loss: 0.2846 - val_accuracy: 0.8750\n"
     ]
    }
   ],
   "source": [
    "model128shal.compile(optimizer=sgd_lr_001,\n",
    "              loss='binary_crossentropy',\n",
    "              metrics=['accuracy'])\n",
    "\n",
    "histoire128shal = model128shal.fit(train_img128,\n",
    "                    train_y128,\n",
    "                    epochs=64,\n",
    "                    batch_size=32,\n",
    "                    validation_data=(val_img128, val_y128),\n",
    "                    verbose=1)"
   ]
  },
  {
   "cell_type": "code",
   "execution_count": 57,
   "metadata": {},
   "outputs": [
    {
     "name": "stdout",
     "output_type": "stream",
     "text": [
      "Epoch 1/64\n",
      "163/163 [==============================] - 9s 55ms/step - loss: 0.4098 - accuracy: 0.8167 - val_loss: 0.6387 - val_accuracy: 0.6875\n",
      "Epoch 2/64\n",
      "163/163 [==============================] - 7s 44ms/step - loss: 0.2598 - accuracy: 0.9022 - val_loss: 0.4275 - val_accuracy: 0.8750\n",
      "Epoch 3/64\n",
      "163/163 [==============================] - 7s 44ms/step - loss: 0.2137 - accuracy: 0.9237 - val_loss: 0.3805 - val_accuracy: 0.8125\n",
      "Epoch 4/64\n",
      "163/163 [==============================] - 7s 44ms/step - loss: 0.1935 - accuracy: 0.9337 - val_loss: 0.4571 - val_accuracy: 0.8125\n",
      "Epoch 5/64\n",
      "163/163 [==============================] - 7s 44ms/step - loss: 0.1748 - accuracy: 0.9373 - val_loss: 0.3726 - val_accuracy: 0.8750\n",
      "Epoch 6/64\n",
      "163/163 [==============================] - 7s 44ms/step - loss: 0.1641 - accuracy: 0.9411 - val_loss: 0.3858 - val_accuracy: 0.8125\n",
      "Epoch 7/64\n",
      "163/163 [==============================] - 7s 44ms/step - loss: 0.1570 - accuracy: 0.9425 - val_loss: 0.3546 - val_accuracy: 0.8750\n",
      "Epoch 8/64\n",
      "163/163 [==============================] - 7s 44ms/step - loss: 0.1475 - accuracy: 0.9494 - val_loss: 0.4154 - val_accuracy: 0.8125\n",
      "Epoch 9/64\n",
      "163/163 [==============================] - 7s 44ms/step - loss: 0.1434 - accuracy: 0.9503 - val_loss: 0.6669 - val_accuracy: 0.6875\n",
      "Epoch 10/64\n",
      "163/163 [==============================] - 7s 44ms/step - loss: 0.1418 - accuracy: 0.9442 - val_loss: 0.2812 - val_accuracy: 0.9375\n",
      "Epoch 11/64\n",
      "163/163 [==============================] - 8s 47ms/step - loss: 0.1380 - accuracy: 0.9475 - val_loss: 0.3460 - val_accuracy: 0.8125\n",
      "Epoch 12/64\n",
      "163/163 [==============================] - 7s 44ms/step - loss: 0.1329 - accuracy: 0.9507 - val_loss: 0.3008 - val_accuracy: 0.9375\n",
      "Epoch 13/64\n",
      "163/163 [==============================] - 7s 44ms/step - loss: 0.1295 - accuracy: 0.9526 - val_loss: 0.3004 - val_accuracy: 0.8750\n",
      "Epoch 14/64\n",
      "163/163 [==============================] - 7s 45ms/step - loss: 0.1296 - accuracy: 0.9523 - val_loss: 0.2830 - val_accuracy: 0.9375\n",
      "Epoch 15/64\n",
      "163/163 [==============================] - 7s 44ms/step - loss: 0.1239 - accuracy: 0.9555 - val_loss: 0.4763 - val_accuracy: 0.8125\n",
      "Epoch 16/64\n",
      "163/163 [==============================] - 7s 44ms/step - loss: 0.1252 - accuracy: 0.9536 - val_loss: 0.2765 - val_accuracy: 0.9375\n",
      "Epoch 17/64\n",
      "163/163 [==============================] - 7s 44ms/step - loss: 0.1217 - accuracy: 0.9555 - val_loss: 0.2704 - val_accuracy: 0.9375\n",
      "Epoch 18/64\n",
      "163/163 [==============================] - 7s 44ms/step - loss: 0.1194 - accuracy: 0.9572 - val_loss: 0.2574 - val_accuracy: 0.9375\n",
      "Epoch 19/64\n",
      "163/163 [==============================] - 7s 45ms/step - loss: 0.1188 - accuracy: 0.9548 - val_loss: 0.2503 - val_accuracy: 0.9375\n",
      "Epoch 20/64\n",
      "163/163 [==============================] - 7s 45ms/step - loss: 0.1175 - accuracy: 0.9569 - val_loss: 0.4291 - val_accuracy: 0.8125\n",
      "Epoch 21/64\n",
      "163/163 [==============================] - 7s 45ms/step - loss: 0.1160 - accuracy: 0.9559 - val_loss: 0.3205 - val_accuracy: 0.8125\n",
      "Epoch 22/64\n",
      "163/163 [==============================] - 7s 44ms/step - loss: 0.1143 - accuracy: 0.9584 - val_loss: 0.2499 - val_accuracy: 0.9375\n",
      "Epoch 23/64\n",
      "163/163 [==============================] - 7s 45ms/step - loss: 0.1120 - accuracy: 0.9588 - val_loss: 0.2495 - val_accuracy: 0.9375\n",
      "Epoch 24/64\n",
      "163/163 [==============================] - 7s 45ms/step - loss: 0.1114 - accuracy: 0.9584 - val_loss: 0.3540 - val_accuracy: 0.8125\n",
      "Epoch 25/64\n",
      "163/163 [==============================] - 7s 44ms/step - loss: 0.1124 - accuracy: 0.9569 - val_loss: 0.2881 - val_accuracy: 0.9375\n",
      "Epoch 26/64\n",
      "163/163 [==============================] - 7s 44ms/step - loss: 0.1117 - accuracy: 0.9580 - val_loss: 0.3312 - val_accuracy: 0.8125\n",
      "Epoch 27/64\n",
      "163/163 [==============================] - 7s 44ms/step - loss: 0.1093 - accuracy: 0.9597 - val_loss: 0.4170 - val_accuracy: 0.8125\n",
      "Epoch 28/64\n",
      "163/163 [==============================] - 7s 44ms/step - loss: 0.1078 - accuracy: 0.9615 - val_loss: 0.3279 - val_accuracy: 0.8125\n",
      "Epoch 29/64\n",
      "163/163 [==============================] - 7s 44ms/step - loss: 0.1071 - accuracy: 0.9620 - val_loss: 0.3186 - val_accuracy: 0.8125\n",
      "Epoch 30/64\n",
      "163/163 [==============================] - 7s 44ms/step - loss: 0.1070 - accuracy: 0.9595 - val_loss: 0.3059 - val_accuracy: 0.8750\n",
      "Epoch 31/64\n",
      "163/163 [==============================] - 7s 44ms/step - loss: 0.1080 - accuracy: 0.9618 - val_loss: 0.3857 - val_accuracy: 0.8125\n",
      "Epoch 32/64\n",
      "163/163 [==============================] - 7s 44ms/step - loss: 0.1026 - accuracy: 0.9630 - val_loss: 0.2733 - val_accuracy: 0.9375\n",
      "Epoch 33/64\n",
      "163/163 [==============================] - 7s 44ms/step - loss: 0.1027 - accuracy: 0.9617 - val_loss: 0.4118 - val_accuracy: 0.8125\n",
      "Epoch 34/64\n",
      "163/163 [==============================] - 7s 44ms/step - loss: 0.1041 - accuracy: 0.9617 - val_loss: 0.3488 - val_accuracy: 0.8125\n",
      "Epoch 35/64\n",
      "163/163 [==============================] - 7s 44ms/step - loss: 0.1033 - accuracy: 0.9630 - val_loss: 0.3474 - val_accuracy: 0.8125\n",
      "Epoch 36/64\n",
      "163/163 [==============================] - 7s 44ms/step - loss: 0.1020 - accuracy: 0.9620 - val_loss: 0.3843 - val_accuracy: 0.8125\n",
      "Epoch 37/64\n",
      "163/163 [==============================] - 7s 44ms/step - loss: 0.1012 - accuracy: 0.9628 - val_loss: 0.3519 - val_accuracy: 0.8125\n",
      "Epoch 38/64\n",
      "163/163 [==============================] - 7s 44ms/step - loss: 0.1000 - accuracy: 0.9628 - val_loss: 0.2551 - val_accuracy: 0.9375\n",
      "Epoch 39/64\n",
      "163/163 [==============================] - 7s 44ms/step - loss: 0.0991 - accuracy: 0.9643 - val_loss: 0.4923 - val_accuracy: 0.8125\n",
      "Epoch 40/64\n",
      "163/163 [==============================] - 7s 43ms/step - loss: 0.0975 - accuracy: 0.9657 - val_loss: 0.4450 - val_accuracy: 0.8125\n",
      "Epoch 41/64\n",
      "163/163 [==============================] - 7s 44ms/step - loss: 0.0980 - accuracy: 0.9641 - val_loss: 0.2789 - val_accuracy: 0.9375\n",
      "Epoch 42/64\n",
      "163/163 [==============================] - 7s 44ms/step - loss: 0.0970 - accuracy: 0.9657 - val_loss: 0.2237 - val_accuracy: 0.9375\n",
      "Epoch 43/64\n",
      "163/163 [==============================] - 7s 44ms/step - loss: 0.0974 - accuracy: 0.9636 - val_loss: 0.2868 - val_accuracy: 0.8750\n",
      "Epoch 44/64\n",
      "163/163 [==============================] - 7s 44ms/step - loss: 0.0964 - accuracy: 0.9649 - val_loss: 0.4227 - val_accuracy: 0.8125\n",
      "Epoch 45/64\n",
      "163/163 [==============================] - 7s 43ms/step - loss: 0.0949 - accuracy: 0.9657 - val_loss: 0.2991 - val_accuracy: 0.8750\n",
      "Epoch 46/64\n",
      "163/163 [==============================] - 7s 44ms/step - loss: 0.0943 - accuracy: 0.9664 - val_loss: 0.3065 - val_accuracy: 0.8750\n",
      "Epoch 47/64\n",
      "163/163 [==============================] - 7s 44ms/step - loss: 0.0933 - accuracy: 0.9668 - val_loss: 0.2526 - val_accuracy: 0.9375\n",
      "Epoch 48/64\n",
      "163/163 [==============================] - 7s 44ms/step - loss: 0.0951 - accuracy: 0.9674 - val_loss: 0.3610 - val_accuracy: 0.8125\n",
      "Epoch 49/64\n",
      "163/163 [==============================] - 7s 44ms/step - loss: 0.0936 - accuracy: 0.9670 - val_loss: 0.4583 - val_accuracy: 0.8125s - loss: 0.095 - ETA\n",
      "Epoch 50/64\n",
      "163/163 [==============================] - 7s 44ms/step - loss: 0.0926 - accuracy: 0.9686 - val_loss: 0.3181 - val_accuracy: 0.8125\n",
      "Epoch 51/64\n",
      "163/163 [==============================] - 7s 44ms/step - loss: 0.0932 - accuracy: 0.9661 - val_loss: 0.2502 - val_accuracy: 0.9375\n",
      "Epoch 52/64\n",
      "163/163 [==============================] - 7s 44ms/step - loss: 0.0935 - accuracy: 0.9649 - val_loss: 0.2846 - val_accuracy: 0.8750\n",
      "Epoch 53/64\n",
      "163/163 [==============================] - 7s 45ms/step - loss: 0.0935 - accuracy: 0.9666 - val_loss: 0.2752 - val_accuracy: 0.8750\n",
      "Epoch 54/64\n",
      "163/163 [==============================] - 7s 44ms/step - loss: 0.0904 - accuracy: 0.9684 - val_loss: 0.2120 - val_accuracy: 0.9375\n",
      "Epoch 55/64\n",
      "163/163 [==============================] - 7s 44ms/step - loss: 0.0886 - accuracy: 0.9684 - val_loss: 0.2534 - val_accuracy: 0.9375\n",
      "Epoch 56/64\n",
      "163/163 [==============================] - 7s 44ms/step - loss: 0.0884 - accuracy: 0.9672 - val_loss: 0.2280 - val_accuracy: 0.9375\n",
      "Epoch 57/64\n",
      "163/163 [==============================] - 7s 44ms/step - loss: 0.0893 - accuracy: 0.9682 - val_loss: 0.3165 - val_accuracy: 0.8750\n"
     ]
    },
    {
     "name": "stdout",
     "output_type": "stream",
     "text": [
      "Epoch 58/64\n",
      "163/163 [==============================] - 7s 44ms/step - loss: 0.0882 - accuracy: 0.9688 - val_loss: 0.3012 - val_accuracy: 0.8750\n",
      "Epoch 59/64\n",
      "163/163 [==============================] - 7s 44ms/step - loss: 0.0877 - accuracy: 0.9699 - val_loss: 0.3679 - val_accuracy: 0.8125\n",
      "Epoch 60/64\n",
      "163/163 [==============================] - 7s 44ms/step - loss: 0.0876 - accuracy: 0.9695 - val_loss: 0.2849 - val_accuracy: 0.8750\n",
      "Epoch 61/64\n",
      "163/163 [==============================] - 7s 44ms/step - loss: 0.0856 - accuracy: 0.9686 - val_loss: 0.3304 - val_accuracy: 0.8125\n",
      "Epoch 62/64\n",
      "163/163 [==============================] - 7s 43ms/step - loss: 0.0873 - accuracy: 0.9684 - val_loss: 0.3133 - val_accuracy: 0.8750\n",
      "Epoch 63/64\n",
      "163/163 [==============================] - 7s 43ms/step - loss: 0.0868 - accuracy: 0.9688 - val_loss: 0.2823 - val_accuracy: 0.8750\n",
      "Epoch 64/64\n",
      "163/163 [==============================] - 7s 44ms/step - loss: 0.0859 - accuracy: 0.9716 - val_loss: 0.2406 - val_accuracy: 0.9375\n"
     ]
    }
   ],
   "source": [
    "model256shal.compile(optimizer=sgd_lr_001,\n",
    "              loss='binary_crossentropy',\n",
    "              metrics=['accuracy'])\n",
    "\n",
    "histoire256shal = model256shal.fit(train_img256,\n",
    "                    train_y256,\n",
    "                    epochs=64,\n",
    "                    batch_size=32,\n",
    "                    validation_data=(val_img256, val_y256),\n",
    "                    verbose=1)"
   ]
  },
  {
   "cell_type": "code",
   "execution_count": 58,
   "metadata": {},
   "outputs": [
    {
     "name": "stdout",
     "output_type": "stream",
     "text": [
      "163/163 [==============================] - 0s 1ms/step - loss: 0.2376 - accuracy: 0.9615\n"
     ]
    }
   ],
   "source": [
    "results_train64 = model64.evaluate(train_img64, train_y64)"
   ]
  },
  {
   "cell_type": "code",
   "execution_count": 59,
   "metadata": {},
   "outputs": [
    {
     "name": "stdout",
     "output_type": "stream",
     "text": [
      "163/163 [==============================] - 0s 1ms/step - loss: 0.1430 - accuracy: 0.9473\n"
     ]
    }
   ],
   "source": [
    "results_train64shal = model64shal.evaluate(train_img64, train_y64)"
   ]
  },
  {
   "cell_type": "code",
   "execution_count": 60,
   "metadata": {},
   "outputs": [
    {
     "name": "stdout",
     "output_type": "stream",
     "text": [
      "163/163 [==============================] - 0s 3ms/step - loss: 0.7524 - accuracy: 0.7429\n"
     ]
    }
   ],
   "source": [
    "results_train128 = model128.evaluate(train_img128, train_y128)"
   ]
  },
  {
   "cell_type": "code",
   "execution_count": 61,
   "metadata": {},
   "outputs": [
    {
     "name": "stdout",
     "output_type": "stream",
     "text": [
      "163/163 [==============================] - 1s 3ms/step - loss: 0.1106 - accuracy: 0.9603\n"
     ]
    }
   ],
   "source": [
    "results_train128shal = model128shal.evaluate(train_img128, train_y128)"
   ]
  },
  {
   "cell_type": "code",
   "execution_count": 62,
   "metadata": {},
   "outputs": [
    {
     "name": "stdout",
     "output_type": "stream",
     "text": [
      "163/163 [==============================] - 3s 16ms/step - loss: 0.4529 - accuracy: 0.9670\n"
     ]
    }
   ],
   "source": [
    "results_train256 = model256.evaluate(train_img256, train_y256)"
   ]
  },
  {
   "cell_type": "code",
   "execution_count": 63,
   "metadata": {},
   "outputs": [
    {
     "name": "stdout",
     "output_type": "stream",
     "text": [
      "163/163 [==============================] - 3s 18ms/step - loss: 0.0858 - accuracy: 0.9707\n"
     ]
    }
   ],
   "source": [
    "results_train256shal = model256shal.evaluate(train_img256, train_y256)"
   ]
  },
  {
   "cell_type": "code",
   "execution_count": 64,
   "metadata": {},
   "outputs": [
    {
     "name": "stdout",
     "output_type": "stream",
     "text": [
      "20/20 [==============================] - 0s 1ms/step - loss: 0.7986 - accuracy: 0.7628\n"
     ]
    }
   ],
   "source": [
    "results_test64 = model64.evaluate(test_img64, test_y64)"
   ]
  },
  {
   "cell_type": "code",
   "execution_count": 65,
   "metadata": {},
   "outputs": [
    {
     "name": "stdout",
     "output_type": "stream",
     "text": [
      "20/20 [==============================] - 0s 1ms/step - loss: 0.5732 - accuracy: 0.7516\n"
     ]
    }
   ],
   "source": [
    "results_test64shal = model64shal.evaluate(test_img64, test_y64)"
   ]
  },
  {
   "cell_type": "code",
   "execution_count": 66,
   "metadata": {},
   "outputs": [
    {
     "name": "stdout",
     "output_type": "stream",
     "text": [
      "20/20 [==============================] - 0s 9ms/step - loss: 0.8563 - accuracy: 0.6250\n"
     ]
    }
   ],
   "source": [
    "results_test128 = model128.evaluate(test_img128, test_y128)"
   ]
  },
  {
   "cell_type": "code",
   "execution_count": 67,
   "metadata": {},
   "outputs": [
    {
     "name": "stdout",
     "output_type": "stream",
     "text": [
      "20/20 [==============================] - 0s 3ms/step - loss: 0.6369 - accuracy: 0.7612\n"
     ]
    }
   ],
   "source": [
    "results_test128shal = model128shal.evaluate(test_img128, test_y128)"
   ]
  },
  {
   "cell_type": "code",
   "execution_count": 68,
   "metadata": {},
   "outputs": [
    {
     "name": "stdout",
     "output_type": "stream",
     "text": [
      "20/20 [==============================] - 0s 13ms/step - loss: 0.9570 - accuracy: 0.7740\n"
     ]
    }
   ],
   "source": [
    "results_test256 = model256.evaluate(test_img256, test_y256)"
   ]
  },
  {
   "cell_type": "code",
   "execution_count": 69,
   "metadata": {},
   "outputs": [
    {
     "name": "stdout",
     "output_type": "stream",
     "text": [
      "20/20 [==============================] - 0s 15ms/step - loss: 0.6944 - accuracy: 0.7676\n"
     ]
    }
   ],
   "source": [
    "results_test256shal = model256shal.evaluate(test_img256, test_y256)"
   ]
  },
  {
   "cell_type": "code",
   "execution_count": 70,
   "metadata": {},
   "outputs": [
    {
     "data": {
      "text/plain": [
       "[0.23755846917629242, 0.9614647030830383]"
      ]
     },
     "execution_count": 70,
     "metadata": {},
     "output_type": "execute_result"
    }
   ],
   "source": [
    "results_train64"
   ]
  },
  {
   "cell_type": "code",
   "execution_count": 71,
   "metadata": {},
   "outputs": [
    {
     "data": {
      "text/plain": [
       "[0.14298541843891144, 0.9472776055335999]"
      ]
     },
     "execution_count": 71,
     "metadata": {},
     "output_type": "execute_result"
    }
   ],
   "source": [
    "results_train64shal"
   ]
  },
  {
   "cell_type": "code",
   "execution_count": 72,
   "metadata": {},
   "outputs": [
    {
     "data": {
      "text/plain": [
       "[0.7524358034133911, 0.7429064512252808]"
      ]
     },
     "execution_count": 72,
     "metadata": {},
     "output_type": "execute_result"
    }
   ],
   "source": [
    "results_train128"
   ]
  },
  {
   "cell_type": "code",
   "execution_count": 73,
   "metadata": {},
   "outputs": [
    {
     "data": {
      "text/plain": [
       "[0.11064650863409042, 0.9603143930435181]"
      ]
     },
     "execution_count": 73,
     "metadata": {},
     "output_type": "execute_result"
    }
   ],
   "source": [
    "results_train128shal"
   ]
  },
  {
   "cell_type": "code",
   "execution_count": 74,
   "metadata": {},
   "outputs": [
    {
     "data": {
      "text/plain": [
       "[0.4529328942298889, 0.967024564743042]"
      ]
     },
     "execution_count": 74,
     "metadata": {},
     "output_type": "execute_result"
    }
   ],
   "source": [
    "results_train256"
   ]
  },
  {
   "cell_type": "code",
   "execution_count": 75,
   "metadata": {},
   "outputs": [
    {
     "data": {
      "text/plain": [
       "[0.08575691282749176, 0.9706671833992004]"
      ]
     },
     "execution_count": 75,
     "metadata": {},
     "output_type": "execute_result"
    }
   ],
   "source": [
    "results_train256shal"
   ]
  },
  {
   "cell_type": "code",
   "execution_count": 76,
   "metadata": {},
   "outputs": [
    {
     "data": {
      "text/plain": [
       "[0.7986125946044922, 0.7628205418586731]"
      ]
     },
     "execution_count": 76,
     "metadata": {},
     "output_type": "execute_result"
    }
   ],
   "source": [
    "results_test64"
   ]
  },
  {
   "cell_type": "code",
   "execution_count": 77,
   "metadata": {},
   "outputs": [
    {
     "data": {
      "text/plain": [
       "[0.5732387900352478, 0.7516025900840759]"
      ]
     },
     "execution_count": 77,
     "metadata": {},
     "output_type": "execute_result"
    }
   ],
   "source": [
    "results_test64shal"
   ]
  },
  {
   "cell_type": "code",
   "execution_count": 78,
   "metadata": {},
   "outputs": [
    {
     "data": {
      "text/plain": [
       "[0.8562877178192139, 0.625]"
      ]
     },
     "execution_count": 78,
     "metadata": {},
     "output_type": "execute_result"
    }
   ],
   "source": [
    "results_test128"
   ]
  },
  {
   "cell_type": "code",
   "execution_count": 79,
   "metadata": {},
   "outputs": [
    {
     "data": {
      "text/plain": [
       "[0.6368591785430908, 0.7612179517745972]"
      ]
     },
     "execution_count": 79,
     "metadata": {},
     "output_type": "execute_result"
    }
   ],
   "source": [
    "results_test128shal"
   ]
  },
  {
   "cell_type": "code",
   "execution_count": 80,
   "metadata": {},
   "outputs": [
    {
     "data": {
      "text/plain": [
       "[0.9569737315177917, 0.7740384340286255]"
      ]
     },
     "execution_count": 80,
     "metadata": {},
     "output_type": "execute_result"
    }
   ],
   "source": [
    "results_test256"
   ]
  },
  {
   "cell_type": "code",
   "execution_count": 81,
   "metadata": {},
   "outputs": [
    {
     "data": {
      "text/plain": [
       "[0.6943886280059814, 0.7676281929016113]"
      ]
     },
     "execution_count": 81,
     "metadata": {},
     "output_type": "execute_result"
    }
   ],
   "source": [
    "results_test256shal"
   ]
  },
  {
   "cell_type": "markdown",
   "metadata": {},
   "source": [
    "Based on the results of these evaluations, we can see that the training accuracies for the models were all roughly 97% and the test accuracies for the models were roughly 75%. Given the distribution of the target class, this is very poor performance from modeling. These accuracies are no better than simply guessing that every image is of a pneumatic patient."
   ]
  },
  {
   "cell_type": "markdown",
   "metadata": {},
   "source": [
    "Let's see if a convolutional neural network will do a better job of predicting the target than a densely connected neural network."
   ]
  },
  {
   "cell_type": "markdown",
   "metadata": {},
   "source": [
    "We will, again, create some variables for the models, compile them, fit them, and evaluate them.<br>\n",
    "Note that the 256x256 convolutional neural networks have been commented out due to execution time and lack of appreciable gains in performance."
   ]
  },
  {
   "cell_type": "code",
   "execution_count": 82,
   "metadata": {},
   "outputs": [],
   "source": [
    "cnn64 = models.Sequential()\n",
    "cnn64.add(layers.Conv2D(32, (3, 3), activation='relu',\n",
    "                        input_shape=(64, 64, 1), kernel_regularizer=regularizers.l2()))\n",
    "cnn64.add(layers.MaxPooling2D((2, 2)))\n",
    "\n",
    "cnn64.add(layers.Conv2D(32, (4, 4), activation='relu', kernel_regularizer=regularizers.l2()))\n",
    "cnn64.add(layers.MaxPooling2D((2, 2)))\n",
    "\n",
    "cnn64.add(layers.Conv2D(64, (3, 3), activation='relu', kernel_regularizer=regularizers.l2()))\n",
    "cnn64.add(layers.MaxPooling2D((2, 2)))\n",
    "\n",
    "cnn64.add(layers.Flatten())\n",
    "cnn64.add(layers.Dense(64, activation='relu'))\n",
    "cnn64.add(layers.Dense(1, activation='sigmoid'))\n",
    "\n",
    "cnn64.compile(loss='binary_crossentropy',\n",
    "              optimizer=sgd_lr_001,\n",
    "              metrics=['acc'])"
   ]
  },
  {
   "cell_type": "code",
   "execution_count": 83,
   "metadata": {},
   "outputs": [],
   "source": [
    "cnn128 = models.Sequential()\n",
    "cnn128.add(layers.Conv2D(32, (3, 3), activation='relu',\n",
    "                        input_shape=(128, 128, 1), kernel_regularizer=regularizers.l2()))\n",
    "cnn128.add(layers.MaxPooling2D((2, 2)))\n",
    "\n",
    "cnn128.add(layers.Conv2D(32, (4, 4), activation='relu', kernel_regularizer=regularizers.l2()))\n",
    "cnn128.add(layers.MaxPooling2D((2, 2)))\n",
    "\n",
    "cnn128.add(layers.Conv2D(64, (3, 3), activation='relu', kernel_regularizer=regularizers.l2()))\n",
    "cnn128.add(layers.MaxPooling2D((2, 2)))\n",
    "\n",
    "cnn128.add(layers.Flatten())\n",
    "cnn128.add(layers.Dense(64, activation='relu'))\n",
    "cnn128.add(layers.Dense(1, activation='sigmoid'))\n",
    "\n",
    "cnn128.compile(loss='binary_crossentropy',\n",
    "              optimizer=sgd_lr_001,\n",
    "              metrics=['acc'])"
   ]
  },
  {
   "cell_type": "code",
   "execution_count": 84,
   "metadata": {},
   "outputs": [],
   "source": [
    "# cnn256 = models.Sequential()\n",
    "# cnn256.add(layers.Conv2D(32, (3, 3), activation='relu',\n",
    "#                         input_shape=(256, 256, 1), kernel_regularizer=regularizers.l2()))\n",
    "# cnn256.add(layers.MaxPooling2D((2, 2)))\n",
    "\n",
    "# cnn256.add(layers.Conv2D(32, (4, 4), activation='relu', kernel_regularizer=regularizers.l2()))\n",
    "# cnn256.add(layers.MaxPooling2D((2, 2)))\n",
    "\n",
    "# cnn256.add(layers.Conv2D(64, (3, 3), activation='relu', kernel_regularizer=regularizers.l2()))\n",
    "# cnn256.add(layers.MaxPooling2D((2, 2)))\n",
    "\n",
    "# cnn256.add(layers.Flatten())\n",
    "# cnn256.add(layers.Dense(64, activation='relu'))\n",
    "# cnn256.add(layers.Dense(1, activation='sigmoid'))\n",
    "\n",
    "# cnn256.compile(loss='binary_crossentropy',\n",
    "#               optimizer=sgd_lr_001,\n",
    "#               metrics=['acc'])"
   ]
  },
  {
   "cell_type": "code",
   "execution_count": 85,
   "metadata": {},
   "outputs": [
    {
     "name": "stdout",
     "output_type": "stream",
     "text": [
      "Epoch 1/64\n",
      "163/163 [==============================] - 12s 75ms/step - loss: 1.4580 - acc: 0.5048 - val_loss: 1.4561 - val_acc: 0.5000\n",
      "Epoch 2/64\n",
      "163/163 [==============================] - 11s 71ms/step - loss: 1.4315 - acc: 0.7429 - val_loss: 1.4564 - val_acc: 0.5000\n",
      "Epoch 3/64\n",
      "163/163 [==============================] - 11s 69ms/step - loss: 1.4086 - acc: 0.7429 - val_loss: 1.4601 - val_acc: 0.5000\n",
      "Epoch 4/64\n",
      "163/163 [==============================] - 11s 69ms/step - loss: 1.3875 - acc: 0.7429 - val_loss: 1.4678 - val_acc: 0.5000\n",
      "Epoch 5/64\n",
      "163/163 [==============================] - 11s 69ms/step - loss: 1.3667 - acc: 0.7429 - val_loss: 1.4815 - val_acc: 0.5000\n",
      "Epoch 6/64\n",
      "163/163 [==============================] - 11s 70ms/step - loss: 1.3483 - acc: 0.7429 - val_loss: 1.5005 - val_acc: 0.5000\n",
      "Epoch 7/64\n",
      "163/163 [==============================] - 11s 68ms/step - loss: 1.3345 - acc: 0.7429 - val_loss: 1.5208 - val_acc: 0.5000\n",
      "Epoch 8/64\n",
      "163/163 [==============================] - 11s 69ms/step - loss: 1.3256 - acc: 0.7429 - val_loss: 1.5376 - val_acc: 0.5000\n",
      "Epoch 9/64\n",
      "163/163 [==============================] - 11s 68ms/step - loss: 1.3199 - acc: 0.7429 - val_loss: 1.5488 - val_acc: 0.5000\n",
      "Epoch 10/64\n",
      "163/163 [==============================] - 11s 69ms/step - loss: 1.3159 - acc: 0.7429 - val_loss: 1.5547 - val_acc: 0.5000\n",
      "Epoch 11/64\n",
      "163/163 [==============================] - 11s 69ms/step - loss: 1.3126 - acc: 0.7429 - val_loss: 1.5568 - val_acc: 0.5000\n",
      "Epoch 12/64\n",
      "163/163 [==============================] - 11s 70ms/step - loss: 1.3095 - acc: 0.7429 - val_loss: 1.5572 - val_acc: 0.5000\n",
      "Epoch 13/64\n",
      "163/163 [==============================] - 12s 72ms/step - loss: 1.3066 - acc: 0.7429 - val_loss: 1.5582 - val_acc: 0.5000\n",
      "Epoch 14/64\n",
      "163/163 [==============================] - 12s 71ms/step - loss: 1.3037 - acc: 0.7429 - val_loss: 1.5550 - val_acc: 0.5000\n",
      "Epoch 15/64\n",
      "163/163 [==============================] - 12s 71ms/step - loss: 1.3008 - acc: 0.7429 - val_loss: 1.5518 - val_acc: 0.5000\n",
      "Epoch 16/64\n",
      "163/163 [==============================] - 12s 71ms/step - loss: 1.2978 - acc: 0.7429 - val_loss: 1.5495 - val_acc: 0.5000\n",
      "Epoch 17/64\n",
      "163/163 [==============================] - 12s 72ms/step - loss: 1.2945 - acc: 0.7429 - val_loss: 1.5465 - val_acc: 0.5000\n",
      "Epoch 18/64\n",
      "163/163 [==============================] - 11s 70ms/step - loss: 1.2914 - acc: 0.7429 - val_loss: 1.5451 - val_acc: 0.5000\n",
      "Epoch 19/64\n",
      "163/163 [==============================] - 12s 71ms/step - loss: 1.2885 - acc: 0.7429 - val_loss: 1.5460 - val_acc: 0.5000\n",
      "Epoch 20/64\n",
      "163/163 [==============================] - 12s 71ms/step - loss: 1.2857 - acc: 0.7429 - val_loss: 1.5406 - val_acc: 0.5000\n",
      "Epoch 21/64\n",
      "163/163 [==============================] - 11s 70ms/step - loss: 1.2829 - acc: 0.7429 - val_loss: 1.5375 - val_acc: 0.5000\n",
      "Epoch 22/64\n",
      "163/163 [==============================] - 12s 71ms/step - loss: 1.2800 - acc: 0.7429 - val_loss: 1.5331 - val_acc: 0.5000\n",
      "Epoch 23/64\n",
      "163/163 [==============================] - 12s 71ms/step - loss: 1.2772 - acc: 0.7429 - val_loss: 1.5303 - val_acc: 0.5000\n",
      "Epoch 24/64\n",
      "163/163 [==============================] - 12s 71ms/step - loss: 1.2743 - acc: 0.7429 - val_loss: 1.5300 - val_acc: 0.5000\n",
      "Epoch 25/64\n",
      "163/163 [==============================] - 11s 70ms/step - loss: 1.2714 - acc: 0.7429 - val_loss: 1.5259 - val_acc: 0.5000\n",
      "Epoch 26/64\n",
      "163/163 [==============================] - 11s 70ms/step - loss: 1.2686 - acc: 0.7429 - val_loss: 1.5252 - val_acc: 0.5000\n",
      "Epoch 27/64\n",
      "163/163 [==============================] - 11s 70ms/step - loss: 1.2657 - acc: 0.7429 - val_loss: 1.5237 - val_acc: 0.5000\n",
      "Epoch 28/64\n",
      "163/163 [==============================] - 11s 70ms/step - loss: 1.2628 - acc: 0.7429 - val_loss: 1.5202 - val_acc: 0.5000\n",
      "Epoch 29/64\n",
      "163/163 [==============================] - 11s 70ms/step - loss: 1.2599 - acc: 0.7429 - val_loss: 1.5212 - val_acc: 0.5000\n",
      "Epoch 30/64\n",
      "163/163 [==============================] - 12s 75ms/step - loss: 1.2570 - acc: 0.7429 - val_loss: 1.5172 - val_acc: 0.5000\n",
      "Epoch 31/64\n",
      "163/163 [==============================] - 12s 71ms/step - loss: 1.2541 - acc: 0.7429 - val_loss: 1.5152 - val_acc: 0.5000\n",
      "Epoch 32/64\n",
      "163/163 [==============================] - 12s 72ms/step - loss: 1.2512 - acc: 0.7429 - val_loss: 1.5098 - val_acc: 0.5000\n",
      "Epoch 33/64\n",
      "163/163 [==============================] - 12s 72ms/step - loss: 1.2482 - acc: 0.7429 - val_loss: 1.5072 - val_acc: 0.5000\n",
      "Epoch 34/64\n",
      "163/163 [==============================] - 12s 71ms/step - loss: 1.2453 - acc: 0.7429 - val_loss: 1.5059 - val_acc: 0.5000\n",
      "Epoch 35/64\n",
      "163/163 [==============================] - 12s 73ms/step - loss: 1.2423 - acc: 0.7429 - val_loss: 1.4979 - val_acc: 0.5000\n",
      "Epoch 36/64\n",
      "163/163 [==============================] - 12s 72ms/step - loss: 1.2393 - acc: 0.7429 - val_loss: 1.5005 - val_acc: 0.5000\n",
      "Epoch 37/64\n",
      "163/163 [==============================] - 12s 71ms/step - loss: 1.2363 - acc: 0.7429 - val_loss: 1.4969 - val_acc: 0.5000\n",
      "Epoch 38/64\n",
      "163/163 [==============================] - 12s 71ms/step - loss: 1.2331 - acc: 0.7429 - val_loss: 1.4917 - val_acc: 0.5000\n",
      "Epoch 39/64\n",
      "163/163 [==============================] - 12s 71ms/step - loss: 1.2300 - acc: 0.7429 - val_loss: 1.4952 - val_acc: 0.5000\n",
      "Epoch 40/64\n",
      "163/163 [==============================] - 12s 71ms/step - loss: 1.2269 - acc: 0.7429 - val_loss: 1.4931 - val_acc: 0.5000\n",
      "Epoch 41/64\n",
      "163/163 [==============================] - 12s 72ms/step - loss: 1.2236 - acc: 0.7429 - val_loss: 1.4889 - val_acc: 0.5000\n",
      "Epoch 42/64\n",
      "163/163 [==============================] - 12s 71ms/step - loss: 1.2204 - acc: 0.7429 - val_loss: 1.4881 - val_acc: 0.5000\n",
      "Epoch 43/64\n",
      "163/163 [==============================] - 12s 71ms/step - loss: 1.2170 - acc: 0.7429 - val_loss: 1.4839 - val_acc: 0.5000\n",
      "Epoch 44/64\n",
      "163/163 [==============================] - 12s 71ms/step - loss: 1.2136 - acc: 0.7429 - val_loss: 1.4736 - val_acc: 0.5000\n",
      "Epoch 45/64\n",
      "163/163 [==============================] - 12s 71ms/step - loss: 1.2101 - acc: 0.7429 - val_loss: 1.4710 - val_acc: 0.5000\n",
      "Epoch 46/64\n",
      "163/163 [==============================] - 12s 71ms/step - loss: 1.2066 - acc: 0.7429 - val_loss: 1.4739 - val_acc: 0.5000\n",
      "Epoch 47/64\n",
      "163/163 [==============================] - 12s 72ms/step - loss: 1.2029 - acc: 0.7429 - val_loss: 1.4742 - val_acc: 0.5000\n",
      "Epoch 48/64\n",
      "163/163 [==============================] - 12s 71ms/step - loss: 1.1991 - acc: 0.7429 - val_loss: 1.4619 - val_acc: 0.5000\n",
      "Epoch 49/64\n",
      "163/163 [==============================] - 12s 71ms/step - loss: 1.1952 - acc: 0.7429 - val_loss: 1.4661 - val_acc: 0.5000\n",
      "Epoch 50/64\n",
      "163/163 [==============================] - 11s 70ms/step - loss: 1.1912 - acc: 0.7429 - val_loss: 1.4636 - val_acc: 0.5000\n",
      "Epoch 51/64\n",
      "163/163 [==============================] - 11s 69ms/step - loss: 1.1869 - acc: 0.7429 - val_loss: 1.4597 - val_acc: 0.5000\n",
      "Epoch 52/64\n",
      "163/163 [==============================] - 11s 69ms/step - loss: 1.1826 - acc: 0.7429 - val_loss: 1.4563 - val_acc: 0.5000\n",
      "Epoch 53/64\n",
      "163/163 [==============================] - 12s 71ms/step - loss: 1.1781 - acc: 0.7429 - val_loss: 1.4505 - val_acc: 0.5000\n",
      "Epoch 54/64\n",
      "163/163 [==============================] - 12s 73ms/step - loss: 1.1734 - acc: 0.7429 - val_loss: 1.4462 - val_acc: 0.5000\n",
      "Epoch 55/64\n",
      "163/163 [==============================] - 12s 73ms/step - loss: 1.1685 - acc: 0.7429 - val_loss: 1.4385 - val_acc: 0.5000\n",
      "Epoch 56/64\n",
      "163/163 [==============================] - 12s 71ms/step - loss: 1.1632 - acc: 0.7429 - val_loss: 1.4217 - val_acc: 0.5000\n",
      "Epoch 57/64\n",
      "163/163 [==============================] - 11s 69ms/step - loss: 1.1578 - acc: 0.7429 - val_loss: 1.4435 - val_acc: 0.5000\n",
      "Epoch 58/64\n",
      "163/163 [==============================] - 11s 69ms/step - loss: 1.1522 - acc: 0.7429 - val_loss: 1.4372 - val_acc: 0.5000\n",
      "Epoch 59/64\n",
      "163/163 [==============================] - 11s 70ms/step - loss: 1.1460 - acc: 0.7429 - val_loss: 1.4181 - val_acc: 0.5000\n",
      "Epoch 60/64\n",
      "163/163 [==============================] - 12s 72ms/step - loss: 1.1396 - acc: 0.7429 - val_loss: 1.4149 - val_acc: 0.5000\n",
      "Epoch 61/64\n",
      "163/163 [==============================] - 12s 72ms/step - loss: 1.1327 - acc: 0.7429 - val_loss: 1.4028 - val_acc: 0.5000\n"
     ]
    },
    {
     "name": "stdout",
     "output_type": "stream",
     "text": [
      "Epoch 62/64\n",
      "163/163 [==============================] - 11s 70ms/step - loss: 1.1252 - acc: 0.7429 - val_loss: 1.3977 - val_acc: 0.5000\n",
      "Epoch 63/64\n",
      "163/163 [==============================] - 11s 70ms/step - loss: 1.1179 - acc: 0.7429 - val_loss: 1.3929 - val_acc: 0.5000\n",
      "Epoch 64/64\n",
      "163/163 [==============================] - 11s 70ms/step - loss: 1.1089 - acc: 0.7441 - val_loss: 1.4003 - val_acc: 0.5000\n"
     ]
    }
   ],
   "source": [
    "history64 = cnn64.fit(train_images64,\n",
    "                    train_y64,\n",
    "                    epochs=64,\n",
    "                    batch_size=32,\n",
    "                    validation_data=(val_images64, val_y64),\n",
    "                    verbose=1)"
   ]
  },
  {
   "cell_type": "code",
   "execution_count": 86,
   "metadata": {
    "scrolled": true
   },
   "outputs": [
    {
     "name": "stdout",
     "output_type": "stream",
     "text": [
      "Epoch 1/64\n",
      "163/163 [==============================] - 47s 291ms/step - loss: 1.4517 - acc: 0.6120 - val_loss: 1.4602 - val_acc: 0.5000\n",
      "Epoch 2/64\n",
      "163/163 [==============================] - 47s 288ms/step - loss: 1.4171 - acc: 0.7429 - val_loss: 1.4668 - val_acc: 0.5000\n",
      "Epoch 3/64\n",
      "163/163 [==============================] - 47s 289ms/step - loss: 1.3837 - acc: 0.7429 - val_loss: 1.4869 - val_acc: 0.5000\n",
      "Epoch 4/64\n",
      "163/163 [==============================] - 47s 288ms/step - loss: 1.3547 - acc: 0.7429 - val_loss: 1.5194 - val_acc: 0.5000\n",
      "Epoch 5/64\n",
      "163/163 [==============================] - 47s 286ms/step - loss: 1.3381 - acc: 0.7429 - val_loss: 1.5501 - val_acc: 0.5000\n",
      "Epoch 6/64\n",
      "163/163 [==============================] - 47s 289ms/step - loss: 1.3309 - acc: 0.7429 - val_loss: 1.5681 - val_acc: 0.5000\n",
      "Epoch 7/64\n",
      "163/163 [==============================] - 46s 284ms/step - loss: 1.3269 - acc: 0.7429 - val_loss: 1.5749 - val_acc: 0.5000\n",
      "Epoch 8/64\n",
      "163/163 [==============================] - 46s 284ms/step - loss: 1.3235 - acc: 0.7429 - val_loss: 1.5758 - val_acc: 0.5000\n",
      "Epoch 9/64\n",
      "163/163 [==============================] - 46s 281ms/step - loss: 1.3203 - acc: 0.7429 - val_loss: 1.5722 - val_acc: 0.5000\n",
      "Epoch 10/64\n",
      "163/163 [==============================] - 46s 281ms/step - loss: 1.3171 - acc: 0.7429 - val_loss: 1.5702 - val_acc: 0.5000\n",
      "Epoch 11/64\n",
      "163/163 [==============================] - 47s 286ms/step - loss: 1.3140 - acc: 0.7429 - val_loss: 1.5673 - val_acc: 0.5000\n",
      "Epoch 12/64\n",
      "163/163 [==============================] - 46s 282ms/step - loss: 1.3107 - acc: 0.7429 - val_loss: 1.5670 - val_acc: 0.5000\n",
      "Epoch 13/64\n",
      "163/163 [==============================] - 47s 286ms/step - loss: 1.3074 - acc: 0.7429 - val_loss: 1.5574 - val_acc: 0.5000\n",
      "Epoch 14/64\n",
      "163/163 [==============================] - 46s 283ms/step - loss: 1.3040 - acc: 0.7429 - val_loss: 1.5625 - val_acc: 0.5000\n",
      "Epoch 15/64\n",
      "163/163 [==============================] - 47s 288ms/step - loss: 1.3007 - acc: 0.7429 - val_loss: 1.5533 - val_acc: 0.5000\n",
      "Epoch 16/64\n",
      "163/163 [==============================] - 46s 284ms/step - loss: 1.2972 - acc: 0.7429 - val_loss: 1.5513 - val_acc: 0.5000\n",
      "Epoch 17/64\n",
      "163/163 [==============================] - 47s 289ms/step - loss: 1.2937 - acc: 0.7429 - val_loss: 1.5483 - val_acc: 0.5000\n",
      "Epoch 18/64\n",
      "163/163 [==============================] - 47s 287ms/step - loss: 1.2900 - acc: 0.7429 - val_loss: 1.5471 - val_acc: 0.5000\n",
      "Epoch 19/64\n",
      "163/163 [==============================] - 46s 285ms/step - loss: 1.2863 - acc: 0.7429 - val_loss: 1.5467 - val_acc: 0.5000\n",
      "Epoch 20/64\n",
      "163/163 [==============================] - 46s 283ms/step - loss: 1.2823 - acc: 0.7429 - val_loss: 1.5384 - val_acc: 0.5000\n",
      "Epoch 21/64\n",
      "163/163 [==============================] - 45s 279ms/step - loss: 1.2784 - acc: 0.7429 - val_loss: 1.5361 - val_acc: 0.5000\n",
      "Epoch 22/64\n",
      "163/163 [==============================] - 46s 280ms/step - loss: 1.2742 - acc: 0.7429 - val_loss: 1.5349 - val_acc: 0.5000\n",
      "Epoch 23/64\n",
      "163/163 [==============================] - 46s 280ms/step - loss: 1.2697 - acc: 0.7429 - val_loss: 1.5284 - val_acc: 0.5000\n",
      "Epoch 24/64\n",
      "163/163 [==============================] - 45s 279ms/step - loss: 1.2651 - acc: 0.7429 - val_loss: 1.5292 - val_acc: 0.5000\n",
      "Epoch 25/64\n",
      "163/163 [==============================] - 47s 286ms/step - loss: 1.2602 - acc: 0.7429 - val_loss: 1.5242 - val_acc: 0.5000\n",
      "Epoch 26/64\n",
      "163/163 [==============================] - 47s 285ms/step - loss: 1.2548 - acc: 0.7429 - val_loss: 1.5122 - val_acc: 0.5000\n",
      "Epoch 27/64\n",
      "163/163 [==============================] - 47s 288ms/step - loss: 1.2491 - acc: 0.7429 - val_loss: 1.5039 - val_acc: 0.5000\n",
      "Epoch 28/64\n",
      "163/163 [==============================] - 47s 289ms/step - loss: 1.2430 - acc: 0.7429 - val_loss: 1.5095 - val_acc: 0.5000\n",
      "Epoch 29/64\n",
      "163/163 [==============================] - 41s 249ms/step - loss: 1.2360 - acc: 0.7429 - val_loss: 1.5111 - val_acc: 0.5000\n",
      "Epoch 30/64\n",
      "163/163 [==============================] - 39s 241ms/step - loss: 1.2283 - acc: 0.7429 - val_loss: 1.4857 - val_acc: 0.5000\n",
      "Epoch 31/64\n",
      "163/163 [==============================] - 40s 244ms/step - loss: 1.2200 - acc: 0.7429 - val_loss: 1.4989 - val_acc: 0.5000\n",
      "Epoch 32/64\n",
      "163/163 [==============================] - 39s 241ms/step - loss: 1.2105 - acc: 0.7429 - val_loss: 1.4954 - val_acc: 0.5000\n",
      "Epoch 33/64\n",
      "163/163 [==============================] - 39s 240ms/step - loss: 1.1996 - acc: 0.7429 - val_loss: 1.4729 - val_acc: 0.5000\n",
      "Epoch 34/64\n",
      "163/163 [==============================] - 39s 240ms/step - loss: 1.1878 - acc: 0.7429 - val_loss: 1.4644 - val_acc: 0.5000\n",
      "Epoch 35/64\n",
      "163/163 [==============================] - 39s 240ms/step - loss: 1.1740 - acc: 0.7435 - val_loss: 1.4554 - val_acc: 0.5000\n",
      "Epoch 36/64\n",
      "163/163 [==============================] - 39s 241ms/step - loss: 1.1584 - acc: 0.7485 - val_loss: 1.4376 - val_acc: 0.5000\n",
      "Epoch 37/64\n",
      "163/163 [==============================] - 39s 241ms/step - loss: 1.1413 - acc: 0.7628 - val_loss: 1.4417 - val_acc: 0.5000\n",
      "Epoch 38/64\n",
      "163/163 [==============================] - 39s 240ms/step - loss: 1.1220 - acc: 0.7824 - val_loss: 1.4017 - val_acc: 0.6250\n",
      "Epoch 39/64\n",
      "163/163 [==============================] - 39s 240ms/step - loss: 1.1019 - acc: 0.8071 - val_loss: 1.4508 - val_acc: 0.6250\n",
      "Epoch 40/64\n",
      "163/163 [==============================] - 39s 240ms/step - loss: 1.0809 - acc: 0.8248 - val_loss: 1.3946 - val_acc: 0.6250\n",
      "Epoch 41/64\n",
      "163/163 [==============================] - 39s 240ms/step - loss: 1.0594 - acc: 0.8501 - val_loss: 1.4446 - val_acc: 0.6250\n",
      "Epoch 42/64\n",
      "163/163 [==============================] - 39s 240ms/step - loss: 1.0384 - acc: 0.8641 - val_loss: 1.3967 - val_acc: 0.6250\n",
      "Epoch 43/64\n",
      "163/163 [==============================] - 39s 241ms/step - loss: 1.0172 - acc: 0.8748 - val_loss: 1.4298 - val_acc: 0.6250\n",
      "Epoch 44/64\n",
      "163/163 [==============================] - 39s 240ms/step - loss: 0.9986 - acc: 0.8844 - val_loss: 1.3713 - val_acc: 0.6250\n",
      "Epoch 45/64\n",
      "163/163 [==============================] - 39s 240ms/step - loss: 0.9805 - acc: 0.8907 - val_loss: 1.3230 - val_acc: 0.6250\n",
      "Epoch 46/64\n",
      "163/163 [==============================] - 39s 240ms/step - loss: 0.9649 - acc: 0.8970 - val_loss: 1.3229 - val_acc: 0.7500\n",
      "Epoch 47/64\n",
      "163/163 [==============================] - 39s 240ms/step - loss: 0.9505 - acc: 0.9038 - val_loss: 1.4048 - val_acc: 0.6250\n",
      "Epoch 48/64\n",
      "163/163 [==============================] - 39s 240ms/step - loss: 0.9369 - acc: 0.9066 - val_loss: 1.4299 - val_acc: 0.6250\n",
      "Epoch 49/64\n",
      "163/163 [==============================] - 39s 240ms/step - loss: 0.9255 - acc: 0.9068 - val_loss: 1.3507 - val_acc: 0.6875\n",
      "Epoch 50/64\n",
      "163/163 [==============================] - 39s 239ms/step - loss: 0.9139 - acc: 0.9103 - val_loss: 1.3075 - val_acc: 0.7500\n",
      "Epoch 51/64\n",
      "163/163 [==============================] - 39s 240ms/step - loss: 0.9038 - acc: 0.9149 - val_loss: 1.3225 - val_acc: 0.6875\n",
      "Epoch 52/64\n",
      "163/163 [==============================] - 39s 240ms/step - loss: 0.8957 - acc: 0.9143 - val_loss: 1.4092 - val_acc: 0.6250\n",
      "Epoch 53/64\n",
      "163/163 [==============================] - 39s 242ms/step - loss: 0.8872 - acc: 0.9189 - val_loss: 1.2631 - val_acc: 0.7500\n",
      "Epoch 54/64\n",
      "163/163 [==============================] - 39s 239ms/step - loss: 0.8782 - acc: 0.9191 - val_loss: 1.3101 - val_acc: 0.6875\n",
      "Epoch 55/64\n",
      "163/163 [==============================] - 39s 239ms/step - loss: 0.8707 - acc: 0.9233 - val_loss: 1.1815 - val_acc: 0.7500\n",
      "Epoch 56/64\n",
      "163/163 [==============================] - 39s 239ms/step - loss: 0.8651 - acc: 0.9229 - val_loss: 1.3193 - val_acc: 0.6875\n",
      "Epoch 57/64\n",
      "163/163 [==============================] - 39s 239ms/step - loss: 0.8592 - acc: 0.9222 - val_loss: 1.2567 - val_acc: 0.7500\n",
      "Epoch 58/64\n",
      "163/163 [==============================] - 39s 240ms/step - loss: 0.8524 - acc: 0.9262 - val_loss: 1.2944 - val_acc: 0.6875\n",
      "Epoch 59/64\n",
      "163/163 [==============================] - 39s 239ms/step - loss: 0.8481 - acc: 0.9273 - val_loss: 1.2258 - val_acc: 0.7500\n",
      "Epoch 60/64\n",
      "163/163 [==============================] - 39s 239ms/step - loss: 0.8428 - acc: 0.9277 - val_loss: 1.2493 - val_acc: 0.6875\n",
      "Epoch 61/64\n",
      "163/163 [==============================] - 39s 240ms/step - loss: 0.8376 - acc: 0.9300 - val_loss: 1.2783 - val_acc: 0.6875\n",
      "Epoch 62/64\n",
      "163/163 [==============================] - 39s 239ms/step - loss: 0.8351 - acc: 0.9306 - val_loss: 1.2176 - val_acc: 0.7500\n",
      "Epoch 63/64\n",
      "163/163 [==============================] - 39s 239ms/step - loss: 0.8285 - acc: 0.9306 - val_loss: 1.1609 - val_acc: 0.8125\n",
      "Epoch 64/64\n",
      "163/163 [==============================] - 39s 239ms/step - loss: 0.8251 - acc: 0.9327 - val_loss: 1.2964 - val_acc: 0.6875\n"
     ]
    }
   ],
   "source": [
    "history128 = cnn128.fit(train_images128,\n",
    "                    train_y128,\n",
    "                    epochs=64,\n",
    "                    batch_size=32,\n",
    "                    validation_data=(val_images128, val_y128),\n",
    "                    verbose=1)"
   ]
  },
  {
   "cell_type": "code",
   "execution_count": 87,
   "metadata": {},
   "outputs": [],
   "source": [
    "# history256 = cnn256.fit(train_images256,\n",
    "#                     train_y256,\n",
    "#                     epochs=64,\n",
    "#                     batch_size=32,\n",
    "#                     validation_data=(val_images256, val_y256))"
   ]
  },
  {
   "cell_type": "code",
   "execution_count": 88,
   "metadata": {},
   "outputs": [
    {
     "name": "stdout",
     "output_type": "stream",
     "text": [
      "163/163 [==============================] - 2s 13ms/step - loss: 1.1048 - acc: 0.7441\n"
     ]
    }
   ],
   "source": [
    "results_train_cnn64 = cnn64.evaluate(train_images64, train_y64)"
   ]
  },
  {
   "cell_type": "code",
   "execution_count": 89,
   "metadata": {},
   "outputs": [
    {
     "name": "stdout",
     "output_type": "stream",
     "text": [
      "163/163 [==============================] - 7s 46ms/step - loss: 0.8257 - acc: 0.9289\n"
     ]
    }
   ],
   "source": [
    "results_train_cnn128 = cnn128.evaluate(train_images128, train_y128)"
   ]
  },
  {
   "cell_type": "code",
   "execution_count": 90,
   "metadata": {},
   "outputs": [],
   "source": [
    "# results_train_cnn256 = cnn256.evaluate(train_images256, train_y256)"
   ]
  },
  {
   "cell_type": "code",
   "execution_count": 91,
   "metadata": {},
   "outputs": [
    {
     "name": "stdout",
     "output_type": "stream",
     "text": [
      "20/20 [==============================] - 0s 12ms/step - loss: 1.2198 - acc: 0.6250\n"
     ]
    }
   ],
   "source": [
    "results_test_cnn64 = cnn64.evaluate(test_images64, test_y64)"
   ]
  },
  {
   "cell_type": "code",
   "execution_count": 92,
   "metadata": {},
   "outputs": [
    {
     "name": "stdout",
     "output_type": "stream",
     "text": [
      "20/20 [==============================] - 1s 41ms/step - loss: 1.2061 - acc: 0.7660\n"
     ]
    }
   ],
   "source": [
    "results_test_cnn128 = cnn128.evaluate(test_images128, test_y128)"
   ]
  },
  {
   "cell_type": "code",
   "execution_count": 93,
   "metadata": {},
   "outputs": [],
   "source": [
    "# results_test_cnn256 = cnn256.evaluate(test_images256, test_y256)"
   ]
  },
  {
   "cell_type": "markdown",
   "metadata": {},
   "source": [
    "Compared to the results of the densely connected neural networks, these models perform similarly or worse.<br>\n",
    "These models could likely have been improved with a proper split of the data, which is done on the final model below."
   ]
  },
  {
   "cell_type": "markdown",
   "metadata": {},
   "source": [
    "In the cell below, we created a class that would allow us to create models quickly and with various input dimensions, in order to ascertain the true benefit of using images of various resolutions. Additionally, the 'reg' parameter allowed for a change of the type and strength of regularization of the model, if any."
   ]
  },
  {
   "cell_type": "markdown",
   "metadata": {},
   "source": [
    "This \"Strided Net\" code was originally sourced from the following URL:<br>\n",
    "https://pyimagesearch.com/2018/12/31/keras-conv2d-and-convolutional-layers/<br>\n",
    "It has since been modified to suit our purposes."
   ]
  },
  {
   "cell_type": "code",
   "execution_count": 94,
   "metadata": {},
   "outputs": [],
   "source": [
    "class StridedNet:\n",
    "    @staticmethod\n",
    "    def build(width, height, depth, classes, reg, init=\"he_normal\"):\n",
    "        # initialize the model along with the input shape to be\n",
    "        # \"channels last\" and the channels dimension itself\n",
    "        model = Sequential()\n",
    "        inputShape = (height, width, depth)\n",
    "        chanDim = -1\n",
    "        # if we are using \"channels first\", update the input shape\n",
    "        # and channels dimension\n",
    "        if K.image_data_format() == \"channels_first\":\n",
    "            inputShape = (depth, height, width)\n",
    "            chanDim = 1\n",
    "        # our first CONV layer will learn a total of 16 filters, each\n",
    "        # Of which are 7x7 -- we'll then apply 2x2 strides to reduce\n",
    "        # the spatial dimensions of the volume\n",
    "        model.add(Conv2D(16, (7, 7), strides=(2, 2), padding=\"valid\",\n",
    "            kernel_initializer=init, kernel_regularizer=reg,\n",
    "            input_shape=inputShape))\n",
    "        # here we stack two CONV layers on top of each other where\n",
    "        # each layerswill learn a total of 32 (3x3) filters\n",
    "        model.add(Conv2D(32, (3, 3), padding=\"same\",\n",
    "            kernel_initializer=init, kernel_regularizer=reg))\n",
    "        model.add(Activation(\"relu\"))\n",
    "        model.add(BatchNormalization(axis=chanDim))\n",
    "        model.add(Conv2D(32, (3, 3), strides=(2, 2), padding=\"same\",\n",
    "            kernel_initializer=init, kernel_regularizer=reg))\n",
    "        model.add(Activation(\"relu\"))\n",
    "        model.add(BatchNormalization(axis=chanDim))\n",
    "        model.add(Dropout(0.25))\n",
    "        # stack two more CONV layers, keeping the size of each filter\n",
    "        # as 3x3 but increasing to 64 total learned filters\n",
    "        model.add(Conv2D(64, (3, 3), padding=\"same\",\n",
    "            kernel_initializer=init, kernel_regularizer=reg))\n",
    "        model.add(Activation(\"relu\"))\n",
    "        model.add(BatchNormalization(axis=chanDim))\n",
    "        model.add(Conv2D(64, (3, 3), strides=(2, 2), padding=\"same\",\n",
    "            kernel_initializer=init, kernel_regularizer=reg))\n",
    "        model.add(Activation(\"relu\"))\n",
    "        model.add(BatchNormalization(axis=chanDim))\n",
    "        model.add(Dropout(0.25))\n",
    "        # increase the number of filters again, this time to 128\n",
    "        model.add(Conv2D(128, (3, 3), padding=\"same\",\n",
    "            kernel_initializer=init, kernel_regularizer=reg))\n",
    "        model.add(Activation(\"relu\"))\n",
    "        model.add(BatchNormalization(axis=chanDim))\n",
    "        model.add(Conv2D(128, (3, 3), strides=(2, 2), padding=\"same\",\n",
    "            kernel_initializer=init, kernel_regularizer=reg))\n",
    "        model.add(Activation(\"relu\"))\n",
    "        model.add(BatchNormalization(axis=chanDim))\n",
    "        model.add(Dropout(0.25))\n",
    "        # fully-connected layer\n",
    "        model.add(Flatten())\n",
    "        model.add(Dense(512, kernel_initializer=init))\n",
    "        model.add(Activation(\"relu\"))\n",
    "        model.add(BatchNormalization())\n",
    "        model.add(Dropout(0.5))\n",
    "        # sigmoid classifier\n",
    "        model.add(Dense(classes))\n",
    "        model.add(Activation(\"sigmoid\"))\n",
    "        # return the constructed network architecture\n",
    "        return model"
   ]
  },
  {
   "cell_type": "markdown",
   "metadata": {},
   "source": [
    "Below, we create several strided networks, thus named because they use a stride of 2 rather than pooling, and then compile them, fit them, and evaluate them. For the same reasons that the above models struggled to perform well, these models also did not do exceptionally well and an in-depth analysis of their performance will similarly not be covered."
   ]
  },
  {
   "cell_type": "code",
   "execution_count": 95,
   "metadata": {},
   "outputs": [],
   "source": [
    "strided_network = StridedNet()"
   ]
  },
  {
   "cell_type": "code",
   "execution_count": 96,
   "metadata": {},
   "outputs": [],
   "source": [
    "str_64 = strided_network.build(width=64, height=64, depth=1, classes=1, reg=regularizers.l2(0.0005))"
   ]
  },
  {
   "cell_type": "code",
   "execution_count": 97,
   "metadata": {},
   "outputs": [],
   "source": [
    "opt = keras.optimizers.SGD(learning_rate=1e-4, decay=1e-4/50)\n",
    "str_64.compile(loss='binary_crossentropy',\n",
    "              optimizer=opt,\n",
    "              metrics=['accuracy'])"
   ]
  },
  {
   "cell_type": "code",
   "execution_count": 98,
   "metadata": {},
   "outputs": [
    {
     "name": "stdout",
     "output_type": "stream",
     "text": [
      "Epoch 1/64\n",
      "163/163 [==============================] - 13s 77ms/step - loss: 1.4479 - accuracy: 0.5349 - val_loss: 1.2191 - val_accuracy: 0.5625\n",
      "Epoch 2/64\n",
      "163/163 [==============================] - 11s 69ms/step - loss: 1.3956 - accuracy: 0.5679 - val_loss: 1.2353 - val_accuracy: 0.6250\n",
      "Epoch 3/64\n",
      "163/163 [==============================] - 11s 69ms/step - loss: 1.3610 - accuracy: 0.5832 - val_loss: 1.1623 - val_accuracy: 0.5625\n",
      "Epoch 4/64\n",
      "163/163 [==============================] - 11s 69ms/step - loss: 1.3285 - accuracy: 0.5957 - val_loss: 1.0461 - val_accuracy: 0.5625\n",
      "Epoch 5/64\n",
      "163/163 [==============================] - 11s 70ms/step - loss: 1.3048 - accuracy: 0.6189 - val_loss: 1.0605 - val_accuracy: 0.5625\n",
      "Epoch 6/64\n",
      "163/163 [==============================] - 11s 69ms/step - loss: 1.2647 - accuracy: 0.6321 - val_loss: 1.0647 - val_accuracy: 0.5625\n",
      "Epoch 7/64\n",
      "163/163 [==============================] - 11s 69ms/step - loss: 1.2686 - accuracy: 0.6338 - val_loss: 1.0204 - val_accuracy: 0.5625\n",
      "Epoch 8/64\n",
      "163/163 [==============================] - 11s 69ms/step - loss: 1.2504 - accuracy: 0.6455 - val_loss: 0.9919 - val_accuracy: 0.6250\n",
      "Epoch 9/64\n",
      "163/163 [==============================] - 11s 69ms/step - loss: 1.2205 - accuracy: 0.6632 - val_loss: 0.9843 - val_accuracy: 0.5625\n",
      "Epoch 10/64\n",
      "163/163 [==============================] - 11s 69ms/step - loss: 1.1681 - accuracy: 0.6817 - val_loss: 1.0049 - val_accuracy: 0.6250\n",
      "Epoch 11/64\n",
      "163/163 [==============================] - 11s 69ms/step - loss: 1.1885 - accuracy: 0.6917 - val_loss: 0.9832 - val_accuracy: 0.6875\n",
      "Epoch 12/64\n",
      "163/163 [==============================] - 11s 69ms/step - loss: 1.1866 - accuracy: 0.6779 - val_loss: 0.9923 - val_accuracy: 0.7500\n",
      "Epoch 13/64\n",
      "163/163 [==============================] - 11s 69ms/step - loss: 1.1595 - accuracy: 0.6973 - val_loss: 1.0082 - val_accuracy: 0.6875\n",
      "Epoch 14/64\n",
      "163/163 [==============================] - 11s 69ms/step - loss: 1.1578 - accuracy: 0.6990 - val_loss: 0.9821 - val_accuracy: 0.6875\n",
      "Epoch 15/64\n",
      "163/163 [==============================] - 11s 69ms/step - loss: 1.1218 - accuracy: 0.7128 - val_loss: 0.9798 - val_accuracy: 0.6250\n",
      "Epoch 16/64\n",
      "163/163 [==============================] - 11s 70ms/step - loss: 1.1197 - accuracy: 0.7115 - val_loss: 1.0136 - val_accuracy: 0.6875\n",
      "Epoch 17/64\n",
      "163/163 [==============================] - 11s 69ms/step - loss: 1.1056 - accuracy: 0.7140 - val_loss: 0.9922 - val_accuracy: 0.6250\n",
      "Epoch 18/64\n",
      "163/163 [==============================] - 11s 70ms/step - loss: 1.1013 - accuracy: 0.7224 - val_loss: 0.9922 - val_accuracy: 0.7500\n",
      "Epoch 19/64\n",
      "163/163 [==============================] - 11s 69ms/step - loss: 1.0898 - accuracy: 0.7237 - val_loss: 1.0055 - val_accuracy: 0.7500\n",
      "Epoch 20/64\n",
      "163/163 [==============================] - 11s 70ms/step - loss: 1.0743 - accuracy: 0.7408 - val_loss: 0.9762 - val_accuracy: 0.7500\n",
      "Epoch 21/64\n",
      "163/163 [==============================] - 11s 69ms/step - loss: 1.0578 - accuracy: 0.7337 - val_loss: 0.9779 - val_accuracy: 0.7500\n",
      "Epoch 22/64\n",
      "163/163 [==============================] - 11s 69ms/step - loss: 1.0508 - accuracy: 0.7456 - val_loss: 0.9791 - val_accuracy: 0.6875\n",
      "Epoch 23/64\n",
      "163/163 [==============================] - 11s 69ms/step - loss: 1.0475 - accuracy: 0.7544 - val_loss: 0.9819 - val_accuracy: 0.7500\n",
      "Epoch 24/64\n",
      "163/163 [==============================] - 11s 69ms/step - loss: 1.0419 - accuracy: 0.7558 - val_loss: 0.9879 - val_accuracy: 0.7500\n",
      "Epoch 25/64\n",
      "163/163 [==============================] - 11s 69ms/step - loss: 1.0144 - accuracy: 0.7667 - val_loss: 0.9407 - val_accuracy: 0.7500\n",
      "Epoch 26/64\n",
      "163/163 [==============================] - 11s 69ms/step - loss: 1.0341 - accuracy: 0.7538 - val_loss: 0.9474 - val_accuracy: 0.7500\n",
      "Epoch 27/64\n",
      "163/163 [==============================] - 11s 69ms/step - loss: 1.0111 - accuracy: 0.7619 - val_loss: 0.9657 - val_accuracy: 0.7500\n",
      "Epoch 28/64\n",
      "163/163 [==============================] - 11s 69ms/step - loss: 1.0316 - accuracy: 0.7563 - val_loss: 0.9667 - val_accuracy: 0.7500\n",
      "Epoch 29/64\n",
      "163/163 [==============================] - 11s 69ms/step - loss: 1.0133 - accuracy: 0.7615 - val_loss: 0.9520 - val_accuracy: 0.7500\n",
      "Epoch 30/64\n",
      "163/163 [==============================] - 11s 70ms/step - loss: 0.9989 - accuracy: 0.7703 - val_loss: 0.9123 - val_accuracy: 0.7500\n",
      "Epoch 31/64\n",
      "163/163 [==============================] - 11s 69ms/step - loss: 1.0072 - accuracy: 0.7694 - val_loss: 0.9338 - val_accuracy: 0.7500\n",
      "Epoch 32/64\n",
      "163/163 [==============================] - 11s 69ms/step - loss: 0.9876 - accuracy: 0.7812 - val_loss: 0.9155 - val_accuracy: 0.7500\n",
      "Epoch 33/64\n",
      "163/163 [==============================] - 11s 69ms/step - loss: 0.9871 - accuracy: 0.7749 - val_loss: 0.9674 - val_accuracy: 0.7500\n",
      "Epoch 34/64\n",
      "163/163 [==============================] - 11s 69ms/step - loss: 0.9868 - accuracy: 0.7751 - val_loss: 0.9440 - val_accuracy: 0.7500\n",
      "Epoch 35/64\n",
      "163/163 [==============================] - 11s 69ms/step - loss: 0.9691 - accuracy: 0.7885 - val_loss: 0.9214 - val_accuracy: 0.7500\n",
      "Epoch 36/64\n",
      "163/163 [==============================] - 11s 69ms/step - loss: 0.9702 - accuracy: 0.7860 - val_loss: 0.9310 - val_accuracy: 0.7500\n",
      "Epoch 37/64\n",
      "163/163 [==============================] - 11s 69ms/step - loss: 0.9815 - accuracy: 0.7801 - val_loss: 0.9311 - val_accuracy: 0.7500\n",
      "Epoch 38/64\n",
      "163/163 [==============================] - 11s 69ms/step - loss: 0.9496 - accuracy: 0.7937 - val_loss: 0.9233 - val_accuracy: 0.7500\n",
      "Epoch 39/64\n",
      "163/163 [==============================] - 11s 70ms/step - loss: 0.9545 - accuracy: 0.7951 - val_loss: 0.9680 - val_accuracy: 0.7500\n",
      "Epoch 40/64\n",
      "163/163 [==============================] - 12s 73ms/step - loss: 0.9494 - accuracy: 0.7933 - val_loss: 0.9278 - val_accuracy: 0.8125\n",
      "Epoch 41/64\n",
      "163/163 [==============================] - 11s 69ms/step - loss: 0.9331 - accuracy: 0.7951 - val_loss: 0.9365 - val_accuracy: 0.7500\n",
      "Epoch 42/64\n",
      "163/163 [==============================] - 11s 69ms/step - loss: 0.9538 - accuracy: 0.7924 - val_loss: 0.9088 - val_accuracy: 0.8125\n",
      "Epoch 43/64\n",
      "163/163 [==============================] - 11s 69ms/step - loss: 0.9352 - accuracy: 0.8037 - val_loss: 0.9437 - val_accuracy: 0.7500\n",
      "Epoch 44/64\n",
      "163/163 [==============================] - 11s 69ms/step - loss: 0.9118 - accuracy: 0.8108 - val_loss: 0.9455 - val_accuracy: 0.8125\n",
      "Epoch 45/64\n",
      "163/163 [==============================] - 11s 69ms/step - loss: 0.9191 - accuracy: 0.8112 - val_loss: 0.8903 - val_accuracy: 0.8125\n",
      "Epoch 46/64\n",
      "163/163 [==============================] - 11s 69ms/step - loss: 0.9083 - accuracy: 0.8146 - val_loss: 0.9600 - val_accuracy: 0.7500\n",
      "Epoch 47/64\n",
      "163/163 [==============================] - 11s 69ms/step - loss: 0.9138 - accuracy: 0.8177 - val_loss: 0.9566 - val_accuracy: 0.8125\n",
      "Epoch 48/64\n",
      "163/163 [==============================] - 11s 69ms/step - loss: 0.9214 - accuracy: 0.8100 - val_loss: 0.9292 - val_accuracy: 0.8125\n",
      "Epoch 49/64\n",
      "163/163 [==============================] - 11s 69ms/step - loss: 0.9055 - accuracy: 0.8179 - val_loss: 0.9534 - val_accuracy: 0.8125\n",
      "Epoch 50/64\n",
      "163/163 [==============================] - 11s 69ms/step - loss: 0.9023 - accuracy: 0.8148 - val_loss: 0.9354 - val_accuracy: 0.8125\n",
      "Epoch 51/64\n",
      "163/163 [==============================] - 11s 69ms/step - loss: 0.9078 - accuracy: 0.8158 - val_loss: 0.9384 - val_accuracy: 0.8125\n",
      "Epoch 52/64\n",
      "163/163 [==============================] - 11s 69ms/step - loss: 0.8860 - accuracy: 0.8322 - val_loss: 0.9597 - val_accuracy: 0.8125\n",
      "Epoch 53/64\n",
      "163/163 [==============================] - 11s 69ms/step - loss: 0.8938 - accuracy: 0.8135 - val_loss: 0.9522 - val_accuracy: 0.8125\n",
      "Epoch 54/64\n",
      "163/163 [==============================] - 11s 69ms/step - loss: 0.8720 - accuracy: 0.8267 - val_loss: 0.9477 - val_accuracy: 0.8125\n",
      "Epoch 55/64\n",
      "163/163 [==============================] - 11s 69ms/step - loss: 0.8698 - accuracy: 0.8303 - val_loss: 0.9295 - val_accuracy: 0.8125\n",
      "Epoch 56/64\n",
      "163/163 [==============================] - 11s 69ms/step - loss: 0.8913 - accuracy: 0.8305 - val_loss: 0.9738 - val_accuracy: 0.8125\n",
      "Epoch 57/64\n",
      "163/163 [==============================] - 11s 69ms/step - loss: 0.8804 - accuracy: 0.8303 - val_loss: 0.9334 - val_accuracy: 0.8125\n",
      "Epoch 58/64\n",
      "163/163 [==============================] - 11s 69ms/step - loss: 0.8819 - accuracy: 0.8252 - val_loss: 0.9275 - val_accuracy: 0.8125\n",
      "Epoch 59/64\n",
      "163/163 [==============================] - 11s 69ms/step - loss: 0.8734 - accuracy: 0.8351 - val_loss: 0.9248 - val_accuracy: 0.8125\n",
      "Epoch 60/64\n",
      "163/163 [==============================] - 11s 69ms/step - loss: 0.8727 - accuracy: 0.8374 - val_loss: 0.8897 - val_accuracy: 0.8125\n",
      "Epoch 61/64\n",
      "163/163 [==============================] - 11s 69ms/step - loss: 0.8622 - accuracy: 0.8344 - val_loss: 0.9324 - val_accuracy: 0.8125\n",
      "Epoch 62/64\n",
      "163/163 [==============================] - 11s 69ms/step - loss: 0.8540 - accuracy: 0.8414 - val_loss: 0.9337 - val_accuracy: 0.8125\n",
      "Epoch 63/64\n",
      "163/163 [==============================] - 11s 69ms/step - loss: 0.8623 - accuracy: 0.8397 - val_loss: 0.9094 - val_accuracy: 0.8125\n",
      "Epoch 64/64\n",
      "163/163 [==============================] - 11s 69ms/step - loss: 0.8747 - accuracy: 0.8378 - val_loss: 0.8942 - val_accuracy: 0.8125\n"
     ]
    }
   ],
   "source": [
    "str_64_history = str_64.fit(train_images64,\n",
    "                          train_y64,\n",
    "                          epochs=64,\n",
    "                          batch_size=32,\n",
    "                          validation_data=(val_images64,\n",
    "                                           val_y64),\n",
    "                          verbose=1)"
   ]
  },
  {
   "cell_type": "code",
   "execution_count": 99,
   "metadata": {},
   "outputs": [
    {
     "name": "stdout",
     "output_type": "stream",
     "text": [
      "163/163 [==============================] - 2s 14ms/step - loss: 0.6133 - accuracy: 0.9461\n"
     ]
    }
   ],
   "source": [
    "str_results_train64 = str_64.evaluate(train_images64, train_y64)"
   ]
  },
  {
   "cell_type": "code",
   "execution_count": 100,
   "metadata": {},
   "outputs": [
    {
     "name": "stdout",
     "output_type": "stream",
     "text": [
      "1/1 [==============================] - 0s 0s/step - loss: 0.8942 - accuracy: 0.8125\n"
     ]
    }
   ],
   "source": [
    "str_results_val64 = str_64.evaluate(val_images64, val_y64)"
   ]
  },
  {
   "cell_type": "code",
   "execution_count": 101,
   "metadata": {},
   "outputs": [
    {
     "name": "stdout",
     "output_type": "stream",
     "text": [
      "20/20 [==============================] - 0s 13ms/step - loss: 0.8941 - accuracy: 0.8077\n"
     ]
    }
   ],
   "source": [
    "str_results_test64 = str_64.evaluate(test_images64, test_y64)"
   ]
  },
  {
   "cell_type": "code",
   "execution_count": 102,
   "metadata": {},
   "outputs": [],
   "source": [
    "str_128 = strided_network.build(width=128, height=128, depth=1, classes=1, reg=regularizers.l2(0.0005))"
   ]
  },
  {
   "cell_type": "code",
   "execution_count": 103,
   "metadata": {},
   "outputs": [],
   "source": [
    "opt = keras.optimizers.SGD(learning_rate=1e-4, decay=1e-4/50)\n",
    "str_128.compile(loss='binary_crossentropy',\n",
    "              optimizer=opt,\n",
    "              metrics=['accuracy'])"
   ]
  },
  {
   "cell_type": "code",
   "execution_count": 104,
   "metadata": {},
   "outputs": [
    {
     "name": "stdout",
     "output_type": "stream",
     "text": [
      "Epoch 1/64\n",
      "163/163 [==============================] - 42s 258ms/step - loss: 1.4950 - accuracy: 0.5073 - val_loss: 1.1407 - val_accuracy: 0.5000\n",
      "Epoch 2/64\n",
      "163/163 [==============================] - 42s 258ms/step - loss: 1.3342 - accuracy: 0.5857 - val_loss: 1.1350 - val_accuracy: 0.5000\n",
      "Epoch 3/64\n",
      "163/163 [==============================] - 42s 255ms/step - loss: 1.2472 - accuracy: 0.6288 - val_loss: 1.1771 - val_accuracy: 0.5000\n",
      "Epoch 4/64\n",
      "163/163 [==============================] - 43s 263ms/step - loss: 1.1933 - accuracy: 0.6564 - val_loss: 1.0242 - val_accuracy: 0.6250\n",
      "Epoch 5/64\n",
      "163/163 [==============================] - 44s 271ms/step - loss: 1.1826 - accuracy: 0.6794 - val_loss: 0.9628 - val_accuracy: 0.8125\n",
      "Epoch 6/64\n",
      "163/163 [==============================] - 42s 259ms/step - loss: 1.1568 - accuracy: 0.6931 - val_loss: 0.9734 - val_accuracy: 0.6875\n",
      "Epoch 7/64\n",
      "163/163 [==============================] - 42s 257ms/step - loss: 1.1333 - accuracy: 0.6982 - val_loss: 1.0476 - val_accuracy: 0.6875\n",
      "Epoch 8/64\n",
      "163/163 [==============================] - 42s 256ms/step - loss: 1.0937 - accuracy: 0.7257 - val_loss: 0.8961 - val_accuracy: 0.6875\n",
      "Epoch 9/64\n",
      "163/163 [==============================] - 42s 256ms/step - loss: 1.0552 - accuracy: 0.7402 - val_loss: 0.9599 - val_accuracy: 0.6875\n",
      "Epoch 10/64\n",
      "163/163 [==============================] - 42s 258ms/step - loss: 1.0527 - accuracy: 0.7419 - val_loss: 1.0133 - val_accuracy: 0.6875\n",
      "Epoch 11/64\n",
      "163/163 [==============================] - 42s 257ms/step - loss: 1.0479 - accuracy: 0.7469 - val_loss: 1.0824 - val_accuracy: 0.6875\n",
      "Epoch 12/64\n",
      "163/163 [==============================] - 42s 256ms/step - loss: 1.0406 - accuracy: 0.7552 - val_loss: 1.0386 - val_accuracy: 0.7500\n",
      "Epoch 13/64\n",
      "163/163 [==============================] - 42s 255ms/step - loss: 1.0071 - accuracy: 0.7663 - val_loss: 0.9724 - val_accuracy: 0.7500\n",
      "Epoch 14/64\n",
      "163/163 [==============================] - 42s 255ms/step - loss: 0.9963 - accuracy: 0.7726 - val_loss: 1.0358 - val_accuracy: 0.6875\n",
      "Epoch 15/64\n",
      "163/163 [==============================] - 42s 258ms/step - loss: 0.9897 - accuracy: 0.7749 - val_loss: 1.0253 - val_accuracy: 0.7500\n",
      "Epoch 16/64\n",
      "163/163 [==============================] - 42s 257ms/step - loss: 0.9750 - accuracy: 0.7847 - val_loss: 0.9153 - val_accuracy: 0.7500\n",
      "Epoch 17/64\n",
      "163/163 [==============================] - 42s 259ms/step - loss: 0.9835 - accuracy: 0.7814 - val_loss: 0.9262 - val_accuracy: 0.7500\n",
      "Epoch 18/64\n",
      "163/163 [==============================] - 44s 268ms/step - loss: 0.9597 - accuracy: 0.7947 - val_loss: 0.9690 - val_accuracy: 0.7500\n",
      "Epoch 19/64\n",
      "163/163 [==============================] - 42s 258ms/step - loss: 0.9520 - accuracy: 0.7949 - val_loss: 1.0427 - val_accuracy: 0.7500\n",
      "Epoch 20/64\n",
      "163/163 [==============================] - 42s 258ms/step - loss: 0.9316 - accuracy: 0.7985 - val_loss: 0.9980 - val_accuracy: 0.7500\n",
      "Epoch 21/64\n",
      "163/163 [==============================] - 42s 257ms/step - loss: 0.9396 - accuracy: 0.8002 - val_loss: 0.8991 - val_accuracy: 0.7500\n",
      "Epoch 22/64\n",
      "163/163 [==============================] - 42s 256ms/step - loss: 0.9197 - accuracy: 0.8123 - val_loss: 0.9410 - val_accuracy: 0.7500\n",
      "Epoch 23/64\n",
      "163/163 [==============================] - 42s 256ms/step - loss: 0.9298 - accuracy: 0.8115 - val_loss: 0.9971 - val_accuracy: 0.7500\n",
      "Epoch 24/64\n",
      "163/163 [==============================] - 42s 255ms/step - loss: 0.9246 - accuracy: 0.8083 - val_loss: 0.9191 - val_accuracy: 0.8125\n",
      "Epoch 25/64\n",
      "163/163 [==============================] - 42s 256ms/step - loss: 0.9126 - accuracy: 0.8092 - val_loss: 0.9052 - val_accuracy: 0.7500\n",
      "Epoch 26/64\n",
      "163/163 [==============================] - 42s 257ms/step - loss: 0.8978 - accuracy: 0.8240 - val_loss: 0.8871 - val_accuracy: 0.7500\n",
      "Epoch 27/64\n",
      "163/163 [==============================] - 42s 257ms/step - loss: 0.8857 - accuracy: 0.8229 - val_loss: 0.9355 - val_accuracy: 0.7500\n",
      "Epoch 28/64\n",
      "163/163 [==============================] - 42s 256ms/step - loss: 0.8845 - accuracy: 0.8280 - val_loss: 0.9620 - val_accuracy: 0.7500\n",
      "Epoch 29/64\n",
      "163/163 [==============================] - 42s 256ms/step - loss: 0.8721 - accuracy: 0.8284 - val_loss: 0.9549 - val_accuracy: 0.7500\n",
      "Epoch 30/64\n",
      "163/163 [==============================] - 42s 255ms/step - loss: 0.8872 - accuracy: 0.8317 - val_loss: 0.9287 - val_accuracy: 0.7500\n",
      "Epoch 31/64\n",
      "163/163 [==============================] - 42s 256ms/step - loss: 0.8638 - accuracy: 0.8367 - val_loss: 0.9267 - val_accuracy: 0.7500\n",
      "Epoch 32/64\n",
      "163/163 [==============================] - 42s 256ms/step - loss: 0.8656 - accuracy: 0.8351 - val_loss: 0.8688 - val_accuracy: 0.7500\n",
      "Epoch 33/64\n",
      "163/163 [==============================] - 42s 255ms/step - loss: 0.8654 - accuracy: 0.8340 - val_loss: 0.9101 - val_accuracy: 0.7500\n",
      "Epoch 34/64\n",
      "163/163 [==============================] - 42s 257ms/step - loss: 0.8698 - accuracy: 0.8307 - val_loss: 0.9403 - val_accuracy: 0.7500\n",
      "Epoch 35/64\n",
      "163/163 [==============================] - 42s 256ms/step - loss: 0.8505 - accuracy: 0.8413 - val_loss: 0.9325 - val_accuracy: 0.7500\n",
      "Epoch 36/64\n",
      "163/163 [==============================] - 42s 258ms/step - loss: 0.8492 - accuracy: 0.8439 - val_loss: 0.8373 - val_accuracy: 0.7500\n",
      "Epoch 37/64\n",
      "163/163 [==============================] - 41s 254ms/step - loss: 0.8483 - accuracy: 0.8464 - val_loss: 0.8984 - val_accuracy: 0.7500\n",
      "Epoch 38/64\n",
      "163/163 [==============================] - 42s 256ms/step - loss: 0.8395 - accuracy: 0.8451 - val_loss: 0.8457 - val_accuracy: 0.7500\n",
      "Epoch 39/64\n",
      "163/163 [==============================] - 42s 255ms/step - loss: 0.8348 - accuracy: 0.8526 - val_loss: 0.8219 - val_accuracy: 0.8125\n",
      "Epoch 40/64\n",
      "163/163 [==============================] - 41s 255ms/step - loss: 0.8315 - accuracy: 0.8474 - val_loss: 0.8493 - val_accuracy: 0.8125\n",
      "Epoch 41/64\n",
      "163/163 [==============================] - 41s 255ms/step - loss: 0.8294 - accuracy: 0.8574 - val_loss: 0.8799 - val_accuracy: 0.7500\n",
      "Epoch 42/64\n",
      "163/163 [==============================] - 42s 256ms/step - loss: 0.8176 - accuracy: 0.8570 - val_loss: 0.9139 - val_accuracy: 0.7500\n",
      "Epoch 43/64\n",
      "163/163 [==============================] - 42s 256ms/step - loss: 0.8080 - accuracy: 0.8591 - val_loss: 0.8339 - val_accuracy: 0.7500\n",
      "Epoch 44/64\n",
      "163/163 [==============================] - 42s 255ms/step - loss: 0.8158 - accuracy: 0.8570 - val_loss: 0.9032 - val_accuracy: 0.7500\n",
      "Epoch 45/64\n",
      "163/163 [==============================] - 42s 255ms/step - loss: 0.8195 - accuracy: 0.8658 - val_loss: 0.8760 - val_accuracy: 0.7500\n",
      "Epoch 46/64\n",
      "163/163 [==============================] - 42s 255ms/step - loss: 0.8068 - accuracy: 0.8641 - val_loss: 0.8488 - val_accuracy: 0.7500\n",
      "Epoch 47/64\n",
      "163/163 [==============================] - 42s 256ms/step - loss: 0.8052 - accuracy: 0.8654 - val_loss: 0.8861 - val_accuracy: 0.7500\n",
      "Epoch 48/64\n",
      "163/163 [==============================] - 42s 255ms/step - loss: 0.8028 - accuracy: 0.8681 - val_loss: 0.8676 - val_accuracy: 0.7500\n",
      "Epoch 49/64\n",
      "163/163 [==============================] - 42s 256ms/step - loss: 0.7984 - accuracy: 0.8666 - val_loss: 0.8889 - val_accuracy: 0.7500\n",
      "Epoch 50/64\n",
      "163/163 [==============================] - 42s 255ms/step - loss: 0.8003 - accuracy: 0.8723 - val_loss: 0.8833 - val_accuracy: 0.7500\n",
      "Epoch 51/64\n",
      "163/163 [==============================] - 42s 255ms/step - loss: 0.7808 - accuracy: 0.8754 - val_loss: 0.8372 - val_accuracy: 0.8125\n",
      "Epoch 52/64\n",
      "163/163 [==============================] - 42s 255ms/step - loss: 0.7844 - accuracy: 0.8754 - val_loss: 0.8411 - val_accuracy: 0.7500\n",
      "Epoch 53/64\n",
      "163/163 [==============================] - 42s 255ms/step - loss: 0.7800 - accuracy: 0.8785 - val_loss: 0.8477 - val_accuracy: 0.8125\n",
      "Epoch 54/64\n",
      "163/163 [==============================] - 42s 255ms/step - loss: 0.7837 - accuracy: 0.8746 - val_loss: 0.8148 - val_accuracy: 0.8125\n",
      "Epoch 55/64\n",
      "163/163 [==============================] - 42s 255ms/step - loss: 0.7814 - accuracy: 0.8704 - val_loss: 0.9144 - val_accuracy: 0.7500\n",
      "Epoch 56/64\n",
      "163/163 [==============================] - 42s 255ms/step - loss: 0.7724 - accuracy: 0.8809 - val_loss: 0.8466 - val_accuracy: 0.7500\n",
      "Epoch 57/64\n",
      "163/163 [==============================] - 42s 256ms/step - loss: 0.7831 - accuracy: 0.8758 - val_loss: 0.8149 - val_accuracy: 0.7500\n",
      "Epoch 58/64\n",
      "163/163 [==============================] - 42s 257ms/step - loss: 0.7696 - accuracy: 0.8783 - val_loss: 0.8851 - val_accuracy: 0.7500\n",
      "Epoch 59/64\n",
      "163/163 [==============================] - 41s 254ms/step - loss: 0.7625 - accuracy: 0.8825 - val_loss: 0.8491 - val_accuracy: 0.7500\n",
      "Epoch 60/64\n",
      "163/163 [==============================] - 42s 255ms/step - loss: 0.7598 - accuracy: 0.8873 - val_loss: 0.9105 - val_accuracy: 0.7500\n",
      "Epoch 61/64\n",
      "163/163 [==============================] - 42s 255ms/step - loss: 0.7585 - accuracy: 0.8844 - val_loss: 0.8502 - val_accuracy: 0.7500\n",
      "Epoch 62/64\n",
      "163/163 [==============================] - 42s 255ms/step - loss: 0.7722 - accuracy: 0.8850 - val_loss: 0.7999 - val_accuracy: 0.8750\n",
      "Epoch 63/64\n",
      "163/163 [==============================] - 41s 254ms/step - loss: 0.7566 - accuracy: 0.8844 - val_loss: 0.8063 - val_accuracy: 0.8125\n",
      "Epoch 64/64\n",
      "163/163 [==============================] - 42s 255ms/step - loss: 0.7648 - accuracy: 0.8875 - val_loss: 0.8255 - val_accuracy: 0.8125\n"
     ]
    }
   ],
   "source": [
    "str_128_history = str_128.fit(train_images128,\n",
    "                          train_y128,\n",
    "                          epochs=64,\n",
    "                          batch_size=32,\n",
    "                          validation_data=(val_images128,\n",
    "                                           val_y128),\n",
    "                          verbose=1)"
   ]
  },
  {
   "cell_type": "code",
   "execution_count": 105,
   "metadata": {},
   "outputs": [
    {
     "name": "stdout",
     "output_type": "stream",
     "text": [
      "163/163 [==============================] - 6s 36ms/step - loss: 0.5875 - accuracy: 0.9620\n"
     ]
    }
   ],
   "source": [
    "str_results_train128 = str_128.evaluate(train_images128, train_y128)"
   ]
  },
  {
   "cell_type": "code",
   "execution_count": 106,
   "metadata": {},
   "outputs": [
    {
     "name": "stdout",
     "output_type": "stream",
     "text": [
      "1/1 [==============================] - 0s 0s/step - loss: 0.8255 - accuracy: 0.8125\n"
     ]
    }
   ],
   "source": [
    "str_results_val128 = str_128.evaluate(val_images128, val_y128)"
   ]
  },
  {
   "cell_type": "code",
   "execution_count": 107,
   "metadata": {},
   "outputs": [
    {
     "name": "stdout",
     "output_type": "stream",
     "text": [
      "20/20 [==============================] - 1s 32ms/step - loss: 1.1116 - accuracy: 0.7468\n"
     ]
    }
   ],
   "source": [
    "str_results_test128 = str_128.evaluate(test_images128, test_y128)"
   ]
  },
  {
   "cell_type": "code",
   "execution_count": 108,
   "metadata": {},
   "outputs": [],
   "source": [
    "# str_256 = strided_network.build(width=256, height=256, depth=1, classes=1, reg=regularizers.l2(0.0005))"
   ]
  },
  {
   "cell_type": "code",
   "execution_count": 109,
   "metadata": {},
   "outputs": [],
   "source": [
    "# opt = keras.optimizers.SGD(learning_rate=1e-4, decay=1e-4/50)\n",
    "# str_256.compile(loss='binary_crossentropy',\n",
    "#               optimizer=opt,\n",
    "#               metrics=['accuracy'])"
   ]
  },
  {
   "cell_type": "code",
   "execution_count": 110,
   "metadata": {},
   "outputs": [],
   "source": [
    "# str_256_history = str_256.fit(train_images256,\n",
    "#                           train_y256,\n",
    "#                           epochs=64,\n",
    "#                           batch_size=32,\n",
    "#                           validation_data=(val_images256,\n",
    "#                                            val_y256))"
   ]
  },
  {
   "cell_type": "code",
   "execution_count": 111,
   "metadata": {},
   "outputs": [],
   "source": [
    "# str_results_train256 = str_256.evaluate(train_images256, train_y256)"
   ]
  },
  {
   "cell_type": "code",
   "execution_count": 112,
   "metadata": {},
   "outputs": [],
   "source": [
    "# str_results_val256 = str_256.evaluate(val_images256, val_y256)"
   ]
  },
  {
   "cell_type": "code",
   "execution_count": 113,
   "metadata": {},
   "outputs": [],
   "source": [
    "# str_results_test256 = str_256.evaluate(test_images256, test_y256)"
   ]
  },
  {
   "cell_type": "code",
   "execution_count": 114,
   "metadata": {},
   "outputs": [],
   "source": [
    "# str_final = strided_network.build(width=256, height=256, depth=1, classes=1, reg=regularizers.l2(0.0005))\n",
    "# opt = keras.optimizers.SGD(learning_rate=1e-4, decay=1e-4/50)\n",
    "# str_final.compile(loss='binary_crossentropy',\n",
    "#               optimizer=opt,\n",
    "#               metrics=['accuracy'])\n",
    "# str_final_history = str_final.fit(train_images256,\n",
    "#                           train_y256,\n",
    "#                           epochs=128,\n",
    "#                           batch_size=16,\n",
    "#                           validation_data=(val_images256,\n",
    "#                                            val_y256))\n",
    "# str_results_train_final = str_final.evaluate(train_images256, train_y256)\n",
    "# display(str_results_train_final)\n",
    "# str_results_val_final = str_final.evaluate(val_images256, val_y256)\n",
    "# display(str_results_val_final)\n",
    "# str_results_test_final = str_final.evaluate(test_images256, test_y256)\n",
    "# display(str_results_test_final)"
   ]
  },
  {
   "cell_type": "code",
   "execution_count": 115,
   "metadata": {},
   "outputs": [
    {
     "name": "stdout",
     "output_type": "stream",
     "text": [
      "Epoch 1/10\n",
      "163/163 [==============================] - 10s 62ms/step - loss: 1.9958 - accuracy: 0.8378 - val_loss: 1.2046 - val_accuracy: 0.5625\n",
      "Epoch 2/10\n",
      "163/163 [==============================] - 10s 62ms/step - loss: 0.2817 - accuracy: 0.9266 - val_loss: 0.5969 - val_accuracy: 0.8125\n",
      "Epoch 3/10\n",
      "163/163 [==============================] - 10s 61ms/step - loss: 0.2339 - accuracy: 0.9383 - val_loss: 1.0200 - val_accuracy: 0.6250\n",
      "Epoch 4/10\n",
      "163/163 [==============================] - 10s 61ms/step - loss: 0.2121 - accuracy: 0.9427 - val_loss: 0.6384 - val_accuracy: 0.6875\n",
      "Epoch 5/10\n",
      "163/163 [==============================] - 10s 61ms/step - loss: 0.2093 - accuracy: 0.9423 - val_loss: 1.0635 - val_accuracy: 0.5625\n",
      "Epoch 6/10\n",
      "163/163 [==============================] - 10s 61ms/step - loss: 0.2017 - accuracy: 0.9480 - val_loss: 0.6586 - val_accuracy: 0.7500\n",
      "Epoch 7/10\n",
      "163/163 [==============================] - 10s 61ms/step - loss: 0.1931 - accuracy: 0.9490 - val_loss: 0.6635 - val_accuracy: 0.7500\n",
      "Epoch 8/10\n",
      "163/163 [==============================] - 10s 61ms/step - loss: 0.1871 - accuracy: 0.9526 - val_loss: 0.6022 - val_accuracy: 0.7500\n",
      "Epoch 9/10\n",
      "163/163 [==============================] - 10s 61ms/step - loss: 0.1843 - accuracy: 0.9555 - val_loss: 0.6900 - val_accuracy: 0.7500\n",
      "Epoch 10/10\n",
      "163/163 [==============================] - 10s 61ms/step - loss: 0.1801 - accuracy: 0.9538 - val_loss: 0.9284 - val_accuracy: 0.5625\n",
      "20/20 [==============================] - 0s 13ms/step - loss: 1.0627 - accuracy: 0.7115\n"
     ]
    },
    {
     "data": {
      "image/png": "[encoded data removed]",
      "text/plain": [
       "<Figure size 432x288 with 1 Axes>"
      ]
     },
     "metadata": {
      "needs_background": "light"
     },
     "output_type": "display_data"
    }
   ],
   "source": [
    "simple_cnn64 = models.Sequential()\n",
    "simple_cnn64.add(layers.Conv2D(32, (3, 3), activation='relu', input_shape=(64, 64, 1), kernel_regularizer=regularizers.l2(0.1)))\n",
    "simple_cnn64.add(layers.MaxPooling2D((2, 2)))\n",
    "simple_cnn64.add(layers.Conv2D(64, (3, 3), activation='relu', kernel_regularizer=regularizers.l2(0.1)))\n",
    "simple_cnn64.add(layers.MaxPooling2D((2, 2)))\n",
    "simple_cnn64.add(layers.Conv2D(64, (3, 3), activation='relu', kernel_regularizer=regularizers.l2(0.1)))\n",
    "simple_cnn64.add(layers.Flatten())\n",
    "simple_cnn64.add(layers.Dense(64, activation='relu'))\n",
    "simple_cnn64.add(layers.Dense(1, activation='sigmoid'))\n",
    "simple_cnn64.compile(optimizer='adam',\n",
    "              loss='binary_crossentropy',\n",
    "              metrics=['accuracy'])\n",
    "history_cnn64 = simple_cnn64.fit(train_images64, train_y64, epochs=10, \n",
    "                    validation_data=(val_images64, val_y64))\n",
    "plt.plot(history_cnn64.history['accuracy'], label='accuracy')\n",
    "plt.plot(history_cnn64.history['val_accuracy'], label = 'val_accuracy')\n",
    "plt.xlabel('Epoch')\n",
    "plt.ylabel('Accuracy')\n",
    "plt.ylim([0.5, 1])\n",
    "plt.legend(loc='lower right')\n",
    "test_loss, test_acc = simple_cnn64.evaluate(test_images64,  test_y64, verbose=1)"
   ]
  },
  {
   "cell_type": "code",
   "execution_count": 116,
   "metadata": {},
   "outputs": [
    {
     "name": "stdout",
     "output_type": "stream",
     "text": [
      "20/20 - 0s - loss: 1.0627 - accuracy: 0.7115\n"
     ]
    },
    {
     "data": {
      "text/plain": [
       "0.7115384340286255"
      ]
     },
     "execution_count": 116,
     "metadata": {},
     "output_type": "execute_result"
    }
   ],
   "source": [
    "simple_cnn64.evaluate(test_images64,  test_y64, verbose=2)[1]"
   ]
  },
  {
   "cell_type": "markdown",
   "metadata": {},
   "source": [
    "The below graph was generated during the best run of one of the above models, which was, at the time, our best-performing model.<br>Based on random states, even its performance varies wildly through successive iterations of the notebook."
   ]
  },
  {
   "cell_type": "code",
   "execution_count": 117,
   "metadata": {},
   "outputs": [
    {
     "name": "stdout",
     "output_type": "stream",
     "text": [
      "20/20 - 0s - loss: 1.0627 - accuracy: 0.7115\n",
      "20/20 - 0s - loss: 1.0627 - accuracy: 0.7115\n"
     ]
    },
    {
     "data": {
      "text/plain": [
       "''"
      ]
     },
     "execution_count": 117,
     "metadata": {},
     "output_type": "execute_result"
    },
    {
     "data": {
      "image/png": "[encoded data removed]",
      "text/plain": [
       "<Figure size 921.6x691.2 with 1 Axes>"
      ]
     },
     "metadata": {
      "needs_background": "light"
     },
     "output_type": "display_data"
    }
   ],
   "source": [
    "fig, ax = plt.subplots(figsize=(12.8, 9.6))\n",
    "\n",
    "ax.bar(('Correct', 'Incorrect'),\n",
    "       (simple_cnn64.evaluate(test_images64,  test_y64, verbose=2)[1],\n",
    "        1 - simple_cnn64.evaluate(test_images64,  test_y64, verbose=2)[1]),\n",
    "       edgecolor='black')\n",
    "ax.set_xlabel('Classification Accuracy',\n",
    "              labelpad=20,\n",
    "              fontsize=16)\n",
    "ax.set_ylabel('Percent of Predictions',\n",
    "              labelpad=20,\n",
    "              fontsize=16)\n",
    "ax.set_title('Classification Accuracy vs Percent of Predictions',\n",
    "             pad=20,\n",
    "             fontsize=20)\n",
    "ax.set_xticks((0, 1))\n",
    "ax.set_xticklabels(['Correct',\n",
    "                    'Incorrect'],)\n",
    "ax.tick_params(axis='both',\n",
    "               which='major',\n",
    "               labelsize=12)\n",
    "ax.set_facecolor('0.75')\n",
    "plt.axhline(y=1,\n",
    "            color='black')\n",
    "# plt.text(x=0, y=.85, s='80%', fontsize=12, ha='center')\n",
    "# plt.text(x=1, y=.25, s='20%', fontsize=12, ha='center')\n",
    "# plt.text(x=.5, y=.95, s='Total = 100%', fontsize=12, ha='center')\n",
    "\n",
    ";"
   ]
  },
  {
   "cell_type": "code",
   "execution_count": 118,
   "metadata": {},
   "outputs": [
    {
     "name": "stdout",
     "output_type": "stream",
     "text": [
      "Epoch 1/10\n",
      "163/163 [==============================] - 10s 63ms/step - loss: 0.5230 - accuracy: 0.7805 - val_loss: 0.6303 - val_accuracy: 0.6875\n",
      "Epoch 2/10\n",
      "163/163 [==============================] - 10s 63ms/step - loss: 0.2819 - accuracy: 0.9026 - val_loss: 0.4633 - val_accuracy: 0.8750\n",
      "Epoch 3/10\n",
      "163/163 [==============================] - 10s 62ms/step - loss: 0.2103 - accuracy: 0.9339 - val_loss: 0.9683 - val_accuracy: 0.6250\n",
      "Epoch 4/10\n",
      "163/163 [==============================] - 10s 63ms/step - loss: 0.1769 - accuracy: 0.9469 - val_loss: 0.5909 - val_accuracy: 0.7500\n",
      "Epoch 5/10\n",
      "163/163 [==============================] - 10s 62ms/step - loss: 0.1592 - accuracy: 0.9538 - val_loss: 1.1654 - val_accuracy: 0.5625\n",
      "Epoch 6/10\n",
      "163/163 [==============================] - 10s 63ms/step - loss: 0.1482 - accuracy: 0.9557 - val_loss: 0.5201 - val_accuracy: 0.8125\n",
      "Epoch 7/10\n",
      "163/163 [==============================] - 10s 63ms/step - loss: 0.1406 - accuracy: 0.9599 - val_loss: 0.2832 - val_accuracy: 0.9375\n",
      "Epoch 8/10\n",
      "163/163 [==============================] - 10s 62ms/step - loss: 0.1341 - accuracy: 0.9636 - val_loss: 0.6602 - val_accuracy: 0.7500\n",
      "Epoch 9/10\n",
      "163/163 [==============================] - 10s 62ms/step - loss: 0.1302 - accuracy: 0.9657 - val_loss: 0.6493 - val_accuracy: 0.7500\n",
      "Epoch 10/10\n",
      "163/163 [==============================] - 10s 62ms/step - loss: 0.1226 - accuracy: 0.9670 - val_loss: 0.5803 - val_accuracy: 0.7500\n",
      "20/20 [==============================] - 0s 13ms/step - loss: 0.8240 - accuracy: 0.7404\n"
     ]
    },
    {
     "data": {
      "image/png": "[encoded data removed]",
      "text/plain": [
       "<Figure size 432x288 with 1 Axes>"
      ]
     },
     "metadata": {
      "needs_background": "light"
     },
     "output_type": "display_data"
    }
   ],
   "source": [
    "opt = keras.optimizers.Adam(learning_rate=1e-4, decay=1e-4/50)\n",
    "simple_cnn64_two = models.Sequential()\n",
    "simple_cnn64_two.add(layers.Conv2D(32,\n",
    "                                   (3, 3),\n",
    "                                   activation='relu',\n",
    "                                   input_shape=(64, 64, 1),\n",
    "                                   kernel_regularizer=regularizers.l2(0.0005)))\n",
    "simple_cnn64_two.add(layers.MaxPooling2D((2, 2)))\n",
    "simple_cnn64_two.add(layers.Conv2D(64,\n",
    "                                   (3, 3),\n",
    "                                   activation='relu',\n",
    "                                   kernel_regularizer=regularizers.l2(0.0005)))\n",
    "simple_cnn64_two.add(layers.MaxPooling2D((2, 2)))\n",
    "simple_cnn64_two.add(layers.Conv2D(64,\n",
    "                                   (3, 3),\n",
    "                                   activation='relu',\n",
    "                                   kernel_regularizer=regularizers.l2(0.0005)))\n",
    "simple_cnn64_two.add(layers.Flatten())\n",
    "simple_cnn64_two.add(layers.Dense(64,\n",
    "                                  activation='relu'))\n",
    "simple_cnn64_two.add(layers.Dense(1,\n",
    "                                  activation='sigmoid'))\n",
    "simple_cnn64_two.compile(optimizer=opt,\n",
    "              loss='binary_crossentropy',\n",
    "              metrics=['accuracy'])\n",
    "history_cnn64_two = simple_cnn64_two.fit(train_images64,\n",
    "                                         train_y64,\n",
    "                                         epochs=10, \n",
    "                    validation_data=(val_images64,\n",
    "                                     val_y64))\n",
    "plt.plot(history_cnn64_two.history['accuracy'],\n",
    "         label='accuracy')\n",
    "plt.plot(history_cnn64_two.history['val_accuracy'],\n",
    "         label = 'val_accuracy')\n",
    "plt.xlabel('Epoch')\n",
    "plt.ylabel('Accuracy')\n",
    "plt.ylim([0.5, 1])\n",
    "plt.legend(loc='lower right')\n",
    "test_loss, test_acc = simple_cnn64_two.evaluate(test_images64,\n",
    "                                                test_y64,\n",
    "                                                verbose=1)"
   ]
  },
  {
   "cell_type": "code",
   "execution_count": 119,
   "metadata": {},
   "outputs": [
    {
     "name": "stdout",
     "output_type": "stream",
     "text": [
      "Epoch 1/10\n",
      "163/163 [==============================] - 6s 35ms/step - loss: 0.5391 - accuracy: 0.8528 - val_loss: 0.6289 - val_accuracy: 0.7500\n",
      "Epoch 2/10\n",
      "163/163 [==============================] - 6s 35ms/step - loss: 0.1805 - accuracy: 0.9287 - val_loss: 0.2808 - val_accuracy: 0.9375\n",
      "Epoch 3/10\n",
      "163/163 [==============================] - 6s 35ms/step - loss: 0.1724 - accuracy: 0.9327 - val_loss: 0.4541 - val_accuracy: 0.8125\n",
      "Epoch 4/10\n",
      "163/163 [==============================] - 6s 35ms/step - loss: 0.1553 - accuracy: 0.9371 - val_loss: 0.4395 - val_accuracy: 0.8125\n",
      "Epoch 5/10\n",
      "163/163 [==============================] - 6s 35ms/step - loss: 0.1355 - accuracy: 0.9480 - val_loss: 0.2000 - val_accuracy: 0.9375\n",
      "Epoch 6/10\n",
      "163/163 [==============================] - 6s 35ms/step - loss: 0.1353 - accuracy: 0.9479 - val_loss: 0.2777 - val_accuracy: 0.9375\n",
      "Epoch 7/10\n",
      "163/163 [==============================] - 6s 35ms/step - loss: 0.1407 - accuracy: 0.9467 - val_loss: 0.2992 - val_accuracy: 0.9375\n",
      "Epoch 8/10\n",
      "163/163 [==============================] - 6s 35ms/step - loss: 0.1391 - accuracy: 0.9440 - val_loss: 0.2102 - val_accuracy: 0.9375\n",
      "Epoch 9/10\n",
      "163/163 [==============================] - 6s 35ms/step - loss: 0.1098 - accuracy: 0.9607 - val_loss: 0.3821 - val_accuracy: 0.8125\n",
      "Epoch 10/10\n",
      "163/163 [==============================] - 6s 35ms/step - loss: 0.1352 - accuracy: 0.9457 - val_loss: 0.3612 - val_accuracy: 0.9375\n"
     ]
    }
   ],
   "source": [
    "np.random.seed(42)\n",
    "test = models.Sequential()\n",
    "test.add(layers.Dense(2048, activation='relu', input_shape=(4096,))) # 2 hidden layers\n",
    "test.add(layers.Dense(1, activation='sigmoid'))\n",
    "test.compile(optimizer='adam',\n",
    "              loss='binary_crossentropy',\n",
    "              metrics=['accuracy'])\n",
    "test_hist = test.fit(train_img64,\n",
    "                    train_y64,\n",
    "                    epochs=10,\n",
    "                    validation_data=(val_img64, val_y64),\n",
    "                    verbose=1)"
   ]
  },
  {
   "cell_type": "code",
   "execution_count": 120,
   "metadata": {},
   "outputs": [
    {
     "name": "stdout",
     "output_type": "stream",
     "text": [
      "20/20 [==============================] - 0s 6ms/step - loss: 0.9023 - accuracy: 0.7340\n"
     ]
    },
    {
     "data": {
      "text/plain": [
       "[0.9022988677024841, 0.7339743375778198]"
      ]
     },
     "execution_count": 120,
     "metadata": {},
     "output_type": "execute_result"
    }
   ],
   "source": [
    "test.evaluate(test_img64, test_y64)"
   ]
  },
  {
   "cell_type": "code",
   "execution_count": 121,
   "metadata": {},
   "outputs": [
    {
     "name": "stdout",
     "output_type": "stream",
     "text": [
      "Epoch 1/100\n",
      "163/163 [==============================] - 6s 35ms/step - loss: 0.3652 - accuracy: 0.8923 - val_loss: 0.3180 - val_accuracy: 0.8750\n",
      "Epoch 2/100\n",
      "163/163 [==============================] - 6s 35ms/step - loss: 0.2128 - accuracy: 0.9189 - val_loss: 0.3187 - val_accuracy: 0.9375\n",
      "Epoch 3/100\n",
      "163/163 [==============================] - 6s 35ms/step - loss: 0.1499 - accuracy: 0.9425 - val_loss: 0.2467 - val_accuracy: 0.9375\n",
      "Epoch 4/100\n",
      "163/163 [==============================] - 6s 35ms/step - loss: 0.1408 - accuracy: 0.9465 - val_loss: 0.3088 - val_accuracy: 0.9375\n",
      "Epoch 5/100\n",
      "163/163 [==============================] - 6s 35ms/step - loss: 0.1237 - accuracy: 0.9532 - val_loss: 0.2866 - val_accuracy: 0.9375\n",
      "Epoch 6/100\n",
      "163/163 [==============================] - 6s 35ms/step - loss: 0.1228 - accuracy: 0.9548 - val_loss: 0.2491 - val_accuracy: 0.9375\n",
      "Epoch 7/100\n",
      "163/163 [==============================] - 6s 35ms/step - loss: 0.1422 - accuracy: 0.9480 - val_loss: 0.5059 - val_accuracy: 0.7500\n",
      "Epoch 8/100\n",
      "163/163 [==============================] - 6s 35ms/step - loss: 0.1143 - accuracy: 0.9565 - val_loss: 0.4641 - val_accuracy: 0.8125\n",
      "Epoch 9/100\n",
      "163/163 [==============================] - 6s 35ms/step - loss: 0.1286 - accuracy: 0.9507 - val_loss: 0.2666 - val_accuracy: 0.9375\n",
      "Epoch 10/100\n",
      "163/163 [==============================] - 6s 35ms/step - loss: 0.1192 - accuracy: 0.9540 - val_loss: 1.2125 - val_accuracy: 0.5625\n",
      "Epoch 11/100\n",
      "163/163 [==============================] - 6s 35ms/step - loss: 0.1173 - accuracy: 0.9549 - val_loss: 0.2792 - val_accuracy: 0.8750\n",
      "Epoch 12/100\n",
      "163/163 [==============================] - 6s 35ms/step - loss: 0.1192 - accuracy: 0.9511 - val_loss: 0.2602 - val_accuracy: 0.9375\n",
      "Epoch 13/100\n",
      "163/163 [==============================] - 6s 35ms/step - loss: 0.1309 - accuracy: 0.9490 - val_loss: 0.9756 - val_accuracy: 0.6250\n",
      "Epoch 14/100\n",
      "163/163 [==============================] - 6s 35ms/step - loss: 0.1174 - accuracy: 0.9551 - val_loss: 0.4059 - val_accuracy: 0.8125\n",
      "Epoch 15/100\n",
      "163/163 [==============================] - 6s 35ms/step - loss: 0.0963 - accuracy: 0.9636 - val_loss: 0.2396 - val_accuracy: 0.9375\n",
      "Epoch 16/100\n",
      "163/163 [==============================] - 6s 35ms/step - loss: 0.0915 - accuracy: 0.9640 - val_loss: 0.3860 - val_accuracy: 0.8750\n",
      "Epoch 17/100\n",
      "163/163 [==============================] - 6s 35ms/step - loss: 0.1036 - accuracy: 0.9595 - val_loss: 0.3865 - val_accuracy: 0.8750\n",
      "Epoch 18/100\n",
      "163/163 [==============================] - 6s 35ms/step - loss: 0.1072 - accuracy: 0.9597 - val_loss: 0.2498 - val_accuracy: 0.9375\n",
      "Epoch 19/100\n",
      "163/163 [==============================] - 6s 35ms/step - loss: 0.1015 - accuracy: 0.9615 - val_loss: 0.2114 - val_accuracy: 0.9375\n",
      "Epoch 20/100\n",
      "163/163 [==============================] - 6s 35ms/step - loss: 0.0869 - accuracy: 0.9643 - val_loss: 0.1692 - val_accuracy: 0.9375\n",
      "Epoch 21/100\n",
      "163/163 [==============================] - 6s 35ms/step - loss: 0.0960 - accuracy: 0.9620 - val_loss: 1.0979 - val_accuracy: 0.6250\n",
      "Epoch 22/100\n",
      "163/163 [==============================] - 6s 35ms/step - loss: 0.0951 - accuracy: 0.9636 - val_loss: 0.1472 - val_accuracy: 0.9375\n",
      "Epoch 23/100\n",
      "163/163 [==============================] - 6s 35ms/step - loss: 0.0951 - accuracy: 0.9638 - val_loss: 0.2718 - val_accuracy: 0.9375\n",
      "Epoch 24/100\n",
      "163/163 [==============================] - 6s 35ms/step - loss: 0.0977 - accuracy: 0.9599 - val_loss: 0.1657 - val_accuracy: 0.9375\n",
      "Epoch 25/100\n",
      "163/163 [==============================] - 6s 35ms/step - loss: 0.0853 - accuracy: 0.9668 - val_loss: 0.3517 - val_accuracy: 0.8750\n",
      "Epoch 26/100\n",
      "163/163 [==============================] - 6s 35ms/step - loss: 0.0860 - accuracy: 0.9678 - val_loss: 0.2151 - val_accuracy: 0.9375\n",
      "Epoch 27/100\n",
      "163/163 [==============================] - 6s 35ms/step - loss: 0.0988 - accuracy: 0.9620 - val_loss: 0.1379 - val_accuracy: 0.9375\n",
      "Epoch 28/100\n",
      "163/163 [==============================] - 6s 35ms/step - loss: 0.0778 - accuracy: 0.9712 - val_loss: 0.7060 - val_accuracy: 0.6875\n",
      "Epoch 29/100\n",
      "163/163 [==============================] - 6s 35ms/step - loss: 0.0668 - accuracy: 0.9747 - val_loss: 0.2356 - val_accuracy: 0.8750\n",
      "Epoch 30/100\n",
      "163/163 [==============================] - 6s 35ms/step - loss: 0.0775 - accuracy: 0.9716 - val_loss: 0.6158 - val_accuracy: 0.7500\n",
      "Epoch 31/100\n",
      "163/163 [==============================] - 6s 35ms/step - loss: 0.0625 - accuracy: 0.9745 - val_loss: 0.3897 - val_accuracy: 0.8125\n",
      "Epoch 32/100\n",
      "163/163 [==============================] - 6s 35ms/step - loss: 0.0881 - accuracy: 0.9655 - val_loss: 0.1868 - val_accuracy: 0.8750\n",
      "Epoch 33/100\n",
      "163/163 [==============================] - 6s 35ms/step - loss: 0.0791 - accuracy: 0.9703 - val_loss: 0.2870 - val_accuracy: 0.8125\n",
      "Epoch 34/100\n",
      "163/163 [==============================] - 6s 35ms/step - loss: 0.0623 - accuracy: 0.9768 - val_loss: 0.2118 - val_accuracy: 0.8125\n",
      "Epoch 35/100\n",
      "163/163 [==============================] - 6s 35ms/step - loss: 0.0538 - accuracy: 0.9797 - val_loss: 0.9282 - val_accuracy: 0.7500\n",
      "Epoch 36/100\n",
      "163/163 [==============================] - 6s 34ms/step - loss: 0.0834 - accuracy: 0.9689 - val_loss: 1.0700 - val_accuracy: 0.7500\n",
      "Epoch 37/100\n",
      "163/163 [==============================] - 6s 35ms/step - loss: 0.0613 - accuracy: 0.9783 - val_loss: 0.4553 - val_accuracy: 0.8125\n",
      "Epoch 38/100\n",
      "163/163 [==============================] - 6s 35ms/step - loss: 0.0599 - accuracy: 0.9755 - val_loss: 1.1934 - val_accuracy: 0.6875\n",
      "Epoch 39/100\n",
      "163/163 [==============================] - 6s 35ms/step - loss: 0.0708 - accuracy: 0.9732 - val_loss: 0.3829 - val_accuracy: 0.8125\n",
      "Epoch 40/100\n",
      "163/163 [==============================] - 6s 35ms/step - loss: 0.0479 - accuracy: 0.9824 - val_loss: 0.2728 - val_accuracy: 0.8125\n",
      "Epoch 41/100\n",
      "163/163 [==============================] - 6s 34ms/step - loss: 0.0640 - accuracy: 0.9758 - val_loss: 1.2249 - val_accuracy: 0.5625\n",
      "Epoch 42/100\n",
      "163/163 [==============================] - 6s 35ms/step - loss: 0.0549 - accuracy: 0.9793 - val_loss: 0.3889 - val_accuracy: 0.8125\n",
      "Epoch 43/100\n",
      "163/163 [==============================] - 6s 35ms/step - loss: 0.0577 - accuracy: 0.9764 - val_loss: 0.2510 - val_accuracy: 0.8125\n",
      "Epoch 44/100\n",
      "163/163 [==============================] - 6s 35ms/step - loss: 0.0402 - accuracy: 0.9866 - val_loss: 0.2736 - val_accuracy: 0.8125\n",
      "Epoch 45/100\n",
      "163/163 [==============================] - 6s 34ms/step - loss: 0.0436 - accuracy: 0.9839 - val_loss: 0.1927 - val_accuracy: 0.8125\n",
      "Epoch 46/100\n",
      "163/163 [==============================] - 6s 35ms/step - loss: 0.0445 - accuracy: 0.9812 - val_loss: 0.0811 - val_accuracy: 1.0000\n",
      "Epoch 47/100\n",
      "163/163 [==============================] - 6s 34ms/step - loss: 0.0424 - accuracy: 0.9826 - val_loss: 0.3830 - val_accuracy: 0.8125\n",
      "Epoch 48/100\n",
      "163/163 [==============================] - 6s 34ms/step - loss: 0.0423 - accuracy: 0.9833 - val_loss: 0.1368 - val_accuracy: 0.9375\n",
      "Epoch 49/100\n",
      "163/163 [==============================] - 6s 35ms/step - loss: 0.0500 - accuracy: 0.9795 - val_loss: 0.3214 - val_accuracy: 0.8125\n",
      "Epoch 50/100\n",
      "163/163 [==============================] - 6s 34ms/step - loss: 0.0467 - accuracy: 0.9837 - val_loss: 0.1371 - val_accuracy: 0.9375\n",
      "Epoch 51/100\n",
      "163/163 [==============================] - 6s 35ms/step - loss: 0.0347 - accuracy: 0.9891 - val_loss: 0.8299 - val_accuracy: 0.7500\n",
      "Epoch 52/100\n",
      "163/163 [==============================] - 6s 35ms/step - loss: 0.0449 - accuracy: 0.9816 - val_loss: 0.0383 - val_accuracy: 1.0000\n",
      "Epoch 53/100\n",
      "163/163 [==============================] - 6s 35ms/step - loss: 0.0363 - accuracy: 0.9868 - val_loss: 0.3089 - val_accuracy: 0.8750\n",
      "Epoch 54/100\n",
      "163/163 [==============================] - 6s 35ms/step - loss: 0.0337 - accuracy: 0.9870 - val_loss: 0.0563 - val_accuracy: 1.0000\n",
      "Epoch 55/100\n",
      "163/163 [==============================] - 6s 35ms/step - loss: 0.0275 - accuracy: 0.9904 - val_loss: 0.3566 - val_accuracy: 0.8125\n",
      "Epoch 56/100\n",
      "163/163 [==============================] - 6s 35ms/step - loss: 0.0318 - accuracy: 0.9872 - val_loss: 0.5155 - val_accuracy: 0.7500\n",
      "Epoch 57/100\n",
      "163/163 [==============================] - 6s 35ms/step - loss: 0.0520 - accuracy: 0.9787 - val_loss: 0.6094 - val_accuracy: 0.7500\n",
      "Epoch 58/100\n",
      "163/163 [==============================] - 6s 34ms/step - loss: 0.0303 - accuracy: 0.9879 - val_loss: 0.1782 - val_accuracy: 0.9375\n",
      "Epoch 59/100\n",
      "163/163 [==============================] - 6s 34ms/step - loss: 0.0403 - accuracy: 0.9835 - val_loss: 0.0693 - val_accuracy: 0.9375\n",
      "Epoch 60/100\n",
      "163/163 [==============================] - 6s 35ms/step - loss: 0.0337 - accuracy: 0.9862 - val_loss: 0.5801 - val_accuracy: 0.8125\n",
      "Epoch 61/100\n",
      "163/163 [==============================] - 6s 35ms/step - loss: 0.0304 - accuracy: 0.9856 - val_loss: 0.2347 - val_accuracy: 0.8750\n",
      "Epoch 62/100\n",
      "163/163 [==============================] - 6s 37ms/step - loss: 0.0376 - accuracy: 0.9860 - val_loss: 0.1079 - val_accuracy: 0.9375\n",
      "Epoch 63/100\n",
      "163/163 [==============================] - 6s 35ms/step - loss: 0.0329 - accuracy: 0.9864 - val_loss: 0.2595 - val_accuracy: 0.8125\n",
      "Epoch 64/100\n",
      "163/163 [==============================] - 6s 35ms/step - loss: 0.0275 - accuracy: 0.9889 - val_loss: 0.3591 - val_accuracy: 0.9375\n",
      "Epoch 65/100\n",
      "163/163 [==============================] - 6s 34ms/step - loss: 0.0220 - accuracy: 0.9902 - val_loss: 0.1508 - val_accuracy: 0.8750\n",
      "Epoch 66/100\n",
      "163/163 [==============================] - 6s 34ms/step - loss: 0.0310 - accuracy: 0.9895 - val_loss: 1.0989 - val_accuracy: 0.7500\n",
      "Epoch 67/100\n",
      "163/163 [==============================] - 6s 35ms/step - loss: 0.0290 - accuracy: 0.9881 - val_loss: 0.4924 - val_accuracy: 0.7500\n",
      "Epoch 68/100\n",
      "163/163 [==============================] - 6s 34ms/step - loss: 0.0462 - accuracy: 0.9827 - val_loss: 1.0364 - val_accuracy: 0.7500\n",
      "Epoch 69/100\n",
      "163/163 [==============================] - 6s 34ms/step - loss: 0.0165 - accuracy: 0.9944 - val_loss: 0.1576 - val_accuracy: 0.9375\n",
      "Epoch 70/100\n",
      "163/163 [==============================] - 6s 35ms/step - loss: 0.0127 - accuracy: 0.9962 - val_loss: 0.3329 - val_accuracy: 0.8125\n",
      "Epoch 71/100\n",
      "163/163 [==============================] - 6s 34ms/step - loss: 0.0116 - accuracy: 0.9967 - val_loss: 0.4208 - val_accuracy: 0.8125\n",
      "Epoch 72/100\n",
      "163/163 [==============================] - 6s 35ms/step - loss: 0.0311 - accuracy: 0.9881 - val_loss: 0.2562 - val_accuracy: 0.9375\n",
      "Epoch 73/100\n",
      "163/163 [==============================] - 6s 34ms/step - loss: 0.0285 - accuracy: 0.9902 - val_loss: 0.7130 - val_accuracy: 0.7500\n",
      "Epoch 74/100\n",
      "163/163 [==============================] - 6s 34ms/step - loss: 0.0157 - accuracy: 0.9954 - val_loss: 0.9320 - val_accuracy: 0.7500\n",
      "Epoch 75/100\n",
      "163/163 [==============================] - 6s 34ms/step - loss: 0.0423 - accuracy: 0.9864 - val_loss: 0.3637 - val_accuracy: 0.9375\n",
      "Epoch 76/100\n",
      "163/163 [==============================] - 6s 34ms/step - loss: 0.0137 - accuracy: 0.9962 - val_loss: 0.5952 - val_accuracy: 0.8750\n",
      "Epoch 77/100\n",
      "163/163 [==============================] - 6s 34ms/step - loss: 0.0168 - accuracy: 0.9931 - val_loss: 0.4933 - val_accuracy: 0.8125\n",
      "Epoch 78/100\n",
      "163/163 [==============================] - 6s 35ms/step - loss: 0.0136 - accuracy: 0.9960 - val_loss: 0.1335 - val_accuracy: 0.9375\n",
      "Epoch 79/100\n",
      "163/163 [==============================] - 6s 34ms/step - loss: 0.0214 - accuracy: 0.9931 - val_loss: 0.1785 - val_accuracy: 0.9375\n",
      "Epoch 80/100\n",
      "163/163 [==============================] - 6s 34ms/step - loss: 0.0207 - accuracy: 0.9921 - val_loss: 0.1104 - val_accuracy: 0.9375\n",
      "Epoch 81/100\n",
      "163/163 [==============================] - 6s 34ms/step - loss: 0.0125 - accuracy: 0.9956 - val_loss: 0.2986 - val_accuracy: 0.8750\n",
      "Epoch 82/100\n",
      "163/163 [==============================] - 6s 34ms/step - loss: 0.0075 - accuracy: 0.9981 - val_loss: 0.0310 - val_accuracy: 1.0000\n",
      "Epoch 83/100\n",
      "163/163 [==============================] - 6s 34ms/step - loss: 0.0563 - accuracy: 0.9783 - val_loss: 0.2587 - val_accuracy: 0.8750\n",
      "Epoch 84/100\n",
      "163/163 [==============================] - 6s 35ms/step - loss: 0.0268 - accuracy: 0.9895 - val_loss: 0.7285 - val_accuracy: 0.7500\n",
      "Epoch 85/100\n",
      "163/163 [==============================] - 6s 34ms/step - loss: 0.0095 - accuracy: 0.9965 - val_loss: 0.5860 - val_accuracy: 0.8750\n",
      "Epoch 86/100\n",
      "163/163 [==============================] - 6s 34ms/step - loss: 0.0202 - accuracy: 0.9925 - val_loss: 0.2231 - val_accuracy: 0.9375\n",
      "Epoch 87/100\n",
      "163/163 [==============================] - 6s 35ms/step - loss: 0.0114 - accuracy: 0.9965 - val_loss: 0.5235 - val_accuracy: 0.8125\n",
      "Epoch 88/100\n",
      "163/163 [==============================] - 6s 34ms/step - loss: 0.0335 - accuracy: 0.9870 - val_loss: 0.9870 - val_accuracy: 0.7500\n",
      "Epoch 89/100\n",
      "163/163 [==============================] - 6s 34ms/step - loss: 0.0184 - accuracy: 0.9937 - val_loss: 0.4433 - val_accuracy: 0.8750\n",
      "Epoch 90/100\n",
      "163/163 [==============================] - 6s 35ms/step - loss: 0.0089 - accuracy: 0.9983 - val_loss: 0.3519 - val_accuracy: 0.9375\n",
      "Epoch 91/100\n",
      "163/163 [==============================] - 6s 34ms/step - loss: 0.0053 - accuracy: 0.9987 - val_loss: 0.3252 - val_accuracy: 0.8750\n",
      "Epoch 92/100\n",
      "163/163 [==============================] - 6s 34ms/step - loss: 0.0191 - accuracy: 0.9937 - val_loss: 1.0928 - val_accuracy: 0.7500\n",
      "Epoch 93/100\n",
      "163/163 [==============================] - 6s 35ms/step - loss: 0.0067 - accuracy: 0.9983 - val_loss: 0.3834 - val_accuracy: 0.9375\n",
      "Epoch 94/100\n",
      "163/163 [==============================] - 6s 34ms/step - loss: 0.0064 - accuracy: 0.9983 - val_loss: 0.4915 - val_accuracy: 0.8750\n",
      "Epoch 95/100\n",
      "163/163 [==============================] - 6s 35ms/step - loss: 0.0052 - accuracy: 0.9981 - val_loss: 0.9238 - val_accuracy: 0.7500\n",
      "Epoch 96/100\n",
      "163/163 [==============================] - 6s 35ms/step - loss: 0.0346 - accuracy: 0.9885 - val_loss: 0.2176 - val_accuracy: 0.8750\n",
      "Epoch 97/100\n",
      "163/163 [==============================] - 6s 34ms/step - loss: 0.1025 - accuracy: 0.9686 - val_loss: 0.3101 - val_accuracy: 0.8750\n",
      "Epoch 98/100\n",
      "163/163 [==============================] - 6s 34ms/step - loss: 0.0259 - accuracy: 0.9925 - val_loss: 1.9388 - val_accuracy: 0.7500\n",
      "Epoch 99/100\n",
      "163/163 [==============================] - 6s 34ms/step - loss: 0.0190 - accuracy: 0.9937 - val_loss: 0.2621 - val_accuracy: 0.8750\n",
      "Epoch 100/100\n",
      "163/163 [==============================] - 6s 34ms/step - loss: 0.0090 - accuracy: 0.9985 - val_loss: 0.4298 - val_accuracy: 0.8750\n"
     ]
    }
   ],
   "source": [
    "np.random.seed(42)\n",
    "test2 = models.Sequential()\n",
    "test2.add(layers.Dense(2048, activation='relu', input_shape=(4096,))) # 2 hidden layers\n",
    "test2.add(layers.Dense(1, activation='sigmoid'))\n",
    "test2.compile(optimizer='adam',\n",
    "              loss='binary_crossentropy',\n",
    "              metrics=['accuracy'])\n",
    "test2_hist = test2.fit(train_img64,\n",
    "                    train_y64,\n",
    "                    epochs=100,\n",
    "                    validation_data=(val_img64, val_y64),\n",
    "                    verbose=1)"
   ]
  },
  {
   "cell_type": "code",
   "execution_count": 122,
   "metadata": {},
   "outputs": [
    {
     "name": "stdout",
     "output_type": "stream",
     "text": [
      "20/20 [==============================] - 0s 6ms/step - loss: 2.2050 - accuracy: 0.7372\n"
     ]
    },
    {
     "data": {
      "text/plain": [
       "[2.2049717903137207, 0.7371794581413269]"
      ]
     },
     "execution_count": 122,
     "metadata": {},
     "output_type": "execute_result"
    }
   ],
   "source": [
    "test2.evaluate(test_img64, test_y64)"
   ]
  },
  {
   "cell_type": "markdown",
   "metadata": {},
   "source": [
    "The following cell is the first step in the execution of the modeling process with a proper train/test/val split. Here, we create a densely connected neural network with a single hidden layer half the size of the input layer and default hyperparameters all around, with the exception of the number of epochs the model trains on."
   ]
  },
  {
   "cell_type": "code",
   "execution_count": 123,
   "metadata": {},
   "outputs": [
    {
     "name": "stdout",
     "output_type": "stream",
     "text": [
      "Epoch 1/10\n",
      "138/138 [==============================] - 5s 38ms/step - loss: 0.7369 - accuracy: 0.8242 - val_loss: 0.3085 - val_accuracy: 0.8761\n",
      "Epoch 2/10\n",
      "138/138 [==============================] - 5s 37ms/step - loss: 0.2223 - accuracy: 0.9089 - val_loss: 0.2664 - val_accuracy: 0.8834\n",
      "Epoch 3/10\n",
      "138/138 [==============================] - 5s 36ms/step - loss: 0.2088 - accuracy: 0.9183 - val_loss: 0.2005 - val_accuracy: 0.9171\n",
      "Epoch 4/10\n",
      "138/138 [==============================] - 5s 37ms/step - loss: 0.1856 - accuracy: 0.9249 - val_loss: 0.1554 - val_accuracy: 0.9381\n",
      "Epoch 5/10\n",
      "138/138 [==============================] - 5s 36ms/step - loss: 0.1946 - accuracy: 0.9267 - val_loss: 0.1563 - val_accuracy: 0.9399\n",
      "Epoch 6/10\n",
      "138/138 [==============================] - 5s 37ms/step - loss: 0.2278 - accuracy: 0.9105 - val_loss: 0.4217 - val_accuracy: 0.8224\n",
      "Epoch 7/10\n",
      "138/138 [==============================] - 5s 37ms/step - loss: 0.1849 - accuracy: 0.9278 - val_loss: 0.1500 - val_accuracy: 0.9426\n",
      "Epoch 8/10\n",
      "138/138 [==============================] - 5s 37ms/step - loss: 0.1637 - accuracy: 0.9369 - val_loss: 0.1654 - val_accuracy: 0.9344\n",
      "Epoch 9/10\n",
      "138/138 [==============================] - 5s 37ms/step - loss: 0.1768 - accuracy: 0.9299 - val_loss: 0.1446 - val_accuracy: 0.9435\n",
      "Epoch 10/10\n",
      "138/138 [==============================] - 5s 37ms/step - loss: 0.1783 - accuracy: 0.9296 - val_loss: 0.1751 - val_accuracy: 0.9281\n",
      "12/12 [==============================] - 0s 8ms/step - loss: 0.1967 - accuracy: 0.9208\n"
     ]
    },
    {
     "data": {
      "text/plain": [
       "[0.19669316709041595, 0.9207650423049927]"
      ]
     },
     "execution_count": 123,
     "metadata": {},
     "output_type": "execute_result"
    }
   ],
   "source": [
    "np.random.seed(42)\n",
    "new_split_model = models.Sequential()\n",
    "new_split_model.add(layers.Dense(2048, activation='relu', input_shape=(4096,))) # 2 hidden layers\n",
    "new_split_model.add(layers.Dense(1, activation='sigmoid'))\n",
    "new_split_model.compile(optimizer='adam',\n",
    "              loss='binary_crossentropy',\n",
    "              metrics=['accuracy'])\n",
    "new_split_model_hist = new_split_model.fit(new_train_img64,\n",
    "                    new_train_y64,\n",
    "                    epochs=10,\n",
    "                    validation_data=(new_val_img64, new_val_y64),\n",
    "                    verbose=1)\n",
    "new_split_model.evaluate(new_test_img64, new_test_y64)"
   ]
  },
  {
   "cell_type": "markdown",
   "metadata": {},
   "source": [
    "After this very simple model with a proper split, it is plain to see that a proper split resulted in significantly increased model performance."
   ]
  },
  {
   "cell_type": "markdown",
   "metadata": {},
   "source": [
    "The following few cells reshape the single-dimensional data into two-dimensional data for use in a convolutional neural network below."
   ]
  },
  {
   "cell_type": "code",
   "execution_count": 124,
   "metadata": {},
   "outputs": [
    {
     "data": {
      "text/plain": [
       "(5216, 4096)"
      ]
     },
     "execution_count": 124,
     "metadata": {},
     "output_type": "execute_result"
    }
   ],
   "source": [
    "train_img64.shape"
   ]
  },
  {
   "cell_type": "code",
   "execution_count": 125,
   "metadata": {},
   "outputs": [
    {
     "data": {
      "text/plain": [
       "(5216, 1)"
      ]
     },
     "execution_count": 125,
     "metadata": {},
     "output_type": "execute_result"
    }
   ],
   "source": [
    "train_y64.shape"
   ]
  },
  {
   "cell_type": "code",
   "execution_count": 126,
   "metadata": {},
   "outputs": [
    {
     "data": {
      "text/plain": [
       "(4392, 4096)"
      ]
     },
     "execution_count": 126,
     "metadata": {},
     "output_type": "execute_result"
    }
   ],
   "source": [
    "new_train_img64.shape"
   ]
  },
  {
   "cell_type": "code",
   "execution_count": 127,
   "metadata": {},
   "outputs": [
    {
     "data": {
      "text/plain": [
       "(4392, 1)"
      ]
     },
     "execution_count": 127,
     "metadata": {},
     "output_type": "execute_result"
    }
   ],
   "source": [
    "new_train_y64.shape"
   ]
  },
  {
   "cell_type": "code",
   "execution_count": 128,
   "metadata": {},
   "outputs": [
    {
     "data": {
      "text/plain": [
       "(5216, 64, 64, 1)"
      ]
     },
     "execution_count": 128,
     "metadata": {},
     "output_type": "execute_result"
    }
   ],
   "source": [
    "train_images64.shape"
   ]
  },
  {
   "cell_type": "code",
   "execution_count": 129,
   "metadata": {},
   "outputs": [],
   "source": [
    "new_train_images64 = np.reshape(new_train_img64, (4392, 64, 64, 1))"
   ]
  },
  {
   "cell_type": "code",
   "execution_count": 130,
   "metadata": {},
   "outputs": [
    {
     "data": {
      "image/png": "[encoded data removed]",
      "text/plain": [
       "<PIL.Image.Image image mode=L size=64x64 at 0x1DA35A63BB0>"
      ]
     },
     "execution_count": 130,
     "metadata": {},
     "output_type": "execute_result"
    }
   ],
   "source": [
    "array_to_img(new_train_images64[0].reshape(64, 64, 1))"
   ]
  },
  {
   "cell_type": "code",
   "execution_count": 131,
   "metadata": {},
   "outputs": [],
   "source": [
    "new_val_images64 = np.reshape(new_val_img64, (1098, 64, 64, 1))"
   ]
  },
  {
   "cell_type": "code",
   "execution_count": 132,
   "metadata": {},
   "outputs": [],
   "source": [
    "new_test_images64 = np.reshape(new_test_img64, (366, 64, 64, 1))"
   ]
  },
  {
   "cell_type": "markdown",
   "metadata": {},
   "source": [
    "This network uses the strided network class created above and produces results even better than the simple densely connected network we just made."
   ]
  },
  {
   "cell_type": "code",
   "execution_count": 133,
   "metadata": {},
   "outputs": [
    {
     "name": "stdout",
     "output_type": "stream",
     "text": [
      "Epoch 1/128\n",
      "275/275 [==============================] - 13s 46ms/step - loss: 1.1078 - accuracy: 0.7245 - val_loss: 0.8764 - val_accuracy: 0.7723\n",
      "Epoch 2/128\n",
      "275/275 [==============================] - 12s 44ms/step - loss: 0.8842 - accuracy: 0.8327 - val_loss: 0.7066 - val_accuracy: 0.8953\n",
      "Epoch 3/128\n",
      "275/275 [==============================] - 12s 44ms/step - loss: 0.8307 - accuracy: 0.8618 - val_loss: 0.6268 - val_accuracy: 0.9344\n",
      "Epoch 4/128\n",
      "275/275 [==============================] - 12s 44ms/step - loss: 0.7869 - accuracy: 0.8796 - val_loss: 0.6751 - val_accuracy: 0.9062\n",
      "Epoch 5/128\n",
      "275/275 [==============================] - 12s 44ms/step - loss: 0.7324 - accuracy: 0.8948 - val_loss: 0.6059 - val_accuracy: 0.9472\n",
      "Epoch 6/128\n",
      "275/275 [==============================] - 12s 44ms/step - loss: 0.7119 - accuracy: 0.9053 - val_loss: 0.6036 - val_accuracy: 0.9508\n",
      "Epoch 7/128\n",
      "275/275 [==============================] - 12s 44ms/step - loss: 0.6835 - accuracy: 0.9178 - val_loss: 0.6914 - val_accuracy: 0.9107\n",
      "Epoch 8/128\n",
      "275/275 [==============================] - 12s 44ms/step - loss: 0.6860 - accuracy: 0.9114 - val_loss: 0.6399 - val_accuracy: 0.9235\n",
      "Epoch 9/128\n",
      "275/275 [==============================] - 12s 44ms/step - loss: 0.6752 - accuracy: 0.9221 - val_loss: 0.5979 - val_accuracy: 0.9508\n",
      "Epoch 10/128\n",
      "275/275 [==============================] - 12s 44ms/step - loss: 0.6567 - accuracy: 0.9237 - val_loss: 0.5909 - val_accuracy: 0.9472\n",
      "Epoch 11/128\n",
      "275/275 [==============================] - 12s 44ms/step - loss: 0.6539 - accuracy: 0.9253 - val_loss: 0.5966 - val_accuracy: 0.9435\n",
      "Epoch 12/128\n",
      "275/275 [==============================] - 12s 44ms/step - loss: 0.6460 - accuracy: 0.9315 - val_loss: 0.5802 - val_accuracy: 0.9572\n",
      "Epoch 13/128\n",
      "275/275 [==============================] - 12s 44ms/step - loss: 0.6304 - accuracy: 0.9344 - val_loss: 0.5852 - val_accuracy: 0.9526\n",
      "Epoch 14/128\n",
      "275/275 [==============================] - 12s 44ms/step - loss: 0.6181 - accuracy: 0.9378 - val_loss: 0.5912 - val_accuracy: 0.9499\n",
      "Epoch 15/128\n",
      "275/275 [==============================] - 12s 44ms/step - loss: 0.6270 - accuracy: 0.9358 - val_loss: 0.6365 - val_accuracy: 0.9317\n",
      "Epoch 16/128\n",
      "275/275 [==============================] - 12s 44ms/step - loss: 0.6202 - accuracy: 0.9365 - val_loss: 0.5820 - val_accuracy: 0.9536\n",
      "Epoch 17/128\n",
      "275/275 [==============================] - 12s 44ms/step - loss: 0.6111 - accuracy: 0.9362 - val_loss: 0.5726 - val_accuracy: 0.9572\n",
      "Epoch 18/128\n",
      "275/275 [==============================] - 12s 44ms/step - loss: 0.6081 - accuracy: 0.9353 - val_loss: 0.6349 - val_accuracy: 0.9326\n",
      "Epoch 19/128\n",
      "275/275 [==============================] - 12s 44ms/step - loss: 0.5982 - accuracy: 0.9413 - val_loss: 0.5858 - val_accuracy: 0.9545\n",
      "Epoch 20/128\n",
      "275/275 [==============================] - 12s 44ms/step - loss: 0.5938 - accuracy: 0.9438 - val_loss: 0.5747 - val_accuracy: 0.9517\n",
      "Epoch 21/128\n",
      "275/275 [==============================] - 12s 45ms/step - loss: 0.5788 - accuracy: 0.9529 - val_loss: 0.5807 - val_accuracy: 0.9526\n",
      "Epoch 22/128\n",
      "275/275 [==============================] - 12s 44ms/step - loss: 0.5755 - accuracy: 0.9481 - val_loss: 0.5787 - val_accuracy: 0.9536\n",
      "Epoch 23/128\n",
      "275/275 [==============================] - 12s 44ms/step - loss: 0.5715 - accuracy: 0.9481 - val_loss: 0.5618 - val_accuracy: 0.9563\n",
      "Epoch 24/128\n",
      "275/275 [==============================] - 12s 44ms/step - loss: 0.5637 - accuracy: 0.9533 - val_loss: 0.5919 - val_accuracy: 0.9517\n",
      "Epoch 25/128\n",
      "275/275 [==============================] - 12s 44ms/step - loss: 0.5574 - accuracy: 0.9536 - val_loss: 0.5533 - val_accuracy: 0.9608\n",
      "Epoch 26/128\n",
      "275/275 [==============================] - 12s 44ms/step - loss: 0.5613 - accuracy: 0.9551 - val_loss: 0.5628 - val_accuracy: 0.9526\n",
      "Epoch 27/128\n",
      "275/275 [==============================] - 12s 44ms/step - loss: 0.5445 - accuracy: 0.9570 - val_loss: 0.5623 - val_accuracy: 0.9554\n",
      "Epoch 28/128\n",
      "275/275 [==============================] - 12s 44ms/step - loss: 0.5479 - accuracy: 0.9538 - val_loss: 0.5627 - val_accuracy: 0.9545\n",
      "Epoch 29/128\n",
      "275/275 [==============================] - 12s 44ms/step - loss: 0.5329 - accuracy: 0.9631 - val_loss: 0.5433 - val_accuracy: 0.9617\n",
      "Epoch 30/128\n",
      "275/275 [==============================] - 12s 44ms/step - loss: 0.5285 - accuracy: 0.9611 - val_loss: 0.5564 - val_accuracy: 0.9554\n",
      "Epoch 31/128\n",
      "275/275 [==============================] - 12s 44ms/step - loss: 0.5286 - accuracy: 0.9631 - val_loss: 0.5825 - val_accuracy: 0.9444\n",
      "Epoch 32/128\n",
      "275/275 [==============================] - 12s 44ms/step - loss: 0.5295 - accuracy: 0.9581 - val_loss: 0.5345 - val_accuracy: 0.9627\n",
      "Epoch 33/128\n",
      "275/275 [==============================] - 12s 44ms/step - loss: 0.5085 - accuracy: 0.9686 - val_loss: 0.5361 - val_accuracy: 0.9581\n",
      "Epoch 34/128\n",
      "275/275 [==============================] - 12s 44ms/step - loss: 0.5043 - accuracy: 0.9697 - val_loss: 0.5387 - val_accuracy: 0.9590\n",
      "Epoch 35/128\n",
      "275/275 [==============================] - 12s 44ms/step - loss: 0.5096 - accuracy: 0.9679 - val_loss: 0.5513 - val_accuracy: 0.9563\n",
      "Epoch 36/128\n",
      "275/275 [==============================] - 12s 44ms/step - loss: 0.4933 - accuracy: 0.9713 - val_loss: 0.5335 - val_accuracy: 0.9590\n",
      "Epoch 37/128\n",
      "275/275 [==============================] - 12s 44ms/step - loss: 0.4992 - accuracy: 0.9686 - val_loss: 0.5600 - val_accuracy: 0.9508\n",
      "Epoch 38/128\n",
      "275/275 [==============================] - 12s 44ms/step - loss: 0.4964 - accuracy: 0.9661 - val_loss: 0.5372 - val_accuracy: 0.9608\n",
      "Epoch 39/128\n",
      "275/275 [==============================] - 12s 44ms/step - loss: 0.4898 - accuracy: 0.9720 - val_loss: 0.5281 - val_accuracy: 0.9608\n",
      "Epoch 40/128\n",
      "275/275 [==============================] - 12s 44ms/step - loss: 0.4772 - accuracy: 0.9763 - val_loss: 0.5496 - val_accuracy: 0.9526\n",
      "Epoch 41/128\n",
      "275/275 [==============================] - 12s 44ms/step - loss: 0.4868 - accuracy: 0.9738 - val_loss: 0.5310 - val_accuracy: 0.9563\n",
      "Epoch 42/128\n",
      "275/275 [==============================] - 12s 44ms/step - loss: 0.4734 - accuracy: 0.9743 - val_loss: 0.5299 - val_accuracy: 0.9599\n",
      "Epoch 43/128\n",
      "275/275 [==============================] - 12s 44ms/step - loss: 0.4714 - accuracy: 0.9745 - val_loss: 0.5216 - val_accuracy: 0.9599\n",
      "Epoch 44/128\n",
      "275/275 [==============================] - 12s 44ms/step - loss: 0.4666 - accuracy: 0.9775 - val_loss: 0.5435 - val_accuracy: 0.9581\n",
      "Epoch 45/128\n",
      "275/275 [==============================] - 12s 44ms/step - loss: 0.4656 - accuracy: 0.9768 - val_loss: 0.5287 - val_accuracy: 0.9599\n",
      "Epoch 46/128\n",
      "275/275 [==============================] - 12s 44ms/step - loss: 0.4607 - accuracy: 0.9761 - val_loss: 0.5474 - val_accuracy: 0.9545\n",
      "Epoch 47/128\n",
      "275/275 [==============================] - 12s 45ms/step - loss: 0.4584 - accuracy: 0.9772 - val_loss: 0.5180 - val_accuracy: 0.9627\n",
      "Epoch 48/128\n",
      "275/275 [==============================] - 13s 48ms/step - loss: 0.4496 - accuracy: 0.9788 - val_loss: 0.5210 - val_accuracy: 0.9590\n",
      "Epoch 49/128\n",
      "275/275 [==============================] - 12s 44ms/step - loss: 0.4596 - accuracy: 0.9745 - val_loss: 0.5180 - val_accuracy: 0.9572\n",
      "Epoch 50/128\n",
      "275/275 [==============================] - 12s 45ms/step - loss: 0.4414 - accuracy: 0.9816 - val_loss: 0.5205 - val_accuracy: 0.9599\n",
      "Epoch 51/128\n",
      "275/275 [==============================] - 12s 45ms/step - loss: 0.4417 - accuracy: 0.9788 - val_loss: 0.5202 - val_accuracy: 0.9572\n",
      "Epoch 52/128\n",
      "275/275 [==============================] - 13s 47ms/step - loss: 0.4426 - accuracy: 0.9797 - val_loss: 0.5244 - val_accuracy: 0.9554\n",
      "Epoch 53/128\n",
      "275/275 [==============================] - 12s 45ms/step - loss: 0.4271 - accuracy: 0.9850 - val_loss: 0.5037 - val_accuracy: 0.9608\n",
      "Epoch 54/128\n",
      "275/275 [==============================] - 12s 45ms/step - loss: 0.4385 - accuracy: 0.9779 - val_loss: 0.4979 - val_accuracy: 0.9672\n",
      "Epoch 55/128\n",
      "275/275 [==============================] - 12s 45ms/step - loss: 0.4221 - accuracy: 0.9857 - val_loss: 0.5125 - val_accuracy: 0.9599\n",
      "Epoch 56/128\n",
      "275/275 [==============================] - 12s 45ms/step - loss: 0.4329 - accuracy: 0.9802 - val_loss: 0.5238 - val_accuracy: 0.9581\n",
      "Epoch 57/128\n",
      "275/275 [==============================] - 12s 45ms/step - loss: 0.4106 - accuracy: 0.9886 - val_loss: 0.5171 - val_accuracy: 0.9572\n",
      "Epoch 58/128\n",
      "275/275 [==============================] - 12s 44ms/step - loss: 0.4181 - accuracy: 0.9845 - val_loss: 0.4986 - val_accuracy: 0.9608\n",
      "Epoch 59/128\n",
      "275/275 [==============================] - 12s 44ms/step - loss: 0.4139 - accuracy: 0.9863 - val_loss: 0.5184 - val_accuracy: 0.9581\n",
      "Epoch 60/128\n",
      "275/275 [==============================] - 12s 44ms/step - loss: 0.4170 - accuracy: 0.9854 - val_loss: 0.5025 - val_accuracy: 0.9627\n",
      "Epoch 61/128\n",
      "275/275 [==============================] - 12s 44ms/step - loss: 0.4142 - accuracy: 0.9847 - val_loss: 0.5129 - val_accuracy: 0.9554\n",
      "Epoch 62/128\n",
      "275/275 [==============================] - 12s 44ms/step - loss: 0.4169 - accuracy: 0.9811 - val_loss: 0.4994 - val_accuracy: 0.9617\n",
      "Epoch 63/128\n",
      "275/275 [==============================] - 12s 44ms/step - loss: 0.3998 - accuracy: 0.9866 - val_loss: 0.5067 - val_accuracy: 0.9554\n",
      "Epoch 64/128\n",
      "275/275 [==============================] - 12s 45ms/step - loss: 0.3968 - accuracy: 0.9870 - val_loss: 0.5129 - val_accuracy: 0.9636\n",
      "Epoch 65/128\n",
      "275/275 [==============================] - 12s 44ms/step - loss: 0.3960 - accuracy: 0.9868 - val_loss: 0.5062 - val_accuracy: 0.9581\n",
      "Epoch 66/128\n",
      "275/275 [==============================] - 12s 44ms/step - loss: 0.3947 - accuracy: 0.9861 - val_loss: 0.5018 - val_accuracy: 0.9590\n",
      "Epoch 67/128\n",
      "275/275 [==============================] - 12s 44ms/step - loss: 0.3866 - accuracy: 0.9900 - val_loss: 0.4977 - val_accuracy: 0.9627\n",
      "Epoch 68/128\n",
      "275/275 [==============================] - 12s 44ms/step - loss: 0.3906 - accuracy: 0.9866 - val_loss: 0.4838 - val_accuracy: 0.9627\n",
      "Epoch 69/128\n",
      "275/275 [==============================] - 12s 44ms/step - loss: 0.3884 - accuracy: 0.9857 - val_loss: 0.4928 - val_accuracy: 0.9599\n",
      "Epoch 70/128\n",
      "275/275 [==============================] - 12s 44ms/step - loss: 0.3786 - accuracy: 0.9886 - val_loss: 0.5094 - val_accuracy: 0.9581\n",
      "Epoch 71/128\n",
      "275/275 [==============================] - 12s 44ms/step - loss: 0.3791 - accuracy: 0.9902 - val_loss: 0.4906 - val_accuracy: 0.9617\n",
      "Epoch 72/128\n",
      "275/275 [==============================] - 12s 44ms/step - loss: 0.3749 - accuracy: 0.9904 - val_loss: 0.5063 - val_accuracy: 0.9554\n",
      "Epoch 73/128\n",
      "275/275 [==============================] - 12s 44ms/step - loss: 0.3833 - accuracy: 0.9866 - val_loss: 0.4998 - val_accuracy: 0.9536\n",
      "Epoch 74/128\n",
      "275/275 [==============================] - 12s 44ms/step - loss: 0.3755 - accuracy: 0.9877 - val_loss: 0.5289 - val_accuracy: 0.9545\n",
      "Epoch 75/128\n",
      "275/275 [==============================] - 12s 44ms/step - loss: 0.3693 - accuracy: 0.9893 - val_loss: 0.4903 - val_accuracy: 0.9590\n",
      "Epoch 76/128\n",
      "275/275 [==============================] - 12s 44ms/step - loss: 0.3602 - accuracy: 0.9918 - val_loss: 0.5065 - val_accuracy: 0.9581\n",
      "Epoch 77/128\n",
      "275/275 [==============================] - 12s 44ms/step - loss: 0.3628 - accuracy: 0.9900 - val_loss: 0.4900 - val_accuracy: 0.9599\n",
      "Epoch 78/128\n",
      "275/275 [==============================] - 12s 44ms/step - loss: 0.3639 - accuracy: 0.9900 - val_loss: 0.5096 - val_accuracy: 0.9545\n",
      "Epoch 79/128\n",
      "275/275 [==============================] - 12s 44ms/step - loss: 0.3664 - accuracy: 0.9875 - val_loss: 0.4701 - val_accuracy: 0.9636\n",
      "Epoch 80/128\n",
      "275/275 [==============================] - 12s 44ms/step - loss: 0.3627 - accuracy: 0.9884 - val_loss: 0.4887 - val_accuracy: 0.9545\n",
      "Epoch 81/128\n",
      "275/275 [==============================] - 12s 44ms/step - loss: 0.3547 - accuracy: 0.9904 - val_loss: 0.4755 - val_accuracy: 0.9599\n",
      "Epoch 82/128\n",
      "275/275 [==============================] - 12s 44ms/step - loss: 0.3481 - accuracy: 0.9918 - val_loss: 0.4800 - val_accuracy: 0.9554\n",
      "Epoch 83/128\n",
      "275/275 [==============================] - 12s 44ms/step - loss: 0.3570 - accuracy: 0.9898 - val_loss: 0.4628 - val_accuracy: 0.9608\n",
      "Epoch 84/128\n",
      "275/275 [==============================] - 12s 44ms/step - loss: 0.3570 - accuracy: 0.9886 - val_loss: 0.4661 - val_accuracy: 0.9608\n",
      "Epoch 85/128\n",
      "275/275 [==============================] - 12s 44ms/step - loss: 0.3464 - accuracy: 0.9904 - val_loss: 0.4747 - val_accuracy: 0.9608\n",
      "Epoch 86/128\n",
      "275/275 [==============================] - 12s 44ms/step - loss: 0.3407 - accuracy: 0.9916 - val_loss: 0.4491 - val_accuracy: 0.9617\n",
      "Epoch 87/128\n",
      "275/275 [==============================] - 12s 44ms/step - loss: 0.3418 - accuracy: 0.9902 - val_loss: 0.4533 - val_accuracy: 0.9627\n",
      "Epoch 88/128\n",
      "275/275 [==============================] - 12s 44ms/step - loss: 0.3385 - accuracy: 0.9911 - val_loss: 0.4803 - val_accuracy: 0.9572\n",
      "Epoch 89/128\n",
      "275/275 [==============================] - 12s 44ms/step - loss: 0.3332 - accuracy: 0.9934 - val_loss: 0.4684 - val_accuracy: 0.9581\n",
      "Epoch 90/128\n",
      "275/275 [==============================] - 12s 44ms/step - loss: 0.3323 - accuracy: 0.9936 - val_loss: 0.5010 - val_accuracy: 0.9444\n",
      "Epoch 91/128\n",
      "275/275 [==============================] - 12s 44ms/step - loss: 0.3366 - accuracy: 0.9909 - val_loss: 0.4746 - val_accuracy: 0.9572\n",
      "Epoch 92/128\n",
      "275/275 [==============================] - 12s 44ms/step - loss: 0.3287 - accuracy: 0.9932 - val_loss: 0.4750 - val_accuracy: 0.9645\n",
      "Epoch 93/128\n",
      "275/275 [==============================] - 12s 44ms/step - loss: 0.3261 - accuracy: 0.9941 - val_loss: 0.4467 - val_accuracy: 0.9654\n",
      "Epoch 94/128\n",
      "275/275 [==============================] - 12s 45ms/step - loss: 0.3239 - accuracy: 0.9918 - val_loss: 0.4569 - val_accuracy: 0.9617\n",
      "Epoch 95/128\n",
      "275/275 [==============================] - 12s 44ms/step - loss: 0.3274 - accuracy: 0.9909 - val_loss: 0.4802 - val_accuracy: 0.9536\n",
      "Epoch 96/128\n",
      "275/275 [==============================] - 12s 44ms/step - loss: 0.3213 - accuracy: 0.9913 - val_loss: 0.4322 - val_accuracy: 0.9617\n",
      "Epoch 97/128\n",
      "275/275 [==============================] - 12s 44ms/step - loss: 0.3242 - accuracy: 0.9907 - val_loss: 0.4319 - val_accuracy: 0.9627\n",
      "Epoch 98/128\n",
      "275/275 [==============================] - 12s 44ms/step - loss: 0.3162 - accuracy: 0.9927 - val_loss: 0.4820 - val_accuracy: 0.9517\n",
      "Epoch 99/128\n",
      "275/275 [==============================] - 12s 44ms/step - loss: 0.3148 - accuracy: 0.9936 - val_loss: 0.4562 - val_accuracy: 0.9590\n",
      "Epoch 100/128\n",
      "275/275 [==============================] - 12s 44ms/step - loss: 0.3079 - accuracy: 0.9943 - val_loss: 0.4278 - val_accuracy: 0.9617\n",
      "Epoch 101/128\n",
      "275/275 [==============================] - 12s 44ms/step - loss: 0.3068 - accuracy: 0.9939 - val_loss: 0.4376 - val_accuracy: 0.9599\n",
      "Epoch 102/128\n",
      "275/275 [==============================] - 12s 44ms/step - loss: 0.3036 - accuracy: 0.9943 - val_loss: 0.4288 - val_accuracy: 0.9581\n",
      "Epoch 103/128\n",
      "275/275 [==============================] - 12s 44ms/step - loss: 0.3015 - accuracy: 0.9952 - val_loss: 0.4267 - val_accuracy: 0.9599\n",
      "Epoch 104/128\n",
      "275/275 [==============================] - 12s 44ms/step - loss: 0.3014 - accuracy: 0.9945 - val_loss: 0.4283 - val_accuracy: 0.9636\n",
      "Epoch 105/128\n",
      "275/275 [==============================] - 12s 44ms/step - loss: 0.2967 - accuracy: 0.9941 - val_loss: 0.4427 - val_accuracy: 0.9590\n",
      "Epoch 106/128\n",
      "275/275 [==============================] - 12s 44ms/step - loss: 0.3057 - accuracy: 0.9916 - val_loss: 0.4453 - val_accuracy: 0.9517\n",
      "Epoch 107/128\n",
      "275/275 [==============================] - 12s 44ms/step - loss: 0.2933 - accuracy: 0.9936 - val_loss: 0.4374 - val_accuracy: 0.9581\n",
      "Epoch 108/128\n",
      "275/275 [==============================] - 12s 44ms/step - loss: 0.2978 - accuracy: 0.9927 - val_loss: 0.4377 - val_accuracy: 0.9554\n",
      "Epoch 109/128\n",
      "275/275 [==============================] - 12s 44ms/step - loss: 0.2978 - accuracy: 0.9909 - val_loss: 0.4328 - val_accuracy: 0.9617\n",
      "Epoch 110/128\n",
      "275/275 [==============================] - 12s 44ms/step - loss: 0.2881 - accuracy: 0.9943 - val_loss: 0.4391 - val_accuracy: 0.9599\n",
      "Epoch 111/128\n",
      "275/275 [==============================] - 12s 44ms/step - loss: 0.2907 - accuracy: 0.9918 - val_loss: 0.4075 - val_accuracy: 0.9627\n",
      "Epoch 112/128\n",
      "275/275 [==============================] - 12s 44ms/step - loss: 0.2842 - accuracy: 0.9952 - val_loss: 0.4212 - val_accuracy: 0.9617\n",
      "Epoch 113/128\n"
     ]
    },
    {
     "name": "stdout",
     "output_type": "stream",
     "text": [
      "275/275 [==============================] - 12s 44ms/step - loss: 0.2875 - accuracy: 0.9941 - val_loss: 0.4207 - val_accuracy: 0.9627\n",
      "Epoch 114/128\n",
      "275/275 [==============================] - 12s 44ms/step - loss: 0.2844 - accuracy: 0.9929 - val_loss: 0.4207 - val_accuracy: 0.9617\n",
      "Epoch 115/128\n",
      "275/275 [==============================] - 12s 44ms/step - loss: 0.2897 - accuracy: 0.9927 - val_loss: 0.4799 - val_accuracy: 0.9508\n",
      "Epoch 116/128\n",
      "275/275 [==============================] - 12s 44ms/step - loss: 0.2808 - accuracy: 0.9936 - val_loss: 0.4309 - val_accuracy: 0.9608\n",
      "Epoch 117/128\n",
      "275/275 [==============================] - 12s 44ms/step - loss: 0.2828 - accuracy: 0.9923 - val_loss: 0.4408 - val_accuracy: 0.9554\n",
      "Epoch 118/128\n",
      "275/275 [==============================] - 12s 44ms/step - loss: 0.2768 - accuracy: 0.9945 - val_loss: 0.4234 - val_accuracy: 0.9590\n",
      "Epoch 119/128\n",
      "275/275 [==============================] - 12s 44ms/step - loss: 0.2778 - accuracy: 0.9932 - val_loss: 0.4447 - val_accuracy: 0.9572\n",
      "Epoch 120/128\n",
      "275/275 [==============================] - 12s 44ms/step - loss: 0.2707 - accuracy: 0.9966 - val_loss: 0.4306 - val_accuracy: 0.9554\n",
      "Epoch 121/128\n",
      "275/275 [==============================] - 12s 44ms/step - loss: 0.2660 - accuracy: 0.9959 - val_loss: 0.3942 - val_accuracy: 0.9608\n",
      "Epoch 122/128\n",
      "275/275 [==============================] - 12s 44ms/step - loss: 0.2744 - accuracy: 0.9925 - val_loss: 0.4097 - val_accuracy: 0.9608\n",
      "Epoch 123/128\n",
      "275/275 [==============================] - 12s 44ms/step - loss: 0.2689 - accuracy: 0.9943 - val_loss: 0.4343 - val_accuracy: 0.9572\n",
      "Epoch 124/128\n",
      "275/275 [==============================] - 12s 44ms/step - loss: 0.2674 - accuracy: 0.9948 - val_loss: 0.3984 - val_accuracy: 0.9599\n",
      "Epoch 125/128\n",
      "275/275 [==============================] - 13s 45ms/step - loss: 0.2626 - accuracy: 0.9961 - val_loss: 0.4242 - val_accuracy: 0.9590\n",
      "Epoch 126/128\n",
      "275/275 [==============================] - 12s 45ms/step - loss: 0.2586 - accuracy: 0.9964 - val_loss: 0.4052 - val_accuracy: 0.9617\n",
      "Epoch 127/128\n",
      "275/275 [==============================] - 12s 44ms/step - loss: 0.2616 - accuracy: 0.9954 - val_loss: 0.3858 - val_accuracy: 0.9617\n",
      "Epoch 128/128\n",
      "275/275 [==============================] - 12s 44ms/step - loss: 0.2590 - accuracy: 0.9943 - val_loss: 0.3911 - val_accuracy: 0.9617\n",
      "138/138 [==============================] - 2s 13ms/step - loss: 0.2442 - accuracy: 1.0000\n"
     ]
    },
    {
     "data": {
      "text/plain": [
       "[0.24416591227054596, 1.0]"
      ]
     },
     "metadata": {},
     "output_type": "display_data"
    },
    {
     "name": "stdout",
     "output_type": "stream",
     "text": [
      "35/35 [==============================] - 0s 13ms/step - loss: 0.3911 - accuracy: 0.9617\n"
     ]
    },
    {
     "data": {
      "text/plain": [
       "[0.3910839557647705, 0.9617486596107483]"
      ]
     },
     "metadata": {},
     "output_type": "display_data"
    },
    {
     "name": "stdout",
     "output_type": "stream",
     "text": [
      "12/12 [==============================] - 0s 13ms/step - loss: 0.4326 - accuracy: 0.9508\n"
     ]
    },
    {
     "data": {
      "text/plain": [
       "[0.4325976073741913, 0.9508196711540222]"
      ]
     },
     "metadata": {},
     "output_type": "display_data"
    }
   ],
   "source": [
    "str_new = strided_network.build(width=64, height=64, depth=1, classes=1, reg=regularizers.l2(0.0005))\n",
    "opt = keras.optimizers.Adam(learning_rate=1e-4, decay=1e-4/50)\n",
    "str_new.compile(loss='binary_crossentropy',\n",
    "              optimizer=opt,\n",
    "              metrics=['accuracy'])\n",
    "str_new_history = str_new.fit(new_train_images64,\n",
    "                          new_train_y64,\n",
    "                          epochs=128,\n",
    "                          batch_size=16,\n",
    "                          validation_data=(new_val_images64,\n",
    "                                           new_val_y64),\n",
    "                          verbose=1)\n",
    "str_new_results_train = str_new.evaluate(new_train_images64, new_train_y64)\n",
    "display(str_new_results_train)\n",
    "str_new_results_val = str_new.evaluate(new_val_images64, new_val_y64)\n",
    "display(str_new_results_val)\n",
    "str_new_results_test = str_new.evaluate(new_test_images64, new_test_y64)\n",
    "display(str_new_results_test)"
   ]
  },
  {
   "cell_type": "code",
   "execution_count": 134,
   "metadata": {},
   "outputs": [
    {
     "name": "stdout",
     "output_type": "stream",
     "text": [
      "138/138 [==============================] - 2s 13ms/step - loss: 0.2442 - accuracy: 1.0000\n"
     ]
    },
    {
     "data": {
      "text/plain": [
       "[0.24416591227054596, 1.0]"
      ]
     },
     "metadata": {},
     "output_type": "display_data"
    },
    {
     "name": "stdout",
     "output_type": "stream",
     "text": [
      "35/35 [==============================] - 0s 13ms/step - loss: 0.3911 - accuracy: 0.9617\n"
     ]
    },
    {
     "data": {
      "text/plain": [
       "[0.3910839557647705, 0.9617486596107483]"
      ]
     },
     "metadata": {},
     "output_type": "display_data"
    },
    {
     "name": "stdout",
     "output_type": "stream",
     "text": [
      "12/12 [==============================] - 0s 13ms/step - loss: 0.4326 - accuracy: 0.9508\n"
     ]
    },
    {
     "data": {
      "text/plain": [
       "[0.4325976073741913, 0.9508196711540222]"
      ]
     },
     "metadata": {},
     "output_type": "display_data"
    }
   ],
   "source": [
    "str_new_results_train = str_new.evaluate(new_train_images64, new_train_y64)\n",
    "display(str_new_results_train)\n",
    "str_new_results_val = str_new.evaluate(new_val_images64, new_val_y64)\n",
    "display(str_new_results_val)\n",
    "str_new_results_test = str_new.evaluate(new_test_images64, new_test_y64)\n",
    "display(str_new_results_test)"
   ]
  },
  {
   "cell_type": "code",
   "execution_count": 135,
   "metadata": {},
   "outputs": [
    {
     "name": "stdout",
     "output_type": "stream",
     "text": [
      "12/12 - 0s - loss: 0.4326 - accuracy: 0.9508\n",
      "12/12 - 0s - loss: 0.4326 - accuracy: 0.9508\n",
      "12/12 - 0s - loss: 0.4326 - accuracy: 0.9508\n",
      "12/12 - 0s - loss: 0.4326 - accuracy: 0.9508\n"
     ]
    },
    {
     "data": {
      "text/plain": [
       "''"
      ]
     },
     "execution_count": 135,
     "metadata": {},
     "output_type": "execute_result"
    },
    {
     "data": {
      "image/png": "[encoded data removed]",
      "text/plain": [
       "<Figure size 921.6x691.2 with 1 Axes>"
      ]
     },
     "metadata": {
      "needs_background": "light"
     },
     "output_type": "display_data"
    }
   ],
   "source": [
    "fig, ax = plt.subplots(figsize=(12.8, 9.6))\n",
    "\n",
    "ax.bar(('Correct', 'Incorrect'),\n",
    "       (str_new.evaluate(new_test_images64,  new_test_y64, verbose=2)[1],\n",
    "        1 - str_new.evaluate(new_test_images64,  new_test_y64, verbose=2)[1]),\n",
    "       edgecolor='black')\n",
    "ax.set_xlabel('Classification Accuracy',\n",
    "              labelpad=20,\n",
    "              fontsize=16)\n",
    "ax.set_ylabel('Percent of Predictions',\n",
    "              labelpad=20,\n",
    "              fontsize=16)\n",
    "ax.set_title('Classification Accuracy vs Percent of Predictions',\n",
    "             pad=20,\n",
    "             fontsize=20)\n",
    "ax.set_xticks((0, 1))\n",
    "ax.set_xticklabels(['Correct',\n",
    "                    'Incorrect'],)\n",
    "ax.tick_params(axis='both',\n",
    "               which='major',\n",
    "               labelsize=12)\n",
    "ax.set_facecolor('0.75')\n",
    "plt.axhline(y=1,\n",
    "            color='black')\n",
    "plt.text(x=0,\n",
    "         y=(str_new.evaluate(new_test_images64, new_test_y64, verbose=2)[1]) - 0.025,\n",
    "         s='95%',\n",
    "         fontsize=12,\n",
    "         ha='center')\n",
    "plt.text(x=1,\n",
    "         y=(1 - (str_new.evaluate(new_test_images64, new_test_y64, verbose=2)[1])) - 0.025,\n",
    "         s='5%',\n",
    "         fontsize=12,\n",
    "         ha='center')\n",
    "plt.text(x=.5,\n",
    "         y=.975,\n",
    "         s='Total = 100%',\n",
    "         fontsize=12,\n",
    "         ha='center')\n",
    "\n",
    ";"
   ]
  },
  {
   "cell_type": "markdown",
   "metadata": {},
   "source": [
    "Achieving an accuracy of 95% on unseen data, we feel satisfied that this model performs well enough for our purposes and are proud of our results."
   ]
  },
  {
   "cell_type": "markdown",
   "metadata": {},
   "source": [
    "## Evaluation\n",
    "An evaluation of how well our work solves the organization's stated problems.\n",
    "\n",
    "***\n",
    "\n",
    "Questions to consider:\n",
    "* How do you interpret the results?\n",
    "    * Based on the accuracy score of our final model, we can say that the model, called PneuNet in presentation,<br>\n",
    "    can accurately classify a patient as being healthy or having pneumonia 95% of the time.\n",
    "* How well does your model fit your data? How much better is this than your baseline model?\n",
    "    * The model fits the data quite well. It is significantly better than the baseline model.\n",
    "* How confident are you that your results would generalize beyond the data you have?\n",
    "    * We are quite confident that our results would generalize beyond the data that we have.\n",
    "    * It is, however, important to note that the images the network was trained on were already thoroughly quality controlled,<br>so new images would likely have to be of a similar level of image pre-processing to be usable by the network.\n",
    "* How confident are you that this model would benefit the organization if put into use?\n",
    "    * We are very confident that this model would benefit the communities it serves if put into use.\n",
    "    * If this model was deployed in areas with limited medical expertise,<br>it could dramatically reduce the time it takes to accurately identify children with pneumonia.\n",
    "\n",
    "***"
   ]
  },
  {
   "cell_type": "markdown",
   "metadata": {},
   "source": [
    "## Conclusions\n",
    "A provision of our conclusions about the work we've done, including any limitations or next steps.\n",
    "\n",
    "***\n",
    "\n",
    "Questions to consider:\n",
    "* What would you recommend the business do as a result of this work?\n",
    "    * We recommend the organization deploy the model using chest x-rays of children,<br>\n",
    "    in order to determine whether they have pneumonia.\n",
    "* What are some reasons why your analysis might not fully solve the business problem?\n",
    "    * Despite its accuracy, PneuNet is not perfect. It will incorrectly classify children 5% of the time,<br>\n",
    "    which is still a high number of children in the context of hundreds of thousands of patients.\n",
    "* What else could you do in the future to improve this project?\n",
    "    * In the future, we would like to deploy more robust models with a proper train/test/validation split.\n",
    "\n",
    "***"
   ]
  }
 ],
 "metadata": {
  "kernelspec": {
   "display_name": "Python 3",
   "language": "python",
   "name": "python3"
  },
  "language_info": {
   "codemirror_mode": {
    "name": "ipython",
    "version": 3
   },
   "file_extension": ".py",
   "mimetype": "text/x-python",
   "name": "python",
   "nbconvert_exporter": "python",
   "pygments_lexer": "ipython3",
   "version": "3.8.5"
  }
 },
 "nbformat": 4,
 "nbformat_minor": 4
}
